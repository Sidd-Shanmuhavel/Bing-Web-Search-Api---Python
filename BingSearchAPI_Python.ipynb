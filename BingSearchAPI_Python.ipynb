{
 "cells": [
  {
   "cell_type": "code",
   "execution_count": 15,
   "metadata": {
    "executionInfo": {
     "elapsed": 537,
     "status": "ok",
     "timestamp": 1631904327837,
     "user": {
      "displayName": "Siddhartha Shanmuhavel",
      "photoUrl": "https://lh3.googleusercontent.com/a/default-user=s64",
      "userId": "05346328597111107310"
     },
     "user_tz": -60
    },
    "id": "QeTtKc0A1Kb9"
   },
   "outputs": [],
   "source": []
  },
  {
   "cell_type": "code",
   "execution_count": 16,
   "metadata": {
    "executionInfo": {
     "elapsed": 13,
     "status": "ok",
     "timestamp": 1631904328572,
     "user": {
      "displayName": "Siddhartha Shanmuhavel",
      "photoUrl": "https://lh3.googleusercontent.com/a/default-user=s64",
      "userId": "05346328597111107310"
     },
     "user_tz": -60
    },
    "id": "c7eVOcDK-kBM"
   },
   "outputs": [],
   "source": [
    "import os\n",
    "import json\n",
    "import os \n",
    "from pprint import pprint\n",
    "import requests\n",
    "import http.client, urllib.request, urllib.parse, urllib.error, base64\n",
    "import json"
   ]
  },
  {
   "cell_type": "code",
   "execution_count": 75,
   "metadata": {
    "executionInfo": {
     "elapsed": 355,
     "status": "ok",
     "timestamp": 1631907041669,
     "user": {
      "displayName": "Siddhartha Shanmuhavel",
      "photoUrl": "https://lh3.googleusercontent.com/a/default-user=s64",
      "userId": "05346328597111107310"
     },
     "user_tz": -60
    },
    "id": "e70qKZjk_vBQ"
   },
   "outputs": [],
   "source": [
    "def search(search_term):\n",
    "\n",
    "  #Provide your subscription key\n",
    "  subscription_key = \"\"\n",
    "  assert subscription_key\n",
    "\n",
    "  headers = {\"Ocp-Apim-Subscription-Key\": subscription_key}\n",
    "  params = {\"q\": search_term, \"textDecorations\": True, \"textFormat\": \"HTML\"}\n",
    "  search_url = \"https://api.bing.microsoft.com/v7.0/search\"\n",
    "\n",
    "  try:\n",
    "      response = requests.get(search_url, headers=headers, params=params)\n",
    "      response.raise_for_status()\n",
    "      search_results = response.json()\n",
    "  except Exception as e:\n",
    "      raise e\n",
    "  finally:\n",
    "      return search_results"
   ]
  },
  {
   "cell_type": "code",
   "execution_count": 76,
   "metadata": {
    "colab": {
     "base_uri": "https://localhost:8080/",
     "height": 406
    },
    "executionInfo": {
     "elapsed": 1014,
     "status": "ok",
     "timestamp": 1631907046157,
     "user": {
      "displayName": "Siddhartha Shanmuhavel",
      "photoUrl": "https://lh3.googleusercontent.com/a/default-user=s64",
      "userId": "05346328597111107310"
     },
     "user_tz": -60
    },
    "id": "oNsjXg9e_21S",
    "outputId": "7949ac98-f629-4fe4-97f8-9d72570c8920"
   },
   "outputs": [
    {
     "data": {
      "text/html": [
       "<table><tr>\n",
       "                       <td><a href=\"https://cloud.google.com/speech-to-text/\">Speech-to-Text: Automatic Speech Recognition | Google Cloud</a></td>\n",
       "                       <td>Support your global user base with <b>Speech</b>-to-<b>Text</b>’s extensive language support in over 125 languages and variants. Streaming <b>speech</b> recognition. Receive real-time <b>speech</b> recognition results as the API processes the audio input streamed from your application’s microphone or sent from a prerecorded audio file (inline or through <b>Cloud</b> Storage).</td>\n",
       "                     </tr>\n",
       "<tr>\n",
       "                       <td><a href=\"https://cloud.google.com/speech-to-text/pricing\">Pricing | Cloud Speech-to-Text | Google Cloud</a></td>\n",
       "                       <td>Please submit a <b>Speech</b>-to-<b>Text</b> quota request for your project. <b>Google</b> <b>Cloud</b> Platform costs. If you store audio files to be recognized in <b>Google</b> <b>Cloud</b> Storage, or use other <b>Google</b> <b>Cloud</b> Platform resources in tandem with <b>Speech</b>-to-<b>Text</b>, such as <b>Google</b> App Engine instances, then you will also be billed for the use of those services.</td>\n",
       "                     </tr>\n",
       "<tr>\n",
       "                       <td><a href=\"https://cloud.google.com/speech-to-text/docs/how-to\">How-to guides | Cloud Speech-to-Text ... - Google Cloud</a></td>\n",
       "                       <td>Specify that <b>Cloud</b> <b>Speech</b>-to-<b>Text</b> indicate a value of accuracy, or confidence level, for individual words in a transcription. Separating different speakers. Get labels for different speakers in audio data transcribed by <b>Cloud</b> <b>Speech</b>-to-<b>Text</b>. Detecting language spoken automatically</td>\n",
       "                     </tr>\n",
       "<tr>\n",
       "                       <td><a href=\"https://cloud.google.com/text-to-speech/\">Text-to-Speech: Lifelike Speech Synthesis | Google Cloud</a></td>\n",
       "                       <td><b>Google</b> <b>Cloud</b> <b>Text</b>-to-<b>Speech</b> enables developers to synthesize natural-sounding <b>speech</b> with 100+ voices, available in multiple languages and variants. It applies DeepMind’s groundbreaking research in WaveNet and <b>Google</b>’s powerful neural networks to deliver the highest fidelity possible. As an easy-to-use API, you can create lifelike ...</td>\n",
       "                     </tr>\n",
       "<tr>\n",
       "                       <td><a href=\"https://awesomeopensource.com/project/brahmnoor/GoogleCloudSpeechToText?mode=...\">Google Cloud Speech-to-Text based on NodeJS and SocketIO ...</a></td>\n",
       "                       <td><b>Google Cloud Speech</b>-to-<b>Text</b> based on NodeJS and SocketIO for Real Time Detection. This is a project based on NodeJS and SocketIO for real-time detection of <b>speech</b> to <b>text</b>. This supports all the languages in <b>Google</b> <b>Cloud</b> <b>Speech</b> API including Cantonese and Chinese. Setup.</td>\n",
       "                     </tr>\n",
       "<tr>\n",
       "                       <td><a href=\"https://sourceforge.net/software/product/Google-Cloud-Speech-to-Text/integrations/\">Google Cloud Speech-to-Text Integrations</a></td>\n",
       "                       <td>View a list of <b>Google Cloud Speech</b>-to-<b>Text</b> integrations currently available and learn what software integrates with <b>Google Cloud Speech</b>-to-<b>Text</b> in 2021. Explore reviews and pricing of software that integrates with <b>Google Cloud Speech</b>-to-<b>Text</b>.</td>\n",
       "                     </tr>\n",
       "<tr>\n",
       "                       <td><a href=\"https://pypi.org/project/google-cloud-speech/\">google-cloud-speech · PyPI</a></td>\n",
       "                       <td><b>Google Cloud Speech</b> API client library. The <b>Cloud</b> <b>Speech</b> API enables developers to convert audio to <b>text</b> by applying powerful neural network models. The API recognizes over 80 languages and variants, to support your global user base.</td>\n",
       "                     </tr>\n",
       "<tr>\n",
       "                       <td><a href=\"https://github.com/digital-alicorn/google-speech-to-text\">GitHub - digital-alicorn/google-speech-to-text: Demo for ...</a></td>\n",
       "                       <td>About. Demo for custom implementation of <b>Google</b> <b>Cloud</b> <b>Speech</b> Recognition. (Included API Key will not be valid forever) Resources</td>\n",
       "                     </tr>\n",
       "<tr>\n",
       "                       <td><a href=\"https://stackoverflow.com/questions/69182477/when-should-i-use-the-enhanced-video-model-with-google-clouds-speech-to-text-ap\">When should I use the enhanced video model with Google ...</a></td>\n",
       "                       <td>When should I use the enhanced video model with <b>Google</b> <b>Cloud</b>&#39;s <b>speech</b> to <b>text</b> api? - Stack Overflow. The enhanced model for phone calls means something to me because there is generally a particular quality/sound to the audio in a phone call. I don&#39;t know what to expect with the &#39;video&#39; enhanced model, however, and there seems to be no ...</td>\n",
       "                     </tr>\n",
       "<tr>\n",
       "                       <td><a href=\"https://slashdot.org/software/comparison/Azure-Speech-Services-vs-Google-Cloud-Speech-to-Text/\">Compare Azure Speech Services vs. Google Cloud Speech-to-Text</a></td>\n",
       "                       <td>Compare Azure <b>Speech</b> Services vs. <b>Google Cloud Speech</b>-to-<b>Text</b> in 2021 by cost, reviews, features, integrations, deployment, target market, support options, trial offers, training options, years in business, region, and more using the chart below.</td>\n",
       "                     </tr></table>"
      ],
      "text/plain": [
       "<IPython.core.display.HTML object>"
      ]
     },
     "execution_count": 76,
     "metadata": {},
     "output_type": "execute_result"
    }
   ],
   "source": [
    "search_term = \"Google Cloud Speech to Text\"\n",
    "\n",
    "res = search(search_term)\n",
    "rows = \"\\n\".join([\"\"\"<tr>\n",
    "                       <td><a href=\\\"{0}\\\">{1}</a></td>\n",
    "                       <td>{2}</td>\n",
    "                     </tr>\"\"\".format(v[\"url\"], v[\"name\"], v[\"snippet\"])\n",
    "                  for v in res[\"webPages\"][\"value\"]])\n",
    "HTML(\"<table>{0}</table>\".format(rows))"
   ]
  },
  {
   "cell_type": "code",
   "execution_count": 65,
   "metadata": {
    "colab": {
     "base_uri": "https://localhost:8080/"
    },
    "executionInfo": {
     "elapsed": 358,
     "status": "ok",
     "timestamp": 1631906827076,
     "user": {
      "displayName": "Siddhartha Shanmuhavel",
      "photoUrl": "https://lh3.googleusercontent.com/a/default-user=s64",
      "userId": "05346328597111107310"
     },
     "user_tz": -60
    },
    "id": "sLfvmMO7NN7J",
    "outputId": "1026225a-8311-4ea0-a200-ddca63e828dd"
   },
   "outputs": [
    {
     "name": "stdout",
     "output_type": "stream",
     "text": [
      "_type           : SearchResponse\n",
      "queryContext    : {'originalQuery': 'Google CLoud Speech to Text'}\n",
      "webPages        : {'webSearchUrl': 'https://www.bing.com/search?q=Google+CLoud+Speech+to+Text', 'totalEstimatedMatches': 2550000, 'value': [{'id': 'https://api.bing.microsoft.com/api/v7/#WebPages.0', 'name': 'Speech-to-Text: Automatic Speech Recognition | Google Cloud', 'url': 'https://cloud.google.com/speech-to-text/', 'isFamilyFriendly': True, 'displayUrl': 'https://<b>cloud</b>.<b>google</b>.com/<b>speech</b>-<b>to-text</b>', 'snippet': 'Support your global user base with <b>Speech</b>-to-<b>Text</b>’s extensive language support in over 125 languages and variants. Streaming <b>speech</b> recognition. Receive real-time <b>speech</b> recognition results as the API processes the audio input streamed from your application’s microphone or sent from a prerecorded audio file (inline or through <b>Cloud</b> Storage).', 'dateLastCrawled': '2021-09-14T14:42:00.0000000Z', 'language': 'en', 'isNavigational': True}, {'id': 'https://api.bing.microsoft.com/api/v7/#WebPages.1', 'name': 'Pricing | Cloud Speech-to-Text | Google Cloud', 'url': 'https://cloud.google.com/speech-to-text/pricing', 'isFamilyFriendly': True, 'displayUrl': 'https://<b>cloud</b>.<b>google</b>.com/<b>speech</b>-<b>to-text</b>/pricing', 'snippet': 'Please submit a <b>Speech</b>-to-<b>Text</b> quota request for your project. <b>Google</b> <b>Cloud</b> Platform costs. If you store audio files to be recognized in <b>Google</b> <b>Cloud</b> Storage, or use other <b>Google</b> <b>Cloud</b> Platform resources in tandem with <b>Speech</b>-to-<b>Text</b>, such as <b>Google</b> App Engine instances, then you will also be billed for the use of those services.', 'dateLastCrawled': '2021-09-12T09:31:00.0000000Z', 'language': 'en', 'isNavigational': False}, {'id': 'https://api.bing.microsoft.com/api/v7/#WebPages.2', 'name': 'Language support | Cloud Speech-to-Text Documentation ...', 'url': 'https://cloud.google.com/speech-to-text/docs/languages', 'isFamilyFriendly': True, 'displayUrl': 'https://<b>cloud</b>.<b>google</b>.com/<b>speech</b>-<b>to-text</b>/docs/languages', 'snippet': '<b>Cloud</b> <b>Speech</b>-to-<b>Text</b> offers multiple recognition models , each tuned to different audio types. The default and command and search recognition models support all available languages. The command and search model is optimized for short audio clips, such as voice commands or voice searches. The default model can be used to transcribe any audio type.', 'dateLastCrawled': '2021-09-13T14:24:00.0000000Z', 'language': 'en', 'isNavigational': False}, {'id': 'https://api.bing.microsoft.com/api/v7/#WebPages.3', 'name': 'Text-to-Speech: Lifelike Speech Synthesis | Google Cloud', 'url': 'https://cloud.google.com/text-to-speech?hl=vi', 'isFamilyFriendly': True, 'displayUrl': 'https://<b>cloud</b>.<b>google</b>.com/<b>text</b>-to-<b>speech</b>?hl=vi', 'snippet': 'For Standard (non-WaveNet) voices, the first 4 million characters are free each month. After the free tier has been reached, <b>Text</b>-to-<b>Speech</b> is priced per 1 million characters of <b>text</b> processed. If you pay in a currency other than USD, the prices listed in your currency on <b>Google</b> <b>Cloud</b> SKUs apply.', 'dateLastCrawled': '2021-09-14T21:26:00.0000000Z', 'language': 'en', 'isNavigational': False}, {'id': 'https://api.bing.microsoft.com/api/v7/#WebPages.4', 'name': 'Google Cloud Speech-to-Text based on NodeJS and SocketIO ...', 'url': 'https://awesomeopensource.com/project/brahmnoor/GoogleCloudSpeechToText?mode=...', 'isFamilyFriendly': True, 'displayUrl': 'https://awesomeopensource.com/project/brahmnoor/<b>GoogleCloudSpeechToText</b>?mode=...', 'snippet': '<b>Google Cloud Speech</b>-to-<b>Text</b> based on NodeJS and SocketIO for Real Time Detection. This is a project based on NodeJS and SocketIO for real-time detection of <b>speech</b> to <b>text</b>. This supports all the languages in <b>Google</b> <b>Cloud</b> <b>Speech</b> API including Cantonese and Chinese. Setup.', 'dateLastCrawled': '2021-09-15T04:33:00.0000000Z', 'language': 'en', 'isNavigational': False}, {'id': 'https://api.bing.microsoft.com/api/v7/#WebPages.5', 'name': 'google-cloud-speech · PyPI', 'url': 'https://pypi.org/project/google-cloud-speech/', 'isFamilyFriendly': True, 'displayUrl': 'https://pypi.org/project/<b>google-cloud-speech</b>', 'snippet': '<b>Google Cloud Speech</b> API client library. The <b>Cloud</b> <b>Speech</b> API enables developers to convert audio to <b>text</b> by applying powerful neural network models. The API recognizes over 80 languages and variants, to support your global user base.', 'dateLastCrawled': '2021-09-13T18:29:00.0000000Z', 'language': 'en', 'isNavigational': False}, {'id': 'https://api.bing.microsoft.com/api/v7/#WebPages.6', 'name': 'How to use Google Cloud Speech to Text API Asynchronously ...', 'url': 'https://www.youtube.com/watch?v=jHrIi71pGvs', 'isFamilyFriendly': True, 'displayUrl': 'https://www.youtube.com/watch?v=jHrIi71pGvs', 'snippet': 'I coded up an example of using <b>Google</b> <b>Cloud</b>&#39;s <b>Speech</b> to <b>Text</b> API asynchronously. I added NAudio&#39;s Peak Detection code to achieve hands free voice activation ...', 'dateLastCrawled': '2021-05-14T18:11:00.0000000Z', 'language': 'en', 'isNavigational': False}, {'id': 'https://api.bing.microsoft.com/api/v7/#WebPages.7', 'name': 'GitHub - digital-alicorn/google-speech-to-text: Demo for ...', 'url': 'https://github.com/digital-alicorn/google-speech-to-text', 'isFamilyFriendly': True, 'displayUrl': 'https://github.com/digital-alicorn/<b>google</b>-<b>speech</b>-<b>to-text</b>', 'snippet': 'About. Demo for custom implementation of <b>Google</b> <b>Cloud</b> <b>Speech</b> Recognition. (Included API Key will not be valid forever) Resources', 'dateLastCrawled': '2021-09-15T08:57:00.0000000Z', 'language': 'en', 'isNavigational': False}, {'id': 'https://api.bing.microsoft.com/api/v7/#WebPages.8', 'name': 'Best Google Cloud Speech-to-Text Alternatives &amp; Competitors', 'url': 'https://sourceforge.net/software/product/Google-Cloud-Speech-to-Text/alternatives', 'isFamilyFriendly': True, 'displayUrl': 'https://sourceforge.net/software/product/<b>Google-Cloud-Speech-to-Text</b>/alternatives', 'snippet': 'Compare <b>Google Cloud Speech</b>-to-<b>Text</b> alternatives for your business or organization using the curated list below. SourceForge ranks the best alternatives to <b>Google Cloud Speech</b>-to-<b>Text</b> in 2021. Compare features, ratings, user reviews, pricing, and more from <b>Google Cloud Speech</b>-to-<b>Text</b> competitors and alternatives in order to make an informed ...', 'dateLastCrawled': '2021-09-14T02:01:00.0000000Z', 'language': 'en', 'isNavigational': False}, {'id': 'https://api.bing.microsoft.com/api/v7/#WebPages.9', 'name': 'Compare Azure Speech Services vs. Google Cloud Speech-to-Text', 'url': 'https://slashdot.org/software/comparison/Azure-Speech-Services-vs-Google-Cloud-Speech-to-Text/', 'isFamilyFriendly': True, 'displayUrl': 'https://slashdot.org/.../comparison/Azure-<b>Speech</b>-Services-vs-<b>Google-Cloud-Speech-to-Text</b>', 'snippet': 'Compare Azure <b>Speech</b> Services vs. <b>Google Cloud Speech</b>-to-<b>Text</b> in 2021 by cost, reviews, features, integrations, deployment, target market, support options, trial offers, training options, years in business, region, and more using the chart below.', 'dateLastCrawled': '2021-09-14T01:42:00.0000000Z', 'language': 'en', 'isNavigational': False}], 'someResultsRemoved': True}\n",
      "relatedSearches : {'id': 'https://api.bing.microsoft.com/api/v7/#RelatedSearches', 'value': [{'text': 'google transcript audio', 'displayText': 'google <b>transcript</b> <b>audio</b>', 'webSearchUrl': 'https://www.bing.com/search?q=google+transcript+audio'}, {'text': 'google transcript', 'displayText': 'google <b>transcript</b>', 'webSearchUrl': 'https://www.bing.com/search?q=google+transcript'}, {'text': 'cloud text to speech', 'displayText': 'cloud text to speech', 'webSearchUrl': 'https://www.bing.com/search?q=cloud+text+to+speech'}, {'text': 'python text to speech', 'displayText': '<b>python</b> text to speech', 'webSearchUrl': 'https://www.bing.com/search?q=python+text+to+speech'}, {'text': 'google speak', 'displayText': 'google <b>speak</b>', 'webSearchUrl': 'https://www.bing.com/search?q=google+speak'}, {'text': 'google tts', 'displayText': 'google <b>tts</b>', 'webSearchUrl': 'https://www.bing.com/search?q=google+tts'}, {'text': 'ai text to speech', 'displayText': '<b>ai</b> text to speech', 'webSearchUrl': 'https://www.bing.com/search?q=ai+text+to+speech'}, {'text': 'synthesized voice', 'displayText': '<b>synthesized</b> <b>voice</b>', 'webSearchUrl': 'https://www.bing.com/search?q=synthesized+voice'}]}\n",
      "videos          : {'id': 'https://api.bing.microsoft.com/api/v7/#Videos', 'readLink': 'https://api.bing.microsoft.com/api/v7/videos/search?q=Google+CLoud+Speech+to+Text', 'webSearchUrl': 'https://www.bing.com/videos/search?q=Google+CLoud+Speech+to+Text', 'isFamilyFriendly': True, 'value': [{'webSearchUrl': 'https://www.bing.com/videos/search?q=Google%20CLoud%20Speech%20to%20Text&view=detail&mid=2F9E3B817069DC15ED3F2F9E3B817069DC15ED3F', 'name': 'Speech to Text using Google API', 'description': '#datascience #speechtotext #googlecloud If you are looking for speech to text using complete open source package you can check my video on deep speech here - https://youtu.be/iWha--55Lz0 Google cloud provides a set of cognitive APIs that are easy to incorporate in your project for complex tasks like speech to text or OCR. Speech to text ...', 'thumbnailUrl': 'https://tse4.mm.bing.net/th?id=OVP.4GO3IPffL-XpvJVfOPX6awHgFo&pid=Api', 'datePublished': '2020-09-18T13:36:13.0000000', 'publisher': [{'name': 'YouTube'}], 'isAccessibleForFree': True, 'contentUrl': 'https://www.youtube.com/watch?v=ZkTiKPUSYj4', 'hostPageUrl': 'https://www.youtube.com/watch?v=ZkTiKPUSYj4', 'encodingFormat': 'mp4', 'hostPageDisplayUrl': 'https://www.youtube.com/watch?v=ZkTiKPUSYj4', 'width': 1280, 'height': 720, 'duration': 'PT9M40S', 'motionThumbnailUrl': 'https://tse4.mm.bing.net/th?id=OM.P-0V3GlwgTueLw_1626849688&pid=Api', 'embedHtml': '&lt;iframe width=&quot;1280&quot; height=&quot;720&quot; src=&quot;http://www.youtube.com/embed/ZkTiKPUSYj4?autoplay=1&quot; frameborder=&quot;0&quot; allowfullscreen&gt;&lt;/iframe&gt;', 'allowHttpsEmbed': True, 'viewCount': 14294, 'thumbnail': {'width': 160, 'height': 120}, 'allowMobileEmbed': True, 'isSuperfresh': False}, {'webSearchUrl': 'https://www.bing.com/videos/search?q=Google%20CLoud%20Speech%20to%20Text&view=detail&mid=6CE5A051F85AC9BA28D66CE5A051F85AC9BA28D6', 'name': 'Measuring and improving Speech-to-Text accuracy', 'description': 'Google Cloud’s Speech-to-Text API provides incredible accuracy out of the box. What you might not know is that it also has new tools for enhancing accuracy and customizing the model for your industry, domain, or use case. Come learn how we measure accuracy at Google and how you can use our tools to customize your model and improve accuracy ...', 'thumbnailUrl': 'https://tse2.mm.bing.net/th?id=OVP.FsQ66u9xlMx7X5hfLuKFcwHgFo&pid=Api', 'datePublished': '2020-09-15T17:04:57.0000000', 'publisher': [{'name': 'YouTube'}], 'isAccessibleForFree': True, 'contentUrl': 'https://www.youtube.com/watch?v=MzURq2Py4pc', 'hostPageUrl': 'https://www.youtube.com/watch?v=MzURq2Py4pc', 'encodingFormat': 'mp4', 'hostPageDisplayUrl': 'https://www.youtube.com/watch?v=MzURq2Py4pc', 'width': 1280, 'height': 720, 'duration': 'PT26M', 'motionThumbnailUrl': 'https://tse2.mm.bing.net/th?id=OM2.1ii6yVr4UaDlbA_1626865542&pid=Api', 'embedHtml': '&lt;iframe width=&quot;1280&quot; height=&quot;720&quot; src=&quot;http://www.youtube.com/embed/MzURq2Py4pc?autoplay=1&quot; frameborder=&quot;0&quot; allowfullscreen&gt;&lt;/iframe&gt;', 'allowHttpsEmbed': True, 'viewCount': 8441, 'thumbnail': {'width': 160, 'height': 120}, 'allowMobileEmbed': True, 'isSuperfresh': False}, {'webSearchUrl': 'https://www.bing.com/videos/search?q=Google%20CLoud%20Speech%20to%20Text&view=detail&mid=F2F71AF4261E794EC2EFF2F71AF4261E794EC2EF', 'name': 'How to Get Text to Speech For Free From Google Cloud', 'description': 'How to Get Text to Speech For Free From Google Cloud Text-to-Speech Convert text into natural-sounding speech using an API powered by Google’s AI technologies. Also, Google offers the following Choices High fidelity speech Deploy Google’s groundbreaking technologies to generate speech with humanlike intonation. Built based on DeepMind’s ...', 'thumbnailUrl': 'https://tse3.mm.bing.net/th?id=OVP._lxNsRcObZWKURGzUOS0BgHgFo&pid=Api', 'datePublished': '2020-08-03T23:22:08.0000000', 'publisher': [{'name': 'YouTube'}], 'isAccessibleForFree': True, 'contentUrl': 'https://www.youtube.com/watch?v=7NI9OTRzRw4', 'hostPageUrl': 'https://www.youtube.com/watch?v=7NI9OTRzRw4', 'encodingFormat': 'mp4', 'hostPageDisplayUrl': 'https://www.youtube.com/watch?v=7NI9OTRzRw4', 'width': 1280, 'height': 720, 'duration': 'PT6M4S', 'motionThumbnailUrl': 'https://tse3.mm.bing.net/th?id=OM.78JOeR4m9Br38g_1627225594&pid=Api', 'embedHtml': '&lt;iframe width=&quot;1280&quot; height=&quot;720&quot; src=&quot;http://www.youtube.com/embed/7NI9OTRzRw4?autoplay=1&quot; frameborder=&quot;0&quot; allowfullscreen&gt;&lt;/iframe&gt;', 'allowHttpsEmbed': True, 'viewCount': 22533, 'thumbnail': {'width': 160, 'height': 120}, 'allowMobileEmbed': True, 'isSuperfresh': False}, {'webSearchUrl': 'https://www.bing.com/videos/search?q=Google%20CLoud%20Speech%20to%20Text&view=detail&mid=24323DCA6D8CA18CD71624323DCA6D8CA18CD716', 'name': 'Getting Started with Google Cloud Speech-To-Text API in Python', 'description': 'In this tutorial, I will be covering how to get started with Google Cloud Speech-To-Text API in Python. Speech-To-Text is one of the Google Cloud Service products. Using the Speech-To-Text API, we will be able to transcribe media files (audio to text converter) such as MP3, MP4, Wav files or transcribing when we are streaming a podcast (voice ...', 'thumbnailUrl': 'https://tse4.mm.bing.net/th?id=OVP.Lc51QEIJfF6g1TBX-EAQGQEsDh&pid=Api', 'datePublished': '2021-07-28T15:00:25.0000000', 'publisher': [{'name': 'YouTube'}], 'isAccessibleForFree': True, 'contentUrl': 'https://www.youtube.com/watch?v=lKra6E_tp5U', 'hostPageUrl': 'https://www.youtube.com/watch?v=lKra6E_tp5U', 'encodingFormat': 'mp4', 'hostPageDisplayUrl': 'https://www.youtube.com/watch?v=lKra6E_tp5U', 'width': 1280, 'height': 720, 'duration': 'PT30M3S', 'motionThumbnailUrl': 'https://tse4.mm.bing.net/th?id=OM1.FteMoYxtyj0yJA&pid=Api', 'embedHtml': '&lt;iframe width=&quot;1280&quot; height=&quot;720&quot; src=&quot;http://www.youtube.com/embed/lKra6E_tp5U?autoplay=1&quot; frameborder=&quot;0&quot; allowfullscreen&gt;&lt;/iframe&gt;', 'allowHttpsEmbed': True, 'viewCount': 1801, 'thumbnail': {'width': 160, 'height': 120}, 'allowMobileEmbed': True, 'isSuperfresh': False}, {'webSearchUrl': 'https://www.bing.com/videos/search?q=Google%20CLoud%20Speech%20to%20Text&view=detail&mid=18AAD188C347160AE68418AAD188C347160AE684', 'name': 'How to use Google Cloud Speech to Text API Asynchronously in C# Winforms', 'description': 'I coded up an example of using Google Cloud&#39;s Speech to Text API asynchronously. I added NAudio&#39;s Peak Detection code to achieve hands free voice activation speech to text, so no need to \\\\&quot;press a button\\\\&quot; like other examples on the net. This is a work in progress. To get your system set-up in order to use this code, read the notes in my ...', 'thumbnailUrl': 'https://tse2.mm.bing.net/th?id=OVP.51H9EB8-wovqg1J5S8QkaAHgFo&pid=Api', 'datePublished': '2017-12-23T23:28:50.0000000', 'publisher': [{'name': 'YouTube'}], 'isAccessibleForFree': True, 'contentUrl': 'https://www.youtube.com/watch?v=jHrIi71pGvs', 'hostPageUrl': 'https://www.youtube.com/watch?v=jHrIi71pGvs', 'encodingFormat': 'mp4', 'hostPageDisplayUrl': 'https://www.youtube.com/watch?v=jHrIi71pGvs', 'width': 1280, 'height': 720, 'duration': 'PT15M41S', 'motionThumbnailUrl': 'https://tse2.mm.bing.net/th?id=OM1.hOYKFkfDiNGqGA_1621810044&pid=Api', 'embedHtml': '&lt;iframe width=&quot;1280&quot; height=&quot;720&quot; src=&quot;http://www.youtube.com/embed/jHrIi71pGvs?autoplay=1&quot; frameborder=&quot;0&quot; allowfullscreen&gt;&lt;/iframe&gt;', 'allowHttpsEmbed': True, 'viewCount': 20532, 'thumbnail': {'width': 160, 'height': 120}, 'allowMobileEmbed': True, 'isSuperfresh': False}, {'webSearchUrl': 'https://www.bing.com/videos/search?q=Google%20CLoud%20Speech%20to%20Text&view=detail&mid=9409DAC5B5EB7BE8B7BD9409DAC5B5EB7BE8B7BD', 'name': 'How To Download Google Cloud Text To Speech For Youtube Videos', 'description': 'How To Download Google Cloud Text To Speech For Youtube Videos | How to Download text to speech for YouTube Videos | How to download Text to Speech from IBM Watson&#39;s Website | Text to speech software. Download text to speech for YouTube Videos from any Website. How to download text to speech audio | How to download text to speech voices. Please ...', 'thumbnailUrl': 'https://tse4.mm.bing.net/th?id=OVP.inQU5Zowwq2eD8HEFySFugEsDh&pid=Api', 'datePublished': '2021-06-16T10:58:54.0000000', 'publisher': [{'name': 'YouTube'}], 'isAccessibleForFree': True, 'contentUrl': 'https://www.youtube.com/watch?v=9-REf5XO6rw', 'hostPageUrl': 'https://www.youtube.com/watch?v=9-REf5XO6rw', 'encodingFormat': 'mp4', 'hostPageDisplayUrl': 'https://www.youtube.com/watch?v=9-REf5XO6rw', 'width': 1280, 'height': 720, 'duration': 'PT6M44S', 'embedHtml': '&lt;iframe width=&quot;1280&quot; height=&quot;720&quot; src=&quot;http://www.youtube.com/embed/9-REf5XO6rw?autoplay=1&quot; frameborder=&quot;0&quot; allowfullscreen&gt;&lt;/iframe&gt;', 'allowHttpsEmbed': True, 'viewCount': 1940, 'thumbnail': {'width': 160, 'height': 120}, 'allowMobileEmbed': True, 'isSuperfresh': False}, {'webSearchUrl': 'https://www.bing.com/videos/search?q=Google%20CLoud%20Speech%20to%20Text&view=detail&mid=FEAA5A31D612F54D9B18FEAA5A31D612F54D9B18', 'name': 'Omówienie Speech-To-Text od Google Cloud', 'description': 'Dziś przyjrzymy się Speech-To-Text API - usłudze z Portfolio Usług Google Cloud Platform, która daje twórcom aplikacji możliwość zaimplementowania renomowanej technologii rozpoznawania mowy od Google w swoich programach! 0:00 Wprowadzenie 0:50 Czym jest Speech-To-Text? 1:10 Cechy usługi 1:31 Funkcje i tryby korzystania z usługi 2:10 ...', 'thumbnailUrl': 'https://tse4.mm.bing.net/th?id=OVP.wvNLqAEfFCB-4DsO-4peFgEsDh&pid=Api', 'datePublished': '2021-06-07T11:43:57.0000000', 'publisher': [{'name': 'YouTube'}], 'isAccessibleForFree': True, 'contentUrl': 'https://www.youtube.com/watch?v=EJ3gm1bncOM', 'hostPageUrl': 'https://www.youtube.com/watch?v=EJ3gm1bncOM', 'encodingFormat': 'mp4', 'hostPageDisplayUrl': 'https://www.youtube.com/watch?v=EJ3gm1bncOM', 'width': 1280, 'height': 720, 'duration': 'PT4M42S', 'motionThumbnailUrl': 'https://tse4.mm.bing.net/th?id=OM1.GJtN9RLWMVqq_g&pid=Api', 'embedHtml': '&lt;iframe width=&quot;1280&quot; height=&quot;720&quot; src=&quot;http://www.youtube.com/embed/EJ3gm1bncOM?autoplay=1&quot; frameborder=&quot;0&quot; allowfullscreen&gt;&lt;/iframe&gt;', 'allowHttpsEmbed': True, 'viewCount': 152, 'thumbnail': {'width': 160, 'height': 120}, 'allowMobileEmbed': True, 'isSuperfresh': False}, {'webSearchUrl': 'https://www.bing.com/videos/search?q=Google%20CLoud%20Speech%20to%20Text&view=detail&mid=624BB0E813E361E626B4624BB0E813E361E626B4', 'name': 'UiPath | How to use Google Cloud Speech API powered by Machine Learning | Tutorial', 'description': 'Learn how to use Google Cloud Speech-To-Text and Text-To-Speech powered by Machine Learning in UiPath. You&#39;ll see, how you can automatically transcribe +100 languages from speech to text. 00:21 Install the Google Speech Package in UiPath 00:46 Cloud Text-To-Speech setup 01:10 Create a Service Account 02:12 Text to Speech activity 02:34 Setup ...', 'thumbnailUrl': 'https://tse2.mm.bing.net/th?id=OVP.jSboHAgePfWkKPfuMt4avwHgFo&pid=Api', 'datePublished': '2020-02-17T18:10:15.0000000', 'publisher': [{'name': 'YouTube'}], 'isAccessibleForFree': True, 'contentUrl': 'https://www.youtube.com/watch?v=qG35vVwU5fE', 'hostPageUrl': 'https://www.youtube.com/watch?v=qG35vVwU5fE', 'encodingFormat': 'mp4', 'hostPageDisplayUrl': 'https://www.youtube.com/watch?v=qG35vVwU5fE', 'width': 1280, 'height': 720, 'duration': 'PT8M15S', 'motionThumbnailUrl': 'https://tse2.mm.bing.net/th?id=OM2.tCbmYeMT6LBLYg_1622241415&pid=Api', 'embedHtml': '&lt;iframe width=&quot;1280&quot; height=&quot;720&quot; src=&quot;http://www.youtube.com/embed/qG35vVwU5fE?autoplay=1&quot; frameborder=&quot;0&quot; allowfullscreen&gt;&lt;/iframe&gt;', 'allowHttpsEmbed': True, 'viewCount': 9194, 'thumbnail': {'width': 160, 'height': 120}, 'allowMobileEmbed': True, 'isSuperfresh': False}, {'webSearchUrl': 'https://www.bing.com/videos/search?q=Google%20CLoud%20Speech%20to%20Text&view=detail&mid=ABE07C76672856986E48ABE07C76672856986E48', 'name': 'Cloud Speech API Demo', 'description': 'The Cloud Speech API (https://cloud.google.com/speech) transcribes audio in over 80 languages, and supports both batch and streaming formats. This demo shows how to make a curl request to the API. Code for the bash script in the demo can be found here: https://github.com/sararob/ml-talk-demos/blob/master/speech/request.sh', 'thumbnailUrl': 'https://tse3.mm.bing.net/th?id=OVP.7FpKt_H6kvLHKzlTJBRBvwHgFo&pid=Api', 'datePublished': '2017-06-05T18:31:24.0000000', 'publisher': [{'name': 'YouTube'}], 'isAccessibleForFree': True, 'contentUrl': 'https://www.youtube.com/watch?v=z8g3XM16eRM', 'hostPageUrl': 'https://www.youtube.com/watch?v=z8g3XM16eRM', 'encodingFormat': 'mp4', 'hostPageDisplayUrl': 'https://www.youtube.com/watch?v=z8g3XM16eRM', 'width': 1280, 'height': 720, 'duration': 'PT2M49S', 'motionThumbnailUrl': 'https://tse3.mm.bing.net/th?id=OM.SG6YVihndnzgqw_1628680448&pid=Api', 'embedHtml': '&lt;iframe width=&quot;1280&quot; height=&quot;720&quot; src=&quot;http://www.youtube.com/embed/z8g3XM16eRM?autoplay=1&quot; frameborder=&quot;0&quot; allowfullscreen&gt;&lt;/iframe&gt;', 'allowHttpsEmbed': True, 'viewCount': 61826, 'thumbnail': {'width': 160, 'height': 120}, 'allowMobileEmbed': True, 'isSuperfresh': False}, {'webSearchUrl': 'https://www.bing.com/videos/search?q=Google%20CLoud%20Speech%20to%20Text&view=detail&mid=8CC0001DA3130812060C8CC0001DA3130812060C', 'name': 'Recognize Speech like Google does: Cloud Speech-to-Text Advanced Features (Cloud Next &#39;18)', 'description': 'In this session, we will show how to use Cloud Speech-to-Text for Human Computer Interaction and Speech Analytics. We will show how you can use our recently announced pre-built models for phone, video, command and search use cases, and will demonstrate new functionality that makes the API more effective. We will have a guest speaker that will ...', 'thumbnailUrl': 'https://tse2.mm.bing.net/th?id=OVP.jhNFX7a_CsKllDS_wchGXQHgFo&pid=Api', 'datePublished': '2018-07-26T01:18:24.0000000', 'publisher': [{'name': 'YouTube'}], 'isAccessibleForFree': True, 'contentUrl': 'https://www.youtube.com/watch?v=jOYzvq5dBrQ', 'hostPageUrl': 'https://www.youtube.com/watch?v=jOYzvq5dBrQ', 'encodingFormat': 'mp4', 'hostPageDisplayUrl': 'https://www.youtube.com/watch?v=jOYzvq5dBrQ', 'width': 1280, 'height': 720, 'duration': 'PT40M47S', 'motionThumbnailUrl': 'https://tse2.mm.bing.net/th?id=OM1.DAYSCBOjHQDAjA_1627763267&pid=Api', 'embedHtml': '&lt;iframe width=&quot;1280&quot; height=&quot;720&quot; src=&quot;http://www.youtube.com/embed/jOYzvq5dBrQ?autoplay=1&quot; frameborder=&quot;0&quot; allowfullscreen&gt;&lt;/iframe&gt;', 'allowHttpsEmbed': True, 'viewCount': 17050, 'thumbnail': {'width': 160, 'height': 120}, 'allowMobileEmbed': True, 'isSuperfresh': False}], 'scenario': 'List'}\n",
      "rankingResponse : {'mainline': {'items': [{'answerType': 'WebPages', 'resultIndex': 0, 'value': {'id': 'https://api.bing.microsoft.com/api/v7/#WebPages.0'}}, {'answerType': 'WebPages', 'resultIndex': 1, 'value': {'id': 'https://api.bing.microsoft.com/api/v7/#WebPages.1'}}, {'answerType': 'WebPages', 'resultIndex': 2, 'value': {'id': 'https://api.bing.microsoft.com/api/v7/#WebPages.2'}}, {'answerType': 'WebPages', 'resultIndex': 3, 'value': {'id': 'https://api.bing.microsoft.com/api/v7/#WebPages.3'}}, {'answerType': 'WebPages', 'resultIndex': 4, 'value': {'id': 'https://api.bing.microsoft.com/api/v7/#WebPages.4'}}, {'answerType': 'WebPages', 'resultIndex': 5, 'value': {'id': 'https://api.bing.microsoft.com/api/v7/#WebPages.5'}}, {'answerType': 'WebPages', 'resultIndex': 6, 'value': {'id': 'https://api.bing.microsoft.com/api/v7/#WebPages.6'}}, {'answerType': 'WebPages', 'resultIndex': 7, 'value': {'id': 'https://api.bing.microsoft.com/api/v7/#WebPages.7'}}, {'answerType': 'WebPages', 'resultIndex': 8, 'value': {'id': 'https://api.bing.microsoft.com/api/v7/#WebPages.8'}}, {'answerType': 'WebPages', 'resultIndex': 9, 'value': {'id': 'https://api.bing.microsoft.com/api/v7/#WebPages.9'}}]}, 'sidebar': {'items': [{'answerType': 'Videos', 'value': {'id': 'https://api.bing.microsoft.com/api/v7/#Videos'}}, {'answerType': 'RelatedSearches', 'value': {'id': 'https://api.bing.microsoft.com/api/v7/#RelatedSearches'}}]}}\n"
     ]
    }
   ],
   "source": [
    "res.keys()\n",
    "for k,v in res.items():\n",
    "  print(\"{:15s} : {}\".format(k, v))"
   ]
  },
  {
   "cell_type": "code",
   "execution_count": null,
   "metadata": {
    "id": "kMXeCYiVPZfF"
   },
   "outputs": [],
   "source": []
  },
  {
   "cell_type": "markdown",
   "metadata": {
    "id": "EK1LDQR0N365"
   },
   "source": [
    "### Web Pages"
   ]
  },
  {
   "cell_type": "code",
   "execution_count": 66,
   "metadata": {
    "colab": {
     "base_uri": "https://localhost:8080/"
    },
    "executionInfo": {
     "elapsed": 446,
     "status": "ok",
     "timestamp": 1631906830169,
     "user": {
      "displayName": "Siddhartha Shanmuhavel",
      "photoUrl": "https://lh3.googleusercontent.com/a/default-user=s64",
      "userId": "05346328597111107310"
     },
     "user_tz": -60
    },
    "id": "fgIAz1TwKmiR",
    "outputId": "1297711c-8f20-4f98-ef23-d0cef2f50e44"
   },
   "outputs": [
    {
     "name": "stdout",
     "output_type": "stream",
     "text": [
      "webSearchUrl           : https://www.bing.com/search?q=Google+CLoud+Speech+to+Text\n",
      "totalEstimatedMatches  : 2550000\n",
      "value                  : [{'id': 'https://api.bing.microsoft.com/api/v7/#WebPages.0', 'name': 'Speech-to-Text: Automatic Speech Recognition | Google Cloud', 'url': 'https://cloud.google.com/speech-to-text/', 'isFamilyFriendly': True, 'displayUrl': 'https://<b>cloud</b>.<b>google</b>.com/<b>speech</b>-<b>to-text</b>', 'snippet': 'Support your global user base with <b>Speech</b>-to-<b>Text</b>’s extensive language support in over 125 languages and variants. Streaming <b>speech</b> recognition. Receive real-time <b>speech</b> recognition results as the API processes the audio input streamed from your application’s microphone or sent from a prerecorded audio file (inline or through <b>Cloud</b> Storage).', 'dateLastCrawled': '2021-09-14T14:42:00.0000000Z', 'language': 'en', 'isNavigational': True}, {'id': 'https://api.bing.microsoft.com/api/v7/#WebPages.1', 'name': 'Pricing | Cloud Speech-to-Text | Google Cloud', 'url': 'https://cloud.google.com/speech-to-text/pricing', 'isFamilyFriendly': True, 'displayUrl': 'https://<b>cloud</b>.<b>google</b>.com/<b>speech</b>-<b>to-text</b>/pricing', 'snippet': 'Please submit a <b>Speech</b>-to-<b>Text</b> quota request for your project. <b>Google</b> <b>Cloud</b> Platform costs. If you store audio files to be recognized in <b>Google</b> <b>Cloud</b> Storage, or use other <b>Google</b> <b>Cloud</b> Platform resources in tandem with <b>Speech</b>-to-<b>Text</b>, such as <b>Google</b> App Engine instances, then you will also be billed for the use of those services.', 'dateLastCrawled': '2021-09-12T09:31:00.0000000Z', 'language': 'en', 'isNavigational': False}, {'id': 'https://api.bing.microsoft.com/api/v7/#WebPages.2', 'name': 'Language support | Cloud Speech-to-Text Documentation ...', 'url': 'https://cloud.google.com/speech-to-text/docs/languages', 'isFamilyFriendly': True, 'displayUrl': 'https://<b>cloud</b>.<b>google</b>.com/<b>speech</b>-<b>to-text</b>/docs/languages', 'snippet': '<b>Cloud</b> <b>Speech</b>-to-<b>Text</b> offers multiple recognition models , each tuned to different audio types. The default and command and search recognition models support all available languages. The command and search model is optimized for short audio clips, such as voice commands or voice searches. The default model can be used to transcribe any audio type.', 'dateLastCrawled': '2021-09-13T14:24:00.0000000Z', 'language': 'en', 'isNavigational': False}, {'id': 'https://api.bing.microsoft.com/api/v7/#WebPages.3', 'name': 'Text-to-Speech: Lifelike Speech Synthesis | Google Cloud', 'url': 'https://cloud.google.com/text-to-speech?hl=vi', 'isFamilyFriendly': True, 'displayUrl': 'https://<b>cloud</b>.<b>google</b>.com/<b>text</b>-to-<b>speech</b>?hl=vi', 'snippet': 'For Standard (non-WaveNet) voices, the first 4 million characters are free each month. After the free tier has been reached, <b>Text</b>-to-<b>Speech</b> is priced per 1 million characters of <b>text</b> processed. If you pay in a currency other than USD, the prices listed in your currency on <b>Google</b> <b>Cloud</b> SKUs apply.', 'dateLastCrawled': '2021-09-14T21:26:00.0000000Z', 'language': 'en', 'isNavigational': False}, {'id': 'https://api.bing.microsoft.com/api/v7/#WebPages.4', 'name': 'Google Cloud Speech-to-Text based on NodeJS and SocketIO ...', 'url': 'https://awesomeopensource.com/project/brahmnoor/GoogleCloudSpeechToText?mode=...', 'isFamilyFriendly': True, 'displayUrl': 'https://awesomeopensource.com/project/brahmnoor/<b>GoogleCloudSpeechToText</b>?mode=...', 'snippet': '<b>Google Cloud Speech</b>-to-<b>Text</b> based on NodeJS and SocketIO for Real Time Detection. This is a project based on NodeJS and SocketIO for real-time detection of <b>speech</b> to <b>text</b>. This supports all the languages in <b>Google</b> <b>Cloud</b> <b>Speech</b> API including Cantonese and Chinese. Setup.', 'dateLastCrawled': '2021-09-15T04:33:00.0000000Z', 'language': 'en', 'isNavigational': False}, {'id': 'https://api.bing.microsoft.com/api/v7/#WebPages.5', 'name': 'google-cloud-speech · PyPI', 'url': 'https://pypi.org/project/google-cloud-speech/', 'isFamilyFriendly': True, 'displayUrl': 'https://pypi.org/project/<b>google-cloud-speech</b>', 'snippet': '<b>Google Cloud Speech</b> API client library. The <b>Cloud</b> <b>Speech</b> API enables developers to convert audio to <b>text</b> by applying powerful neural network models. The API recognizes over 80 languages and variants, to support your global user base.', 'dateLastCrawled': '2021-09-13T18:29:00.0000000Z', 'language': 'en', 'isNavigational': False}, {'id': 'https://api.bing.microsoft.com/api/v7/#WebPages.6', 'name': 'How to use Google Cloud Speech to Text API Asynchronously ...', 'url': 'https://www.youtube.com/watch?v=jHrIi71pGvs', 'isFamilyFriendly': True, 'displayUrl': 'https://www.youtube.com/watch?v=jHrIi71pGvs', 'snippet': 'I coded up an example of using <b>Google</b> <b>Cloud</b>&#39;s <b>Speech</b> to <b>Text</b> API asynchronously. I added NAudio&#39;s Peak Detection code to achieve hands free voice activation ...', 'dateLastCrawled': '2021-05-14T18:11:00.0000000Z', 'language': 'en', 'isNavigational': False}, {'id': 'https://api.bing.microsoft.com/api/v7/#WebPages.7', 'name': 'GitHub - digital-alicorn/google-speech-to-text: Demo for ...', 'url': 'https://github.com/digital-alicorn/google-speech-to-text', 'isFamilyFriendly': True, 'displayUrl': 'https://github.com/digital-alicorn/<b>google</b>-<b>speech</b>-<b>to-text</b>', 'snippet': 'About. Demo for custom implementation of <b>Google</b> <b>Cloud</b> <b>Speech</b> Recognition. (Included API Key will not be valid forever) Resources', 'dateLastCrawled': '2021-09-15T08:57:00.0000000Z', 'language': 'en', 'isNavigational': False}, {'id': 'https://api.bing.microsoft.com/api/v7/#WebPages.8', 'name': 'Best Google Cloud Speech-to-Text Alternatives &amp; Competitors', 'url': 'https://sourceforge.net/software/product/Google-Cloud-Speech-to-Text/alternatives', 'isFamilyFriendly': True, 'displayUrl': 'https://sourceforge.net/software/product/<b>Google-Cloud-Speech-to-Text</b>/alternatives', 'snippet': 'Compare <b>Google Cloud Speech</b>-to-<b>Text</b> alternatives for your business or organization using the curated list below. SourceForge ranks the best alternatives to <b>Google Cloud Speech</b>-to-<b>Text</b> in 2021. Compare features, ratings, user reviews, pricing, and more from <b>Google Cloud Speech</b>-to-<b>Text</b> competitors and alternatives in order to make an informed ...', 'dateLastCrawled': '2021-09-14T02:01:00.0000000Z', 'language': 'en', 'isNavigational': False}, {'id': 'https://api.bing.microsoft.com/api/v7/#WebPages.9', 'name': 'Compare Azure Speech Services vs. Google Cloud Speech-to-Text', 'url': 'https://slashdot.org/software/comparison/Azure-Speech-Services-vs-Google-Cloud-Speech-to-Text/', 'isFamilyFriendly': True, 'displayUrl': 'https://slashdot.org/.../comparison/Azure-<b>Speech</b>-Services-vs-<b>Google-Cloud-Speech-to-Text</b>', 'snippet': 'Compare Azure <b>Speech</b> Services vs. <b>Google Cloud Speech</b>-to-<b>Text</b> in 2021 by cost, reviews, features, integrations, deployment, target market, support options, trial offers, training options, years in business, region, and more using the chart below.', 'dateLastCrawled': '2021-09-14T01:42:00.0000000Z', 'language': 'en', 'isNavigational': False}]\n",
      "someResultsRemoved     : True\n"
     ]
    }
   ],
   "source": [
    "for k,v in res['webPages'].items():\n",
    "  print(\"{:23s}: {}\".format(k, v))"
   ]
  },
  {
   "cell_type": "code",
   "execution_count": 67,
   "metadata": {
    "colab": {
     "base_uri": "https://localhost:8080/"
    },
    "executionInfo": {
     "elapsed": 8,
     "status": "ok",
     "timestamp": 1631906830583,
     "user": {
      "displayName": "Siddhartha Shanmuhavel",
      "photoUrl": "https://lh3.googleusercontent.com/a/default-user=s64",
      "userId": "05346328597111107310"
     },
     "user_tz": -60
    },
    "id": "e5f_y_6WMUUa",
    "outputId": "ee6bb72a-ab80-4602-882f-a5ae6a1f7b2b"
   },
   "outputs": [
    {
     "name": "stdout",
     "output_type": "stream",
     "text": [
      "dict_keys(['id', 'name', 'url', 'isFamilyFriendly', 'displayUrl', 'snippet', 'dateLastCrawled', 'language', 'isNavigational'])\n",
      "dict_keys(['id', 'name', 'url', 'isFamilyFriendly', 'displayUrl', 'snippet', 'dateLastCrawled', 'language', 'isNavigational'])\n",
      "dict_keys(['id', 'name', 'url', 'isFamilyFriendly', 'displayUrl', 'snippet', 'dateLastCrawled', 'language', 'isNavigational'])\n",
      "dict_keys(['id', 'name', 'url', 'isFamilyFriendly', 'displayUrl', 'snippet', 'dateLastCrawled', 'language', 'isNavigational'])\n",
      "dict_keys(['id', 'name', 'url', 'isFamilyFriendly', 'displayUrl', 'snippet', 'dateLastCrawled', 'language', 'isNavigational'])\n",
      "dict_keys(['id', 'name', 'url', 'isFamilyFriendly', 'displayUrl', 'snippet', 'dateLastCrawled', 'language', 'isNavigational'])\n",
      "dict_keys(['id', 'name', 'url', 'isFamilyFriendly', 'displayUrl', 'snippet', 'dateLastCrawled', 'language', 'isNavigational'])\n",
      "dict_keys(['id', 'name', 'url', 'isFamilyFriendly', 'displayUrl', 'snippet', 'dateLastCrawled', 'language', 'isNavigational'])\n",
      "dict_keys(['id', 'name', 'url', 'isFamilyFriendly', 'displayUrl', 'snippet', 'dateLastCrawled', 'language', 'isNavigational'])\n",
      "dict_keys(['id', 'name', 'url', 'isFamilyFriendly', 'displayUrl', 'snippet', 'dateLastCrawled', 'language', 'isNavigational'])\n"
     ]
    }
   ],
   "source": [
    "for page in res['webPages']['value']:\n",
    "  print(page.keys())"
   ]
  },
  {
   "cell_type": "code",
   "execution_count": 68,
   "metadata": {
    "colab": {
     "base_uri": "https://localhost:8080/"
    },
    "executionInfo": {
     "elapsed": 35,
     "status": "ok",
     "timestamp": 1631906832575,
     "user": {
      "displayName": "Siddhartha Shanmuhavel",
      "photoUrl": "https://lh3.googleusercontent.com/a/default-user=s64",
      "userId": "05346328597111107310"
     },
     "user_tz": -60
    },
    "id": "oqnbN0IoOFPq",
    "outputId": "91af8507-e30b-4606-8620-f7852b6e68ff"
   },
   "outputs": [
    {
     "name": "stdout",
     "output_type": "stream",
     "text": [
      "id               : https://api.bing.microsoft.com/api/v7/#WebPages.0\n",
      "name             : Speech-to-Text: Automatic Speech Recognition | Google Cloud\n",
      "url              : https://cloud.google.com/speech-to-text/\n",
      "isFamilyFriendly : True\n",
      "displayUrl       : https://<b>cloud</b>.<b>google</b>.com/<b>speech</b>-<b>to-text</b>\n",
      "snippet          : Support your global user base with <b>Speech</b>-to-<b>Text</b>’s extensive language support in over 125 languages and variants. Streaming <b>speech</b> recognition. Receive real-time <b>speech</b> recognition results as the API processes the audio input streamed from your application’s microphone or sent from a prerecorded audio file (inline or through <b>Cloud</b> Storage).\n",
      "dateLastCrawled  : 2021-09-14T14:42:00.0000000Z\n",
      "language         : en\n",
      "isNavigational   : True\n",
      "==============================\n",
      "id               : https://api.bing.microsoft.com/api/v7/#WebPages.1\n",
      "name             : Pricing | Cloud Speech-to-Text | Google Cloud\n",
      "url              : https://cloud.google.com/speech-to-text/pricing\n",
      "isFamilyFriendly : True\n",
      "displayUrl       : https://<b>cloud</b>.<b>google</b>.com/<b>speech</b>-<b>to-text</b>/pricing\n",
      "snippet          : Please submit a <b>Speech</b>-to-<b>Text</b> quota request for your project. <b>Google</b> <b>Cloud</b> Platform costs. If you store audio files to be recognized in <b>Google</b> <b>Cloud</b> Storage, or use other <b>Google</b> <b>Cloud</b> Platform resources in tandem with <b>Speech</b>-to-<b>Text</b>, such as <b>Google</b> App Engine instances, then you will also be billed for the use of those services.\n",
      "dateLastCrawled  : 2021-09-12T09:31:00.0000000Z\n",
      "language         : en\n",
      "isNavigational   : False\n",
      "==============================\n",
      "id               : https://api.bing.microsoft.com/api/v7/#WebPages.2\n",
      "name             : Language support | Cloud Speech-to-Text Documentation ...\n",
      "url              : https://cloud.google.com/speech-to-text/docs/languages\n",
      "isFamilyFriendly : True\n",
      "displayUrl       : https://<b>cloud</b>.<b>google</b>.com/<b>speech</b>-<b>to-text</b>/docs/languages\n",
      "snippet          : <b>Cloud</b> <b>Speech</b>-to-<b>Text</b> offers multiple recognition models , each tuned to different audio types. The default and command and search recognition models support all available languages. The command and search model is optimized for short audio clips, such as voice commands or voice searches. The default model can be used to transcribe any audio type.\n",
      "dateLastCrawled  : 2021-09-13T14:24:00.0000000Z\n",
      "language         : en\n",
      "isNavigational   : False\n",
      "==============================\n",
      "id               : https://api.bing.microsoft.com/api/v7/#WebPages.3\n",
      "name             : Text-to-Speech: Lifelike Speech Synthesis | Google Cloud\n",
      "url              : https://cloud.google.com/text-to-speech?hl=vi\n",
      "isFamilyFriendly : True\n",
      "displayUrl       : https://<b>cloud</b>.<b>google</b>.com/<b>text</b>-to-<b>speech</b>?hl=vi\n",
      "snippet          : For Standard (non-WaveNet) voices, the first 4 million characters are free each month. After the free tier has been reached, <b>Text</b>-to-<b>Speech</b> is priced per 1 million characters of <b>text</b> processed. If you pay in a currency other than USD, the prices listed in your currency on <b>Google</b> <b>Cloud</b> SKUs apply.\n",
      "dateLastCrawled  : 2021-09-14T21:26:00.0000000Z\n",
      "language         : en\n",
      "isNavigational   : False\n",
      "==============================\n",
      "id               : https://api.bing.microsoft.com/api/v7/#WebPages.4\n",
      "name             : Google Cloud Speech-to-Text based on NodeJS and SocketIO ...\n",
      "url              : https://awesomeopensource.com/project/brahmnoor/GoogleCloudSpeechToText?mode=...\n",
      "isFamilyFriendly : True\n",
      "displayUrl       : https://awesomeopensource.com/project/brahmnoor/<b>GoogleCloudSpeechToText</b>?mode=...\n",
      "snippet          : <b>Google Cloud Speech</b>-to-<b>Text</b> based on NodeJS and SocketIO for Real Time Detection. This is a project based on NodeJS and SocketIO for real-time detection of <b>speech</b> to <b>text</b>. This supports all the languages in <b>Google</b> <b>Cloud</b> <b>Speech</b> API including Cantonese and Chinese. Setup.\n",
      "dateLastCrawled  : 2021-09-15T04:33:00.0000000Z\n",
      "language         : en\n",
      "isNavigational   : False\n",
      "==============================\n",
      "id               : https://api.bing.microsoft.com/api/v7/#WebPages.5\n",
      "name             : google-cloud-speech · PyPI\n",
      "url              : https://pypi.org/project/google-cloud-speech/\n",
      "isFamilyFriendly : True\n",
      "displayUrl       : https://pypi.org/project/<b>google-cloud-speech</b>\n",
      "snippet          : <b>Google Cloud Speech</b> API client library. The <b>Cloud</b> <b>Speech</b> API enables developers to convert audio to <b>text</b> by applying powerful neural network models. The API recognizes over 80 languages and variants, to support your global user base.\n",
      "dateLastCrawled  : 2021-09-13T18:29:00.0000000Z\n",
      "language         : en\n",
      "isNavigational   : False\n",
      "==============================\n",
      "id               : https://api.bing.microsoft.com/api/v7/#WebPages.6\n",
      "name             : How to use Google Cloud Speech to Text API Asynchronously ...\n",
      "url              : https://www.youtube.com/watch?v=jHrIi71pGvs\n",
      "isFamilyFriendly : True\n",
      "displayUrl       : https://www.youtube.com/watch?v=jHrIi71pGvs\n",
      "snippet          : I coded up an example of using <b>Google</b> <b>Cloud</b>&#39;s <b>Speech</b> to <b>Text</b> API asynchronously. I added NAudio&#39;s Peak Detection code to achieve hands free voice activation ...\n",
      "dateLastCrawled  : 2021-05-14T18:11:00.0000000Z\n",
      "language         : en\n",
      "isNavigational   : False\n",
      "==============================\n",
      "id               : https://api.bing.microsoft.com/api/v7/#WebPages.7\n",
      "name             : GitHub - digital-alicorn/google-speech-to-text: Demo for ...\n",
      "url              : https://github.com/digital-alicorn/google-speech-to-text\n",
      "isFamilyFriendly : True\n",
      "displayUrl       : https://github.com/digital-alicorn/<b>google</b>-<b>speech</b>-<b>to-text</b>\n",
      "snippet          : About. Demo for custom implementation of <b>Google</b> <b>Cloud</b> <b>Speech</b> Recognition. (Included API Key will not be valid forever) Resources\n",
      "dateLastCrawled  : 2021-09-15T08:57:00.0000000Z\n",
      "language         : en\n",
      "isNavigational   : False\n",
      "==============================\n",
      "id               : https://api.bing.microsoft.com/api/v7/#WebPages.8\n",
      "name             : Best Google Cloud Speech-to-Text Alternatives &amp; Competitors\n",
      "url              : https://sourceforge.net/software/product/Google-Cloud-Speech-to-Text/alternatives\n",
      "isFamilyFriendly : True\n",
      "displayUrl       : https://sourceforge.net/software/product/<b>Google-Cloud-Speech-to-Text</b>/alternatives\n",
      "snippet          : Compare <b>Google Cloud Speech</b>-to-<b>Text</b> alternatives for your business or organization using the curated list below. SourceForge ranks the best alternatives to <b>Google Cloud Speech</b>-to-<b>Text</b> in 2021. Compare features, ratings, user reviews, pricing, and more from <b>Google Cloud Speech</b>-to-<b>Text</b> competitors and alternatives in order to make an informed ...\n",
      "dateLastCrawled  : 2021-09-14T02:01:00.0000000Z\n",
      "language         : en\n",
      "isNavigational   : False\n",
      "==============================\n",
      "id               : https://api.bing.microsoft.com/api/v7/#WebPages.9\n",
      "name             : Compare Azure Speech Services vs. Google Cloud Speech-to-Text\n",
      "url              : https://slashdot.org/software/comparison/Azure-Speech-Services-vs-Google-Cloud-Speech-to-Text/\n",
      "isFamilyFriendly : True\n",
      "displayUrl       : https://slashdot.org/.../comparison/Azure-<b>Speech</b>-Services-vs-<b>Google-Cloud-Speech-to-Text</b>\n",
      "snippet          : Compare Azure <b>Speech</b> Services vs. <b>Google Cloud Speech</b>-to-<b>Text</b> in 2021 by cost, reviews, features, integrations, deployment, target market, support options, trial offers, training options, years in business, region, and more using the chart below.\n",
      "dateLastCrawled  : 2021-09-14T01:42:00.0000000Z\n",
      "language         : en\n",
      "isNavigational   : False\n",
      "==============================\n"
     ]
    }
   ],
   "source": [
    "for page in res['webPages']['value']:\n",
    "  for k,v in page.items():\n",
    "    print(\"{:17s}: {}\".format(k, v))\n",
    "  print('='*30)"
   ]
  },
  {
   "cell_type": "code",
   "execution_count": null,
   "metadata": {
    "id": "2Vb0l-_TPa1z"
   },
   "outputs": [],
   "source": []
  },
  {
   "cell_type": "markdown",
   "metadata": {
    "id": "lhm-u0BoOoH8"
   },
   "source": [
    "### Related Search"
   ]
  },
  {
   "cell_type": "code",
   "execution_count": 69,
   "metadata": {
    "colab": {
     "base_uri": "https://localhost:8080/"
    },
    "executionInfo": {
     "elapsed": 444,
     "status": "ok",
     "timestamp": 1631906835456,
     "user": {
      "displayName": "Siddhartha Shanmuhavel",
      "photoUrl": "https://lh3.googleusercontent.com/a/default-user=s64",
      "userId": "05346328597111107310"
     },
     "user_tz": -60
    },
    "id": "gm46O-OvOH_s",
    "outputId": "f62d621a-3403-484d-9f2e-363c6eb02c45"
   },
   "outputs": [
    {
     "data": {
      "text/plain": [
       "{'displayText': 'google <b>transcript</b> <b>audio</b>',\n",
       " 'text': 'google transcript audio',\n",
       " 'webSearchUrl': 'https://www.bing.com/search?q=google+transcript+audio'}"
      ]
     },
     "execution_count": 69,
     "metadata": {},
     "output_type": "execute_result"
    }
   ],
   "source": [
    "res['relatedSearches']['value'][0]"
   ]
  },
  {
   "cell_type": "code",
   "execution_count": 70,
   "metadata": {
    "colab": {
     "base_uri": "https://localhost:8080/"
    },
    "executionInfo": {
     "elapsed": 351,
     "status": "ok",
     "timestamp": 1631906837319,
     "user": {
      "displayName": "Siddhartha Shanmuhavel",
      "photoUrl": "https://lh3.googleusercontent.com/a/default-user=s64",
      "userId": "05346328597111107310"
     },
     "user_tz": -60
    },
    "id": "Ph_uXEgSORcV",
    "outputId": "1447f063-f3dd-4b7e-a54b-5ac21c9d34dd"
   },
   "outputs": [
    {
     "name": "stdout",
     "output_type": "stream",
     "text": [
      "\n",
      "google transcript audio:-- google <b>transcript</b> <b>audio</b>\n",
      "\thttps://www.bing.com/search?q=google+transcript+audio\n",
      "\n",
      "google transcript:-- google <b>transcript</b>\n",
      "\thttps://www.bing.com/search?q=google+transcript\n",
      "\n",
      "cloud text to speech:-- cloud text to speech\n",
      "\thttps://www.bing.com/search?q=cloud+text+to+speech\n",
      "\n",
      "python text to speech:-- <b>python</b> text to speech\n",
      "\thttps://www.bing.com/search?q=python+text+to+speech\n",
      "\n",
      "google speak:-- google <b>speak</b>\n",
      "\thttps://www.bing.com/search?q=google+speak\n",
      "\n",
      "google tts:-- google <b>tts</b>\n",
      "\thttps://www.bing.com/search?q=google+tts\n",
      "\n",
      "ai text to speech:-- <b>ai</b> text to speech\n",
      "\thttps://www.bing.com/search?q=ai+text+to+speech\n",
      "\n",
      "synthesized voice:-- <b>synthesized</b> <b>voice</b>\n",
      "\thttps://www.bing.com/search?q=synthesized+voice\n"
     ]
    }
   ],
   "source": [
    "# get the webpage results from the search results\n",
    "for rs in res['relatedSearches']['value']:\n",
    "  print(f\"\\n{rs['text']}:-- {rs['displayText']}\\n\\t{rs['webSearchUrl']}\")"
   ]
  },
  {
   "cell_type": "code",
   "execution_count": null,
   "metadata": {
    "id": "lVacfS1oPboo"
   },
   "outputs": [],
   "source": []
  },
  {
   "cell_type": "markdown",
   "metadata": {
    "id": "I5rBvonCOtCr"
   },
   "source": [
    "### Videos"
   ]
  },
  {
   "cell_type": "code",
   "execution_count": 72,
   "metadata": {
    "colab": {
     "base_uri": "https://localhost:8080/"
    },
    "executionInfo": {
     "elapsed": 311,
     "status": "ok",
     "timestamp": 1631906909161,
     "user": {
      "displayName": "Siddhartha Shanmuhavel",
      "photoUrl": "https://lh3.googleusercontent.com/a/default-user=s64",
      "userId": "05346328597111107310"
     },
     "user_tz": -60
    },
    "id": "pfgz66KnOXLb",
    "outputId": "c577771b-8361-4c9a-ac21-58a674087c2f"
   },
   "outputs": [
    {
     "data": {
      "text/plain": [
       "dict_keys(['id', 'readLink', 'webSearchUrl', 'isFamilyFriendly', 'value', 'scenario'])"
      ]
     },
     "execution_count": 72,
     "metadata": {},
     "output_type": "execute_result"
    }
   ],
   "source": [
    "res['videos'].keys()"
   ]
  },
  {
   "cell_type": "code",
   "execution_count": 73,
   "metadata": {
    "colab": {
     "base_uri": "https://localhost:8080/"
    },
    "executionInfo": {
     "elapsed": 412,
     "status": "ok",
     "timestamp": 1631906911570,
     "user": {
      "displayName": "Siddhartha Shanmuhavel",
      "photoUrl": "https://lh3.googleusercontent.com/a/default-user=s64",
      "userId": "05346328597111107310"
     },
     "user_tz": -60
    },
    "id": "60NeZFrBO0jQ",
    "outputId": "d4647e5a-1921-4dfa-9316-41aa06ec22f8"
   },
   "outputs": [
    {
     "name": "stdout",
     "output_type": "stream",
     "text": [
      "id               :  https://api.bing.microsoft.com/api/v7/#Videos\n",
      "readLink         :  https://api.bing.microsoft.com/api/v7/videos/search?q=Google+CLoud+Speech+to+Text\n",
      "webSearchUrl     :  https://www.bing.com/videos/search?q=Google+CLoud+Speech+to+Text\n",
      "isFamilyFriendly :  True\n",
      "value            :  [{'webSearchUrl': 'https://www.bing.com/videos/search?q=Google%20CLoud%20Speech%20to%20Text&view=detail&mid=2F9E3B817069DC15ED3F2F9E3B817069DC15ED3F', 'name': 'Speech to Text using Google API', 'description': '#datascience #speechtotext #googlecloud If you are looking for speech to text using complete open source package you can check my video on deep speech here - https://youtu.be/iWha--55Lz0 Google cloud provides a set of cognitive APIs that are easy to incorporate in your project for complex tasks like speech to text or OCR. Speech to text ...', 'thumbnailUrl': 'https://tse4.mm.bing.net/th?id=OVP.4GO3IPffL-XpvJVfOPX6awHgFo&pid=Api', 'datePublished': '2020-09-18T13:36:13.0000000', 'publisher': [{'name': 'YouTube'}], 'isAccessibleForFree': True, 'contentUrl': 'https://www.youtube.com/watch?v=ZkTiKPUSYj4', 'hostPageUrl': 'https://www.youtube.com/watch?v=ZkTiKPUSYj4', 'encodingFormat': 'mp4', 'hostPageDisplayUrl': 'https://www.youtube.com/watch?v=ZkTiKPUSYj4', 'width': 1280, 'height': 720, 'duration': 'PT9M40S', 'motionThumbnailUrl': 'https://tse4.mm.bing.net/th?id=OM.P-0V3GlwgTueLw_1626849688&pid=Api', 'embedHtml': '&lt;iframe width=&quot;1280&quot; height=&quot;720&quot; src=&quot;http://www.youtube.com/embed/ZkTiKPUSYj4?autoplay=1&quot; frameborder=&quot;0&quot; allowfullscreen&gt;&lt;/iframe&gt;', 'allowHttpsEmbed': True, 'viewCount': 14294, 'thumbnail': {'width': 160, 'height': 120}, 'allowMobileEmbed': True, 'isSuperfresh': False}, {'webSearchUrl': 'https://www.bing.com/videos/search?q=Google%20CLoud%20Speech%20to%20Text&view=detail&mid=6CE5A051F85AC9BA28D66CE5A051F85AC9BA28D6', 'name': 'Measuring and improving Speech-to-Text accuracy', 'description': 'Google Cloud’s Speech-to-Text API provides incredible accuracy out of the box. What you might not know is that it also has new tools for enhancing accuracy and customizing the model for your industry, domain, or use case. Come learn how we measure accuracy at Google and how you can use our tools to customize your model and improve accuracy ...', 'thumbnailUrl': 'https://tse2.mm.bing.net/th?id=OVP.FsQ66u9xlMx7X5hfLuKFcwHgFo&pid=Api', 'datePublished': '2020-09-15T17:04:57.0000000', 'publisher': [{'name': 'YouTube'}], 'isAccessibleForFree': True, 'contentUrl': 'https://www.youtube.com/watch?v=MzURq2Py4pc', 'hostPageUrl': 'https://www.youtube.com/watch?v=MzURq2Py4pc', 'encodingFormat': 'mp4', 'hostPageDisplayUrl': 'https://www.youtube.com/watch?v=MzURq2Py4pc', 'width': 1280, 'height': 720, 'duration': 'PT26M', 'motionThumbnailUrl': 'https://tse2.mm.bing.net/th?id=OM2.1ii6yVr4UaDlbA_1626865542&pid=Api', 'embedHtml': '&lt;iframe width=&quot;1280&quot; height=&quot;720&quot; src=&quot;http://www.youtube.com/embed/MzURq2Py4pc?autoplay=1&quot; frameborder=&quot;0&quot; allowfullscreen&gt;&lt;/iframe&gt;', 'allowHttpsEmbed': True, 'viewCount': 8441, 'thumbnail': {'width': 160, 'height': 120}, 'allowMobileEmbed': True, 'isSuperfresh': False}, {'webSearchUrl': 'https://www.bing.com/videos/search?q=Google%20CLoud%20Speech%20to%20Text&view=detail&mid=F2F71AF4261E794EC2EFF2F71AF4261E794EC2EF', 'name': 'How to Get Text to Speech For Free From Google Cloud', 'description': 'How to Get Text to Speech For Free From Google Cloud Text-to-Speech Convert text into natural-sounding speech using an API powered by Google’s AI technologies. Also, Google offers the following Choices High fidelity speech Deploy Google’s groundbreaking technologies to generate speech with humanlike intonation. Built based on DeepMind’s ...', 'thumbnailUrl': 'https://tse3.mm.bing.net/th?id=OVP._lxNsRcObZWKURGzUOS0BgHgFo&pid=Api', 'datePublished': '2020-08-03T23:22:08.0000000', 'publisher': [{'name': 'YouTube'}], 'isAccessibleForFree': True, 'contentUrl': 'https://www.youtube.com/watch?v=7NI9OTRzRw4', 'hostPageUrl': 'https://www.youtube.com/watch?v=7NI9OTRzRw4', 'encodingFormat': 'mp4', 'hostPageDisplayUrl': 'https://www.youtube.com/watch?v=7NI9OTRzRw4', 'width': 1280, 'height': 720, 'duration': 'PT6M4S', 'motionThumbnailUrl': 'https://tse3.mm.bing.net/th?id=OM.78JOeR4m9Br38g_1627225594&pid=Api', 'embedHtml': '&lt;iframe width=&quot;1280&quot; height=&quot;720&quot; src=&quot;http://www.youtube.com/embed/7NI9OTRzRw4?autoplay=1&quot; frameborder=&quot;0&quot; allowfullscreen&gt;&lt;/iframe&gt;', 'allowHttpsEmbed': True, 'viewCount': 22533, 'thumbnail': {'width': 160, 'height': 120}, 'allowMobileEmbed': True, 'isSuperfresh': False}, {'webSearchUrl': 'https://www.bing.com/videos/search?q=Google%20CLoud%20Speech%20to%20Text&view=detail&mid=24323DCA6D8CA18CD71624323DCA6D8CA18CD716', 'name': 'Getting Started with Google Cloud Speech-To-Text API in Python', 'description': 'In this tutorial, I will be covering how to get started with Google Cloud Speech-To-Text API in Python. Speech-To-Text is one of the Google Cloud Service products. Using the Speech-To-Text API, we will be able to transcribe media files (audio to text converter) such as MP3, MP4, Wav files or transcribing when we are streaming a podcast (voice ...', 'thumbnailUrl': 'https://tse4.mm.bing.net/th?id=OVP.Lc51QEIJfF6g1TBX-EAQGQEsDh&pid=Api', 'datePublished': '2021-07-28T15:00:25.0000000', 'publisher': [{'name': 'YouTube'}], 'isAccessibleForFree': True, 'contentUrl': 'https://www.youtube.com/watch?v=lKra6E_tp5U', 'hostPageUrl': 'https://www.youtube.com/watch?v=lKra6E_tp5U', 'encodingFormat': 'mp4', 'hostPageDisplayUrl': 'https://www.youtube.com/watch?v=lKra6E_tp5U', 'width': 1280, 'height': 720, 'duration': 'PT30M3S', 'motionThumbnailUrl': 'https://tse4.mm.bing.net/th?id=OM1.FteMoYxtyj0yJA&pid=Api', 'embedHtml': '&lt;iframe width=&quot;1280&quot; height=&quot;720&quot; src=&quot;http://www.youtube.com/embed/lKra6E_tp5U?autoplay=1&quot; frameborder=&quot;0&quot; allowfullscreen&gt;&lt;/iframe&gt;', 'allowHttpsEmbed': True, 'viewCount': 1801, 'thumbnail': {'width': 160, 'height': 120}, 'allowMobileEmbed': True, 'isSuperfresh': False}, {'webSearchUrl': 'https://www.bing.com/videos/search?q=Google%20CLoud%20Speech%20to%20Text&view=detail&mid=18AAD188C347160AE68418AAD188C347160AE684', 'name': 'How to use Google Cloud Speech to Text API Asynchronously in C# Winforms', 'description': 'I coded up an example of using Google Cloud&#39;s Speech to Text API asynchronously. I added NAudio&#39;s Peak Detection code to achieve hands free voice activation speech to text, so no need to \\\\&quot;press a button\\\\&quot; like other examples on the net. This is a work in progress. To get your system set-up in order to use this code, read the notes in my ...', 'thumbnailUrl': 'https://tse2.mm.bing.net/th?id=OVP.51H9EB8-wovqg1J5S8QkaAHgFo&pid=Api', 'datePublished': '2017-12-23T23:28:50.0000000', 'publisher': [{'name': 'YouTube'}], 'isAccessibleForFree': True, 'contentUrl': 'https://www.youtube.com/watch?v=jHrIi71pGvs', 'hostPageUrl': 'https://www.youtube.com/watch?v=jHrIi71pGvs', 'encodingFormat': 'mp4', 'hostPageDisplayUrl': 'https://www.youtube.com/watch?v=jHrIi71pGvs', 'width': 1280, 'height': 720, 'duration': 'PT15M41S', 'motionThumbnailUrl': 'https://tse2.mm.bing.net/th?id=OM1.hOYKFkfDiNGqGA_1621810044&pid=Api', 'embedHtml': '&lt;iframe width=&quot;1280&quot; height=&quot;720&quot; src=&quot;http://www.youtube.com/embed/jHrIi71pGvs?autoplay=1&quot; frameborder=&quot;0&quot; allowfullscreen&gt;&lt;/iframe&gt;', 'allowHttpsEmbed': True, 'viewCount': 20532, 'thumbnail': {'width': 160, 'height': 120}, 'allowMobileEmbed': True, 'isSuperfresh': False}, {'webSearchUrl': 'https://www.bing.com/videos/search?q=Google%20CLoud%20Speech%20to%20Text&view=detail&mid=9409DAC5B5EB7BE8B7BD9409DAC5B5EB7BE8B7BD', 'name': 'How To Download Google Cloud Text To Speech For Youtube Videos', 'description': 'How To Download Google Cloud Text To Speech For Youtube Videos | How to Download text to speech for YouTube Videos | How to download Text to Speech from IBM Watson&#39;s Website | Text to speech software. Download text to speech for YouTube Videos from any Website. How to download text to speech audio | How to download text to speech voices. Please ...', 'thumbnailUrl': 'https://tse4.mm.bing.net/th?id=OVP.inQU5Zowwq2eD8HEFySFugEsDh&pid=Api', 'datePublished': '2021-06-16T10:58:54.0000000', 'publisher': [{'name': 'YouTube'}], 'isAccessibleForFree': True, 'contentUrl': 'https://www.youtube.com/watch?v=9-REf5XO6rw', 'hostPageUrl': 'https://www.youtube.com/watch?v=9-REf5XO6rw', 'encodingFormat': 'mp4', 'hostPageDisplayUrl': 'https://www.youtube.com/watch?v=9-REf5XO6rw', 'width': 1280, 'height': 720, 'duration': 'PT6M44S', 'embedHtml': '&lt;iframe width=&quot;1280&quot; height=&quot;720&quot; src=&quot;http://www.youtube.com/embed/9-REf5XO6rw?autoplay=1&quot; frameborder=&quot;0&quot; allowfullscreen&gt;&lt;/iframe&gt;', 'allowHttpsEmbed': True, 'viewCount': 1940, 'thumbnail': {'width': 160, 'height': 120}, 'allowMobileEmbed': True, 'isSuperfresh': False}, {'webSearchUrl': 'https://www.bing.com/videos/search?q=Google%20CLoud%20Speech%20to%20Text&view=detail&mid=FEAA5A31D612F54D9B18FEAA5A31D612F54D9B18', 'name': 'Omówienie Speech-To-Text od Google Cloud', 'description': 'Dziś przyjrzymy się Speech-To-Text API - usłudze z Portfolio Usług Google Cloud Platform, która daje twórcom aplikacji możliwość zaimplementowania renomowanej technologii rozpoznawania mowy od Google w swoich programach! 0:00 Wprowadzenie 0:50 Czym jest Speech-To-Text? 1:10 Cechy usługi 1:31 Funkcje i tryby korzystania z usługi 2:10 ...', 'thumbnailUrl': 'https://tse4.mm.bing.net/th?id=OVP.wvNLqAEfFCB-4DsO-4peFgEsDh&pid=Api', 'datePublished': '2021-06-07T11:43:57.0000000', 'publisher': [{'name': 'YouTube'}], 'isAccessibleForFree': True, 'contentUrl': 'https://www.youtube.com/watch?v=EJ3gm1bncOM', 'hostPageUrl': 'https://www.youtube.com/watch?v=EJ3gm1bncOM', 'encodingFormat': 'mp4', 'hostPageDisplayUrl': 'https://www.youtube.com/watch?v=EJ3gm1bncOM', 'width': 1280, 'height': 720, 'duration': 'PT4M42S', 'motionThumbnailUrl': 'https://tse4.mm.bing.net/th?id=OM1.GJtN9RLWMVqq_g&pid=Api', 'embedHtml': '&lt;iframe width=&quot;1280&quot; height=&quot;720&quot; src=&quot;http://www.youtube.com/embed/EJ3gm1bncOM?autoplay=1&quot; frameborder=&quot;0&quot; allowfullscreen&gt;&lt;/iframe&gt;', 'allowHttpsEmbed': True, 'viewCount': 152, 'thumbnail': {'width': 160, 'height': 120}, 'allowMobileEmbed': True, 'isSuperfresh': False}, {'webSearchUrl': 'https://www.bing.com/videos/search?q=Google%20CLoud%20Speech%20to%20Text&view=detail&mid=624BB0E813E361E626B4624BB0E813E361E626B4', 'name': 'UiPath | How to use Google Cloud Speech API powered by Machine Learning | Tutorial', 'description': 'Learn how to use Google Cloud Speech-To-Text and Text-To-Speech powered by Machine Learning in UiPath. You&#39;ll see, how you can automatically transcribe +100 languages from speech to text. 00:21 Install the Google Speech Package in UiPath 00:46 Cloud Text-To-Speech setup 01:10 Create a Service Account 02:12 Text to Speech activity 02:34 Setup ...', 'thumbnailUrl': 'https://tse2.mm.bing.net/th?id=OVP.jSboHAgePfWkKPfuMt4avwHgFo&pid=Api', 'datePublished': '2020-02-17T18:10:15.0000000', 'publisher': [{'name': 'YouTube'}], 'isAccessibleForFree': True, 'contentUrl': 'https://www.youtube.com/watch?v=qG35vVwU5fE', 'hostPageUrl': 'https://www.youtube.com/watch?v=qG35vVwU5fE', 'encodingFormat': 'mp4', 'hostPageDisplayUrl': 'https://www.youtube.com/watch?v=qG35vVwU5fE', 'width': 1280, 'height': 720, 'duration': 'PT8M15S', 'motionThumbnailUrl': 'https://tse2.mm.bing.net/th?id=OM2.tCbmYeMT6LBLYg_1622241415&pid=Api', 'embedHtml': '&lt;iframe width=&quot;1280&quot; height=&quot;720&quot; src=&quot;http://www.youtube.com/embed/qG35vVwU5fE?autoplay=1&quot; frameborder=&quot;0&quot; allowfullscreen&gt;&lt;/iframe&gt;', 'allowHttpsEmbed': True, 'viewCount': 9194, 'thumbnail': {'width': 160, 'height': 120}, 'allowMobileEmbed': True, 'isSuperfresh': False}, {'webSearchUrl': 'https://www.bing.com/videos/search?q=Google%20CLoud%20Speech%20to%20Text&view=detail&mid=ABE07C76672856986E48ABE07C76672856986E48', 'name': 'Cloud Speech API Demo', 'description': 'The Cloud Speech API (https://cloud.google.com/speech) transcribes audio in over 80 languages, and supports both batch and streaming formats. This demo shows how to make a curl request to the API. Code for the bash script in the demo can be found here: https://github.com/sararob/ml-talk-demos/blob/master/speech/request.sh', 'thumbnailUrl': 'https://tse3.mm.bing.net/th?id=OVP.7FpKt_H6kvLHKzlTJBRBvwHgFo&pid=Api', 'datePublished': '2017-06-05T18:31:24.0000000', 'publisher': [{'name': 'YouTube'}], 'isAccessibleForFree': True, 'contentUrl': 'https://www.youtube.com/watch?v=z8g3XM16eRM', 'hostPageUrl': 'https://www.youtube.com/watch?v=z8g3XM16eRM', 'encodingFormat': 'mp4', 'hostPageDisplayUrl': 'https://www.youtube.com/watch?v=z8g3XM16eRM', 'width': 1280, 'height': 720, 'duration': 'PT2M49S', 'motionThumbnailUrl': 'https://tse3.mm.bing.net/th?id=OM.SG6YVihndnzgqw_1628680448&pid=Api', 'embedHtml': '&lt;iframe width=&quot;1280&quot; height=&quot;720&quot; src=&quot;http://www.youtube.com/embed/z8g3XM16eRM?autoplay=1&quot; frameborder=&quot;0&quot; allowfullscreen&gt;&lt;/iframe&gt;', 'allowHttpsEmbed': True, 'viewCount': 61826, 'thumbnail': {'width': 160, 'height': 120}, 'allowMobileEmbed': True, 'isSuperfresh': False}, {'webSearchUrl': 'https://www.bing.com/videos/search?q=Google%20CLoud%20Speech%20to%20Text&view=detail&mid=8CC0001DA3130812060C8CC0001DA3130812060C', 'name': 'Recognize Speech like Google does: Cloud Speech-to-Text Advanced Features (Cloud Next &#39;18)', 'description': 'In this session, we will show how to use Cloud Speech-to-Text for Human Computer Interaction and Speech Analytics. We will show how you can use our recently announced pre-built models for phone, video, command and search use cases, and will demonstrate new functionality that makes the API more effective. We will have a guest speaker that will ...', 'thumbnailUrl': 'https://tse2.mm.bing.net/th?id=OVP.jhNFX7a_CsKllDS_wchGXQHgFo&pid=Api', 'datePublished': '2018-07-26T01:18:24.0000000', 'publisher': [{'name': 'YouTube'}], 'isAccessibleForFree': True, 'contentUrl': 'https://www.youtube.com/watch?v=jOYzvq5dBrQ', 'hostPageUrl': 'https://www.youtube.com/watch?v=jOYzvq5dBrQ', 'encodingFormat': 'mp4', 'hostPageDisplayUrl': 'https://www.youtube.com/watch?v=jOYzvq5dBrQ', 'width': 1280, 'height': 720, 'duration': 'PT40M47S', 'motionThumbnailUrl': 'https://tse2.mm.bing.net/th?id=OM1.DAYSCBOjHQDAjA_1627763267&pid=Api', 'embedHtml': '&lt;iframe width=&quot;1280&quot; height=&quot;720&quot; src=&quot;http://www.youtube.com/embed/jOYzvq5dBrQ?autoplay=1&quot; frameborder=&quot;0&quot; allowfullscreen&gt;&lt;/iframe&gt;', 'allowHttpsEmbed': True, 'viewCount': 17050, 'thumbnail': {'width': 160, 'height': 120}, 'allowMobileEmbed': True, 'isSuperfresh': False}]\n",
      "scenario         :  List\n"
     ]
    }
   ],
   "source": [
    "for k, v in res['videos'].items():\n",
    "  print(\"{:17s}:  {}\".format(k, v))"
   ]
  },
  {
   "cell_type": "code",
   "execution_count": 77,
   "metadata": {
    "colab": {
     "base_uri": "https://localhost:8080/"
    },
    "executionInfo": {
     "elapsed": 342,
     "status": "ok",
     "timestamp": 1631907252142,
     "user": {
      "displayName": "Siddhartha Shanmuhavel",
      "photoUrl": "https://lh3.googleusercontent.com/a/default-user=s64",
      "userId": "05346328597111107310"
     },
     "user_tz": -60
    },
    "id": "Iz7gtE5MO1D8",
    "outputId": "c258bad2-aa45-4004-a139-7f7f570319dc"
   },
   "outputs": [
    {
     "name": "stdout",
     "output_type": "stream",
     "text": [
      "webSearchUrl        : https://www.bing.com/videos/search?q=Google%20CLoud%20Speech%20to%20Text&view=detail&mid=2F9E3B817069DC15ED3F2F9E3B817069DC15ED3F\n",
      "name                : Speech to Text using Google API\n",
      "description         : #datascience #speechtotext #googlecloud If you are looking for speech to text using complete open source package you can check my video on deep speech here - https://youtu.be/iWha--55Lz0 Google cloud provides a set of cognitive APIs that are easy to incorporate in your project for complex tasks like speech to text or OCR. Speech to text ...\n",
      "thumbnailUrl        : https://tse4.mm.bing.net/th?id=OVP.4GO3IPffL-XpvJVfOPX6awHgFo&pid=Api\n",
      "datePublished       : 2020-09-18T13:36:13.0000000\n",
      "publisher           : [{'name': 'YouTube'}]\n",
      "isAccessibleForFree : True\n",
      "contentUrl          : https://www.youtube.com/watch?v=ZkTiKPUSYj4\n",
      "hostPageUrl         : https://www.youtube.com/watch?v=ZkTiKPUSYj4\n",
      "encodingFormat      : mp4\n",
      "hostPageDisplayUrl  : https://www.youtube.com/watch?v=ZkTiKPUSYj4\n",
      "width               : 1280\n",
      "height              : 720\n",
      "duration            : PT9M40S\n",
      "motionThumbnailUrl  : https://tse4.mm.bing.net/th?id=OM.P-0V3GlwgTueLw_1626849688&pid=Api\n",
      "embedHtml           : &lt;iframe width=&quot;1280&quot; height=&quot;720&quot; src=&quot;http://www.youtube.com/embed/ZkTiKPUSYj4?autoplay=1&quot; frameborder=&quot;0&quot; allowfullscreen&gt;&lt;/iframe&gt;\n",
      "allowHttpsEmbed     : True\n",
      "viewCount           : 14294\n",
      "thumbnail           : {'width': 160, 'height': 120}\n",
      "allowMobileEmbed    : True\n",
      "isSuperfresh        : False\n",
      "---------------------------------------------------------------------------------------------------- \n",
      "\n",
      "webSearchUrl        : https://www.bing.com/videos/search?q=Google%20CLoud%20Speech%20to%20Text&view=detail&mid=6CE5A051F85AC9BA28D66CE5A051F85AC9BA28D6\n",
      "name                : Measuring and improving Speech-to-Text accuracy\n",
      "description         : Google Cloud’s Speech-to-Text API provides incredible accuracy out of the box. What you might not know is that it also has new tools for enhancing accuracy and customizing the model for your industry, domain, or use case. Come learn how we measure accuracy at Google and how you can use our tools to customize your model and improve accuracy ...\n",
      "thumbnailUrl        : https://tse2.mm.bing.net/th?id=OVP.FsQ66u9xlMx7X5hfLuKFcwHgFo&pid=Api\n",
      "datePublished       : 2020-09-15T17:04:57.0000000\n",
      "publisher           : [{'name': 'YouTube'}]\n",
      "isAccessibleForFree : True\n",
      "contentUrl          : https://www.youtube.com/watch?v=MzURq2Py4pc\n",
      "hostPageUrl         : https://www.youtube.com/watch?v=MzURq2Py4pc\n",
      "encodingFormat      : mp4\n",
      "hostPageDisplayUrl  : https://www.youtube.com/watch?v=MzURq2Py4pc\n",
      "width               : 1280\n",
      "height              : 720\n",
      "duration            : PT26M\n",
      "motionThumbnailUrl  : https://tse2.mm.bing.net/th?id=OM2.1ii6yVr4UaDlbA_1626865542&pid=Api\n",
      "embedHtml           : &lt;iframe width=&quot;1280&quot; height=&quot;720&quot; src=&quot;http://www.youtube.com/embed/MzURq2Py4pc?autoplay=1&quot; frameborder=&quot;0&quot; allowfullscreen&gt;&lt;/iframe&gt;\n",
      "allowHttpsEmbed     : True\n",
      "viewCount           : 8441\n",
      "thumbnail           : {'width': 160, 'height': 120}\n",
      "allowMobileEmbed    : True\n",
      "isSuperfresh        : False\n",
      "---------------------------------------------------------------------------------------------------- \n",
      "\n",
      "webSearchUrl        : https://www.bing.com/videos/search?q=Google%20CLoud%20Speech%20to%20Text&view=detail&mid=F2F71AF4261E794EC2EFF2F71AF4261E794EC2EF\n",
      "name                : How to Get Text to Speech For Free From Google Cloud\n",
      "description         : How to Get Text to Speech For Free From Google Cloud Text-to-Speech Convert text into natural-sounding speech using an API powered by Google’s AI technologies. Also, Google offers the following Choices High fidelity speech Deploy Google’s groundbreaking technologies to generate speech with humanlike intonation. Built based on DeepMind’s ...\n",
      "thumbnailUrl        : https://tse3.mm.bing.net/th?id=OVP._lxNsRcObZWKURGzUOS0BgHgFo&pid=Api\n",
      "datePublished       : 2020-08-03T23:22:08.0000000\n",
      "publisher           : [{'name': 'YouTube'}]\n",
      "isAccessibleForFree : True\n",
      "contentUrl          : https://www.youtube.com/watch?v=7NI9OTRzRw4\n",
      "hostPageUrl         : https://www.youtube.com/watch?v=7NI9OTRzRw4\n",
      "encodingFormat      : mp4\n",
      "hostPageDisplayUrl  : https://www.youtube.com/watch?v=7NI9OTRzRw4\n",
      "width               : 1280\n",
      "height              : 720\n",
      "duration            : PT6M4S\n",
      "motionThumbnailUrl  : https://tse3.mm.bing.net/th?id=OM.78JOeR4m9Br38g_1627225594&pid=Api\n",
      "embedHtml           : &lt;iframe width=&quot;1280&quot; height=&quot;720&quot; src=&quot;http://www.youtube.com/embed/7NI9OTRzRw4?autoplay=1&quot; frameborder=&quot;0&quot; allowfullscreen&gt;&lt;/iframe&gt;\n",
      "allowHttpsEmbed     : True\n",
      "viewCount           : 22533\n",
      "thumbnail           : {'width': 160, 'height': 120}\n",
      "allowMobileEmbed    : True\n",
      "isSuperfresh        : False\n",
      "---------------------------------------------------------------------------------------------------- \n",
      "\n",
      "webSearchUrl        : https://www.bing.com/videos/search?q=Google%20CLoud%20Speech%20to%20Text&view=detail&mid=24323DCA6D8CA18CD71624323DCA6D8CA18CD716\n",
      "name                : Getting Started with Google Cloud Speech-To-Text API in Python\n",
      "description         : In this tutorial, I will be covering how to get started with Google Cloud Speech-To-Text API in Python. Speech-To-Text is one of the Google Cloud Service products. Using the Speech-To-Text API, we will be able to transcribe media files (audio to text converter) such as MP3, MP4, Wav files or transcribing when we are streaming a podcast (voice ...\n",
      "thumbnailUrl        : https://tse4.mm.bing.net/th?id=OVP.Lc51QEIJfF6g1TBX-EAQGQEsDh&pid=Api\n",
      "datePublished       : 2021-07-28T15:00:25.0000000\n",
      "publisher           : [{'name': 'YouTube'}]\n",
      "isAccessibleForFree : True\n",
      "contentUrl          : https://www.youtube.com/watch?v=lKra6E_tp5U\n",
      "hostPageUrl         : https://www.youtube.com/watch?v=lKra6E_tp5U\n",
      "encodingFormat      : mp4\n",
      "hostPageDisplayUrl  : https://www.youtube.com/watch?v=lKra6E_tp5U\n",
      "width               : 1280\n",
      "height              : 720\n",
      "duration            : PT30M3S\n",
      "motionThumbnailUrl  : https://tse4.mm.bing.net/th?id=OM1.FteMoYxtyj0yJA&pid=Api\n",
      "embedHtml           : &lt;iframe width=&quot;1280&quot; height=&quot;720&quot; src=&quot;http://www.youtube.com/embed/lKra6E_tp5U?autoplay=1&quot; frameborder=&quot;0&quot; allowfullscreen&gt;&lt;/iframe&gt;\n",
      "allowHttpsEmbed     : True\n",
      "viewCount           : 1801\n",
      "thumbnail           : {'width': 160, 'height': 120}\n",
      "allowMobileEmbed    : True\n",
      "isSuperfresh        : False\n",
      "---------------------------------------------------------------------------------------------------- \n",
      "\n",
      "webSearchUrl        : https://www.bing.com/videos/search?q=Google%20CLoud%20Speech%20to%20Text&view=detail&mid=18AAD188C347160AE68418AAD188C347160AE684\n",
      "name                : How to use Google Cloud Speech to Text API Asynchronously in C# Winforms\n",
      "description         : I coded up an example of using Google Cloud&#39;s Speech to Text API asynchronously. I added NAudio&#39;s Peak Detection code to achieve hands free voice activation speech to text, so no need to \\&quot;press a button\\&quot; like other examples on the net. This is a work in progress. To get your system set-up in order to use this code, read the notes in my ...\n",
      "thumbnailUrl        : https://tse2.mm.bing.net/th?id=OVP.51H9EB8-wovqg1J5S8QkaAHgFo&pid=Api\n",
      "datePublished       : 2017-12-23T23:28:50.0000000\n",
      "publisher           : [{'name': 'YouTube'}]\n",
      "isAccessibleForFree : True\n",
      "contentUrl          : https://www.youtube.com/watch?v=jHrIi71pGvs\n",
      "hostPageUrl         : https://www.youtube.com/watch?v=jHrIi71pGvs\n",
      "encodingFormat      : mp4\n",
      "hostPageDisplayUrl  : https://www.youtube.com/watch?v=jHrIi71pGvs\n",
      "width               : 1280\n",
      "height              : 720\n",
      "duration            : PT15M41S\n",
      "motionThumbnailUrl  : https://tse2.mm.bing.net/th?id=OM1.hOYKFkfDiNGqGA_1621810044&pid=Api\n",
      "embedHtml           : &lt;iframe width=&quot;1280&quot; height=&quot;720&quot; src=&quot;http://www.youtube.com/embed/jHrIi71pGvs?autoplay=1&quot; frameborder=&quot;0&quot; allowfullscreen&gt;&lt;/iframe&gt;\n",
      "allowHttpsEmbed     : True\n",
      "viewCount           : 20532\n",
      "thumbnail           : {'width': 160, 'height': 120}\n",
      "allowMobileEmbed    : True\n",
      "isSuperfresh        : False\n",
      "---------------------------------------------------------------------------------------------------- \n",
      "\n",
      "webSearchUrl        : https://www.bing.com/videos/search?q=Google%20CLoud%20Speech%20to%20Text&view=detail&mid=9409DAC5B5EB7BE8B7BD9409DAC5B5EB7BE8B7BD\n",
      "name                : How To Download Google Cloud Text To Speech For Youtube Videos\n",
      "description         : How To Download Google Cloud Text To Speech For Youtube Videos | How to Download text to speech for YouTube Videos | How to download Text to Speech from IBM Watson&#39;s Website | Text to speech software. Download text to speech for YouTube Videos from any Website. How to download text to speech audio | How to download text to speech voices. Please ...\n",
      "thumbnailUrl        : https://tse4.mm.bing.net/th?id=OVP.inQU5Zowwq2eD8HEFySFugEsDh&pid=Api\n",
      "datePublished       : 2021-06-16T10:58:54.0000000\n",
      "publisher           : [{'name': 'YouTube'}]\n",
      "isAccessibleForFree : True\n",
      "contentUrl          : https://www.youtube.com/watch?v=9-REf5XO6rw\n",
      "hostPageUrl         : https://www.youtube.com/watch?v=9-REf5XO6rw\n",
      "encodingFormat      : mp4\n",
      "hostPageDisplayUrl  : https://www.youtube.com/watch?v=9-REf5XO6rw\n",
      "width               : 1280\n",
      "height              : 720\n",
      "duration            : PT6M44S\n",
      "embedHtml           : &lt;iframe width=&quot;1280&quot; height=&quot;720&quot; src=&quot;http://www.youtube.com/embed/9-REf5XO6rw?autoplay=1&quot; frameborder=&quot;0&quot; allowfullscreen&gt;&lt;/iframe&gt;\n",
      "allowHttpsEmbed     : True\n",
      "viewCount           : 1940\n",
      "thumbnail           : {'width': 160, 'height': 120}\n",
      "allowMobileEmbed    : True\n",
      "isSuperfresh        : False\n",
      "---------------------------------------------------------------------------------------------------- \n",
      "\n",
      "webSearchUrl        : https://www.bing.com/videos/search?q=Google%20CLoud%20Speech%20to%20Text&view=detail&mid=FEAA5A31D612F54D9B18FEAA5A31D612F54D9B18\n",
      "name                : Omówienie Speech-To-Text od Google Cloud\n",
      "description         : Dziś przyjrzymy się Speech-To-Text API - usłudze z Portfolio Usług Google Cloud Platform, która daje twórcom aplikacji możliwość zaimplementowania renomowanej technologii rozpoznawania mowy od Google w swoich programach! 0:00 Wprowadzenie 0:50 Czym jest Speech-To-Text? 1:10 Cechy usługi 1:31 Funkcje i tryby korzystania z usługi 2:10 ...\n",
      "thumbnailUrl        : https://tse4.mm.bing.net/th?id=OVP.wvNLqAEfFCB-4DsO-4peFgEsDh&pid=Api\n",
      "datePublished       : 2021-06-07T11:43:57.0000000\n",
      "publisher           : [{'name': 'YouTube'}]\n",
      "isAccessibleForFree : True\n",
      "contentUrl          : https://www.youtube.com/watch?v=EJ3gm1bncOM\n",
      "hostPageUrl         : https://www.youtube.com/watch?v=EJ3gm1bncOM\n",
      "encodingFormat      : mp4\n",
      "hostPageDisplayUrl  : https://www.youtube.com/watch?v=EJ3gm1bncOM\n",
      "width               : 1280\n",
      "height              : 720\n",
      "duration            : PT4M42S\n",
      "motionThumbnailUrl  : https://tse4.mm.bing.net/th?id=OM1.GJtN9RLWMVqq_g&pid=Api\n",
      "embedHtml           : &lt;iframe width=&quot;1280&quot; height=&quot;720&quot; src=&quot;http://www.youtube.com/embed/EJ3gm1bncOM?autoplay=1&quot; frameborder=&quot;0&quot; allowfullscreen&gt;&lt;/iframe&gt;\n",
      "allowHttpsEmbed     : True\n",
      "viewCount           : 152\n",
      "thumbnail           : {'width': 160, 'height': 120}\n",
      "allowMobileEmbed    : True\n",
      "isSuperfresh        : False\n",
      "---------------------------------------------------------------------------------------------------- \n",
      "\n",
      "webSearchUrl        : https://www.bing.com/videos/search?q=Google%20CLoud%20Speech%20to%20Text&view=detail&mid=624BB0E813E361E626B4624BB0E813E361E626B4\n",
      "name                : UiPath | How to use Google Cloud Speech API powered by Machine Learning | Tutorial\n",
      "description         : Learn how to use Google Cloud Speech-To-Text and Text-To-Speech powered by Machine Learning in UiPath. You&#39;ll see, how you can automatically transcribe +100 languages from speech to text. 00:21 Install the Google Speech Package in UiPath 00:46 Cloud Text-To-Speech setup 01:10 Create a Service Account 02:12 Text to Speech activity 02:34 Setup ...\n",
      "thumbnailUrl        : https://tse2.mm.bing.net/th?id=OVP.jSboHAgePfWkKPfuMt4avwHgFo&pid=Api\n",
      "datePublished       : 2020-02-17T18:10:15.0000000\n",
      "publisher           : [{'name': 'YouTube'}]\n",
      "isAccessibleForFree : True\n",
      "contentUrl          : https://www.youtube.com/watch?v=qG35vVwU5fE\n",
      "hostPageUrl         : https://www.youtube.com/watch?v=qG35vVwU5fE\n",
      "encodingFormat      : mp4\n",
      "hostPageDisplayUrl  : https://www.youtube.com/watch?v=qG35vVwU5fE\n",
      "width               : 1280\n",
      "height              : 720\n",
      "duration            : PT8M15S\n",
      "motionThumbnailUrl  : https://tse2.mm.bing.net/th?id=OM2.tCbmYeMT6LBLYg_1622241415&pid=Api\n",
      "embedHtml           : &lt;iframe width=&quot;1280&quot; height=&quot;720&quot; src=&quot;http://www.youtube.com/embed/qG35vVwU5fE?autoplay=1&quot; frameborder=&quot;0&quot; allowfullscreen&gt;&lt;/iframe&gt;\n",
      "allowHttpsEmbed     : True\n",
      "viewCount           : 9194\n",
      "thumbnail           : {'width': 160, 'height': 120}\n",
      "allowMobileEmbed    : True\n",
      "isSuperfresh        : False\n",
      "---------------------------------------------------------------------------------------------------- \n",
      "\n",
      "webSearchUrl        : https://www.bing.com/videos/search?q=Google%20CLoud%20Speech%20to%20Text&view=detail&mid=ABE07C76672856986E48ABE07C76672856986E48\n",
      "name                : Cloud Speech API Demo\n",
      "description         : The Cloud Speech API (https://cloud.google.com/speech) transcribes audio in over 80 languages, and supports both batch and streaming formats. This demo shows how to make a curl request to the API. Code for the bash script in the demo can be found here: https://github.com/sararob/ml-talk-demos/blob/master/speech/request.sh\n",
      "thumbnailUrl        : https://tse3.mm.bing.net/th?id=OVP.7FpKt_H6kvLHKzlTJBRBvwHgFo&pid=Api\n",
      "datePublished       : 2017-06-05T18:31:24.0000000\n",
      "publisher           : [{'name': 'YouTube'}]\n",
      "isAccessibleForFree : True\n",
      "contentUrl          : https://www.youtube.com/watch?v=z8g3XM16eRM\n",
      "hostPageUrl         : https://www.youtube.com/watch?v=z8g3XM16eRM\n",
      "encodingFormat      : mp4\n",
      "hostPageDisplayUrl  : https://www.youtube.com/watch?v=z8g3XM16eRM\n",
      "width               : 1280\n",
      "height              : 720\n",
      "duration            : PT2M49S\n",
      "motionThumbnailUrl  : https://tse3.mm.bing.net/th?id=OM.SG6YVihndnzgqw_1628680448&pid=Api\n",
      "embedHtml           : &lt;iframe width=&quot;1280&quot; height=&quot;720&quot; src=&quot;http://www.youtube.com/embed/z8g3XM16eRM?autoplay=1&quot; frameborder=&quot;0&quot; allowfullscreen&gt;&lt;/iframe&gt;\n",
      "allowHttpsEmbed     : True\n",
      "viewCount           : 61826\n",
      "thumbnail           : {'width': 160, 'height': 120}\n",
      "allowMobileEmbed    : True\n",
      "isSuperfresh        : False\n",
      "---------------------------------------------------------------------------------------------------- \n",
      "\n",
      "webSearchUrl        : https://www.bing.com/videos/search?q=Google%20CLoud%20Speech%20to%20Text&view=detail&mid=8CC0001DA3130812060C8CC0001DA3130812060C\n",
      "name                : Recognize Speech like Google does: Cloud Speech-to-Text Advanced Features (Cloud Next &#39;18)\n",
      "description         : In this session, we will show how to use Cloud Speech-to-Text for Human Computer Interaction and Speech Analytics. We will show how you can use our recently announced pre-built models for phone, video, command and search use cases, and will demonstrate new functionality that makes the API more effective. We will have a guest speaker that will ...\n",
      "thumbnailUrl        : https://tse2.mm.bing.net/th?id=OVP.jhNFX7a_CsKllDS_wchGXQHgFo&pid=Api\n",
      "datePublished       : 2018-07-26T01:18:24.0000000\n",
      "publisher           : [{'name': 'YouTube'}]\n",
      "isAccessibleForFree : True\n",
      "contentUrl          : https://www.youtube.com/watch?v=jOYzvq5dBrQ\n",
      "hostPageUrl         : https://www.youtube.com/watch?v=jOYzvq5dBrQ\n",
      "encodingFormat      : mp4\n",
      "hostPageDisplayUrl  : https://www.youtube.com/watch?v=jOYzvq5dBrQ\n",
      "width               : 1280\n",
      "height              : 720\n",
      "duration            : PT40M47S\n",
      "motionThumbnailUrl  : https://tse2.mm.bing.net/th?id=OM1.DAYSCBOjHQDAjA_1627763267&pid=Api\n",
      "embedHtml           : &lt;iframe width=&quot;1280&quot; height=&quot;720&quot; src=&quot;http://www.youtube.com/embed/jOYzvq5dBrQ?autoplay=1&quot; frameborder=&quot;0&quot; allowfullscreen&gt;&lt;/iframe&gt;\n",
      "allowHttpsEmbed     : True\n",
      "viewCount           : 17050\n",
      "thumbnail           : {'width': 160, 'height': 120}\n",
      "allowMobileEmbed    : True\n",
      "isSuperfresh        : False\n",
      "---------------------------------------------------------------------------------------------------- \n",
      "\n"
     ]
    }
   ],
   "source": [
    "for video in res['videos']['value']:\n",
    "  for k,v in video.items():\n",
    "    print('{:20s}: {}'.format(k, v))\n",
    "  print('-'*100,'\\n')"
   ]
  },
  {
   "cell_type": "code",
   "execution_count": null,
   "metadata": {
    "id": "_VibBM3gO33b"
   },
   "outputs": [],
   "source": []
  },
  {
   "cell_type": "markdown",
   "metadata": {
    "id": "d-51qa2bQJ-z"
   },
   "source": [
    "# Bing Image Search API"
   ]
  },
  {
   "cell_type": "code",
   "execution_count": 78,
   "metadata": {
    "executionInfo": {
     "elapsed": 403,
     "status": "ok",
     "timestamp": 1631907395547,
     "user": {
      "displayName": "Siddhartha Shanmuhavel",
      "photoUrl": "https://lh3.googleusercontent.com/a/default-user=s64",
      "userId": "05346328597111107310"
     },
     "user_tz": -60
    },
    "id": "RTKIo-IZQOlA"
   },
   "outputs": [],
   "source": [
    "from PIL import Image\n",
    "import requests\n",
    "import matplotlib.pyplot as plt\n",
    "\n",
    "def show_img(url,  title=''):\n",
    "  response = requests.get(url, stream=True)\n",
    "  img = Image.open(response.raw)\n",
    "\n",
    "  plt.imshow(img)\n",
    "  plt.axis('off')\n",
    "  plt.title(title)\n",
    "  plt.show()\n",
    "\n",
    "\n",
    "def search_image(search_term):\n",
    "\n",
    "  subscription_key = \"e7d4036fd39546cd9881f6b16163c972\"\n",
    "  assert subscription_key\n",
    "\n",
    "  headers = {\"Ocp-Apim-Subscription-Key\": subscription_key}\n",
    "  params = {\"q\": search_term, \"textDecorations\": True, \"textFormat\": \"HTML\"}\n",
    "  search_url = \"https://api.bing.microsoft.com/v7.0/images/search\"\n",
    "\n",
    "  try:\n",
    "      response = requests.get(search_url, headers=headers, params=params)\n",
    "      response.raise_for_status()\n",
    "      image_results = response.json()\n",
    "  except Exception as e:\n",
    "      raise e\n",
    "  finally:\n",
    "      return image_results"
   ]
  },
  {
   "cell_type": "code",
   "execution_count": 83,
   "metadata": {
    "colab": {
     "base_uri": "https://localhost:8080/"
    },
    "executionInfo": {
     "elapsed": 1007,
     "status": "ok",
     "timestamp": 1631907564755,
     "user": {
      "displayName": "Siddhartha Shanmuhavel",
      "photoUrl": "https://lh3.googleusercontent.com/a/default-user=s64",
      "userId": "05346328597111107310"
     },
     "user_tz": -60
    },
    "id": "pduVsVBBQrRC",
    "outputId": "fd39dc9d-50ef-4e5f-a850-1d3c0bdb6add"
   },
   "outputs": [
    {
     "name": "stdout",
     "output_type": "stream",
     "text": [
      "_type                 : Images\n",
      "instrumentation       : {'_type': 'ResponseInstrumentation'}\n",
      "readLink              : images/search?q=Bill Gates\n",
      "webSearchUrl          : https://www.bing.com/images/search?q=Bill Gates&FORM=OIIARP\n",
      "queryContext          : {'originalQuery': 'Bill Gates', 'alterationDisplayQuery': 'bill gates', 'alterationOverrideQuery': '+Bill Gates', 'alterationMethod': 'AM_JustChangeIt', 'alterationType': 'CombinedAlterationsChained'}\n",
      "totalEstimatedMatches : 1000\n",
      "nextOffset            : 46\n",
      "currentOffset         : 0\n",
      "value                 : [{'webSearchUrl': 'https://www.bing.com/images/search?view=detailv2&FORM=OIIRPO&q=Bill+Gates&id=2C6AF49F875ACB48003F716C5AD0D9318C2F855E&simid=608039473717668890', 'name': 'Bill Gates - Biografia - InfoEscola', 'thumbnailUrl': 'https://tse1.mm.bing.net/th?id=OIP.AQioVXa3ai-g7oRgSV08gAHaLG&pid=Api', 'datePublished': '2020-09-07T20:39:00.0000000Z', 'isFamilyFriendly': True, 'contentUrl': 'https://www.infoescola.com/wp-content/uploads/2010/08/Bill-Gates_155863802.jpg', 'hostPageUrl': 'https://www.infoescola.com/biografias/bill-gates/', 'contentSize': '795587 B', 'encodingFormat': 'jpeg', 'hostPageDisplayUrl': 'https://www.infoescola.com/biografias/<b>bill-gates</b>', 'width': 1959, 'height': 2938, 'hostPageFavIconUrl': 'https://www.bing.com/th?id=ODF.Y8wXjtC8vhJaPSUcu4J6zw&amp;pid=Api', 'hostPageDiscoveredDate': '2017-11-15T00:00:00.0000000Z', 'thumbnail': {'width': 474, 'height': 710}, 'imageInsightsToken': 'ccid_AQioVXa3*cp_E60AF350E894359443C4940E13160D1D*mid_2C6AF49F875ACB48003F716C5AD0D9318C2F855E*simid_608039473717668890*thid_OIP.AQioVXa3ai-g7oRgSV08gAHaLG', 'insightsMetadata': {'recipeSourcesCount': 0, 'pagesIncludingCount': 13, 'availableSizesCount': 11}, 'imageId': '2C6AF49F875ACB48003F716C5AD0D9318C2F855E', 'accentColor': '1D47AE'}, {'webSearchUrl': 'https://www.bing.com/images/search?view=detailv2&FORM=OIIRPO&q=Bill+Gates&id=0F0E7ABA8ABD27375FBA5BFAF7CFD413515DC304&simid=607987985666755288', 'name': 'Bill Gates - Wikiquote, le recueil de citations libres', 'thumbnailUrl': 'https://tse3.mm.bing.net/th?id=OIP.VFsb7whB9BeDZXnmYYTsRwHaLK&pid=Api', 'datePublished': '2020-08-28T07:51:00.0000000Z', 'isFamilyFriendly': True, 'creativeCommons': 'AttributionShareAlike', 'contentUrl': 'https://upload.wikimedia.org/wikipedia/commons/thumb/0/01/Bill_Gates_July_2014.jpg/1200px-Bill_Gates_July_2014.jpg', 'hostPageUrl': 'https://fr.wikiquote.org/wiki/Bill_Gates', 'contentSize': '254348 B', 'encodingFormat': 'jpeg', 'hostPageDisplayUrl': 'https://fr.wikiquote.org/wiki/<b>Bill_Gates</b>', 'width': 1200, 'height': 1808, 'hostPageFavIconUrl': 'https://www.bing.com/th?id=ODF.8fSdG-LJ2boOXsIyVqt62w&amp;pid=Api', 'hostPageDomainFriendlyName': 'Wikiquote', 'hostPageDiscoveredDate': '2014-01-04T00:00:00.0000000Z', 'thumbnail': {'width': 474, 'height': 714}, 'imageInsightsToken': 'ccid_VFsb7whB*cp_A51DA89416E97408A233718E3785253A*mid_0F0E7ABA8ABD27375FBA5BFAF7CFD413515DC304*simid_607987985666755288*thid_OIP.VFsb7whB9BeDZXnmYYTsRwHaLK', 'insightsMetadata': {'recipeSourcesCount': 0, 'pagesIncludingCount': 141, 'availableSizesCount': 65}, 'imageId': '0F0E7ABA8ABD27375FBA5BFAF7CFD413515DC304', 'accentColor': '1A1811'}, {'webSearchUrl': 'https://www.bing.com/images/search?view=detailv2&FORM=OIIRPO&q=Bill+Gates&id=3403531EEEEB5FC084A24D35880717C24F471C13&simid=608054433090123250', 'name': 'Bill Gates tritt aus Microsoft-Verwaltungsrat zurück - IT ...', 'thumbnailUrl': 'https://tse3.mm.bing.net/th?id=OIP._Ob3ZPYdclC1wCqZfJmeGwHaJ5&pid=Api', 'datePublished': '2020-03-16T12:02:00.0000000Z', 'isFamilyFriendly': True, 'contentUrl': 'https://www.itreseller.ch/imgserver/artikel/Personen/2020/mid/Bill_Gates_200316_090318.jpg', 'hostPageUrl': 'https://www.itreseller.ch/Artikel/91120/Bill_Gates_tritt_aus_Microsoft-Verwaltungsrat_zurueck.html', 'contentSize': '379923 B', 'encodingFormat': 'jpeg', 'hostPageDisplayUrl': 'https://www.itreseller.ch/Artikel/91120/<b>Bill_Gates</b>_tritt_aus_Microsoft-Verwaltungsrat...', 'width': 1489, 'height': 1991, 'hostPageFavIconUrl': 'https://www.bing.com/th?id=ODF.LUFqgZ8MjJNsepZflA2p0A&amp;pid=Api', 'hostPageDomainFriendlyName': 'itreseller.ch', 'hostPageDiscoveredDate': '2020-03-16T12:02:00.0000000Z', 'thumbnail': {'width': 474, 'height': 633}, 'imageInsightsToken': 'ccid_/Ob3ZPYd*cp_94E4B33000610AB85EB0248CA8A44DB7*mid_3403531EEEEB5FC084A24D35880717C24F471C13*simid_608054433090123250*thid_OIP.!_Ob3ZPYdclC1wCqZfJmeGwHaJ5', 'insightsMetadata': {'recipeSourcesCount': 0, 'pagesIncludingCount': 392, 'availableSizesCount': 120}, 'imageId': '3403531EEEEB5FC084A24D35880717C24F471C13', 'accentColor': '614982'}, {'webSearchUrl': 'https://www.bing.com/images/search?view=detailv2&FORM=OIIRPO&q=Bill+Gates&id=F70E87FABCFB91F747134378380B666068667374&simid=607995763840471437', 'name': 'Bill Gates se lanza ahora a combatir el cambio climático', 'thumbnailUrl': 'https://tse1.mm.bing.net/th?id=OIP.WCUZOPY2cvuJhYvOnk_IzAHaE5&pid=Api', 'datePublished': '2021-03-09T12:30:00.0000000Z', 'isFamilyFriendly': True, 'contentUrl': 'https://estaticos-cdn.elperiodico.com/clip/41340554-4beb-45e5-9027-9abd77f284c0_alta-libre-aspect-ratio_default_0.jpg', 'hostPageUrl': 'https://www.elperiodico.com/es/medio-ambiente/20210215/bill-gates-lanza-ahora-combatir-11521878', 'contentSize': '59096 B', 'encodingFormat': 'jpeg', 'hostPageDisplayUrl': 'https://www.elperiodico.com/es/medio-ambiente/20210215/<b>bill-gates</b>-lanza-ahora-combatir...', 'width': 1200, 'height': 793, 'hostPageFavIconUrl': 'https://www.bing.com/th?id=ODF.ms3GccYmxfzHPOTZViSZRg&amp;pid=Api', 'hostPageDomainFriendlyName': 'El Periódico', 'hostPageDiscoveredDate': '2021-03-06T00:00:00.0000000Z', 'thumbnail': {'width': 474, 'height': 313}, 'imageInsightsToken': 'ccid_WCUZOPY2*cp_DC8E3471B46CB485F5726B166C6BAAC7*mid_F70E87FABCFB91F747134378380B666068667374*simid_607995763840471437*thid_OIP.WCUZOPY2cvuJhYvOnk!_IzAHaE5', 'insightsMetadata': {'pagesIncludingCount': 144, 'availableSizesCount': 103}, 'imageId': 'F70E87FABCFB91F747134378380B666068667374', 'accentColor': 'A34C28'}, {'webSearchUrl': 'https://www.bing.com/images/search?view=detailv2&FORM=OIIRPO&q=Bill+Gates&id=F0626A18CCA45475B602869D31793D8C2DB3FB00&simid=608017925876710811', 'name': 'Bill Gates to deliver Covid keynote at Congress 2020 – TBI ...', 'thumbnailUrl': 'https://tse4.mm.bing.net/th?id=OIP.pMWrJ3YlHLMiBq6V2Uql-QHaFS&pid=Api', 'datePublished': '2021-07-20T20:01:00.0000000Z', 'isFamilyFriendly': True, 'contentUrl': 'https://tbivision.com/files/2020/10/Bill-Gates-headshot-1024x732.jpg', 'hostPageUrl': 'https://tbivision.com/2020/10/26/bill-gates-to-deliver-covid-keynote-at-congress-2020/', 'contentSize': '104988 B', 'encodingFormat': 'jpeg', 'hostPageDisplayUrl': 'https://tbivision.com/2020/10/26/<b>bill-gates</b>-to-deliver-covid-keynote-at-congress-2020', 'width': 1024, 'height': 732, 'hostPageFavIconUrl': 'https://www.bing.com/th?id=ODF.tEzoFv-fb50zTzEsekzyqA&amp;pid=Api', 'hostPageDomainFriendlyName': 'TBI Vision', 'hostPageDiscoveredDate': '2020-10-26T00:00:00.0000000Z', 'thumbnail': {'width': 474, 'height': 338}, 'imageInsightsToken': 'ccid_pMWrJ3Yl*cp_5BD1A5DC77749425350E70DA91502C3A*mid_F0626A18CCA45475B602869D31793D8C2DB3FB00*simid_608017925876710811*thid_OIP.pMWrJ3YlHLMiBq6V2Uql-QHaFS', 'insightsMetadata': {'recipeSourcesCount': 0, 'pagesIncludingCount': 10, 'availableSizesCount': 4}, 'imageId': 'F0626A18CCA45475B602869D31793D8C2DB3FB00', 'accentColor': '7C664F'}, {'webSearchUrl': 'https://www.bing.com/images/search?view=detailv2&FORM=OIIRPO&q=Bill+Gates&id=0F548D48661C065230FD6A03338C492615B2AB7A&simid=607990042950514456', 'name': 'Corbett Report: Meet Bill Gates -- Puppet Masters -- Sott.net', 'thumbnailUrl': 'https://tse2.mm.bing.net/th?id=OIP.omsyCETSMPFgMStAkYb7IAHaFk&pid=Api', 'datePublished': '2020-05-25T02:12:00.0000000Z', 'isFamilyFriendly': True, 'contentUrl': 'https://www.sott.net/image/s28/569885/full/Biz_billgates_950211062.jpg', 'hostPageUrl': 'https://www.sott.net/article/435036-Corbett-Report-Meet-Bill-Gates', 'contentSize': '270256 B', 'encodingFormat': 'jpeg', 'hostPageDisplayUrl': 'https://www.sott.net/article/435036-Corbett-Report-Meet-<b>Bill-Gates</b>', 'width': 2151, 'height': 1618, 'hostPageFavIconUrl': 'https://www.bing.com/th?id=ODF.ba0xYOpBLDZscYVl5e1Qxw&amp;pid=Api', 'hostPageDomainFriendlyName': 'SOTT.net', 'hostPageDiscoveredDate': '2020-05-25T02:12:00.0000000Z', 'thumbnail': {'width': 474, 'height': 356}, 'imageInsightsToken': 'ccid_omsyCETS*cp_943B7C3CEC8F172024DDB991746C34ED*mid_0F548D48661C065230FD6A03338C492615B2AB7A*simid_607990042950514456*thid_OIP.omsyCETSMPFgMStAkYb7IAHaFk', 'insightsMetadata': {'recipeSourcesCount': 0, 'pagesIncludingCount': 130, 'availableSizesCount': 82}, 'imageId': '0F548D48661C065230FD6A03338C492615B2AB7A', 'accentColor': '106898'}, {'webSearchUrl': 'https://www.bing.com/images/search?view=detailv2&FORM=OIIRPO&q=Bill+Gates&id=7F0E1C5F255D805F3BACDEFE81ED4DA8936CB7CB&simid=608005320146488471', 'name': 'I Was Here.: Bill Gates', 'thumbnailUrl': 'https://tse1.mm.bing.net/th?id=OIP.A-oWNtFu5TNvMhM_butmGwHaLH&pid=Api', 'datePublished': '2011-10-30T12:00:00.0000000Z', 'isFamilyFriendly': True, 'contentUrl': 'http://1.bp.blogspot.com/-o16ik-B_FcE/Tq1-W_OpEfI/AAAAAAAAA4o/6RclKXCjjCc/s1600/Bill+Gates+I.jpg', 'hostPageUrl': 'http://rudebutgood.blogspot.com/2011/10/bill-gates.html', 'contentSize': '301301 B', 'encodingFormat': 'jpeg', 'hostPageDisplayUrl': 'rudebutgood.blogspot.com/2011/10/<b>bill-gates</b>.html', 'width': 950, 'height': 1425, 'hostPageFavIconUrl': 'https://www.bing.com/th?id=ODF.kCKFU1-d0l3Elu2Vvbpmew&amp;pid=Api', 'hostPageDomainFriendlyName': 'blogspot.com', 'hostPageDiscoveredDate': '2011-10-30T12:00:00.0000000Z', 'thumbnail': {'width': 474, 'height': 711}, 'imageInsightsToken': 'ccid_A+oWNtFu*cp_EC1931EF7A29EFE480125B61306747E7*mid_7F0E1C5F255D805F3BACDEFE81ED4DA8936CB7CB*simid_608005320146488471*thid_OIP.A-oWNtFu5TNvMhM!_butmGwHaLH', 'insightsMetadata': {'recipeSourcesCount': 0, 'pagesIncludingCount': 40, 'availableSizesCount': 24}, 'imageId': '7F0E1C5F255D805F3BACDEFE81ED4DA8936CB7CB', 'accentColor': '3D5938'}, {'webSearchUrl': 'https://www.bing.com/images/search?view=detailv2&FORM=OIIRPO&q=Bill+Gates&id=29868E3FE2CB404C32DF8A5A371854C0DD478E84&simid=608035487994286372', 'name': 'The Objective | Bill Gates insta a invertir en la juventud ...', 'thumbnailUrl': 'https://tse3.mm.bing.net/th?id=OIP.AIkKUPkh67Zre6HIaGNIbAHaEK&pid=Api', 'datePublished': '2020-06-22T01:03:00.0000000Z', 'isFamilyFriendly': True, 'contentUrl': 'https://prod-api.theobjective.com/app/uploads/2018/09/bill-gates-insta-a-invertir-en-la-juventud-africana-para-luchar-contra-la-pobreza.jpg', 'hostPageUrl': 'https://theobjective.com/bill-gates-invertir-juventud-africana/', 'contentSize': '120891 B', 'encodingFormat': 'jpeg', 'hostPageDisplayUrl': 'https://theobjective.com/<b>bill-gates</b>-invertir-juventud-africana', 'width': 1920, 'height': 1080, 'hostPageFavIconUrl': 'https://www.bing.com/th?id=ODF.80afJdwbvb3GvdQqceb99A&amp;pid=Api', 'hostPageDomainFriendlyName': 'theobjective.com', 'hostPageDiscoveredDate': '2019-02-24T00:00:00.0000000Z', 'thumbnail': {'width': 474, 'height': 266}, 'imageInsightsToken': 'ccid_AIkKUPkh*cp_EDD056DEBC3C4A9B6FAE7BACC3750BB9*mid_29868E3FE2CB404C32DF8A5A371854C0DD478E84*simid_608035487994286372*thid_OIP.AIkKUPkh67Zre6HIaGNIbAHaEK', 'insightsMetadata': {'recipeSourcesCount': 0, 'pagesIncludingCount': 124, 'availableSizesCount': 76}, 'imageId': '29868E3FE2CB404C32DF8A5A371854C0DD478E84', 'accentColor': '354661'}, {'webSearchUrl': 'https://www.bing.com/images/search?view=detailv2&FORM=OIIRPO&q=Bill+Gates&id=3B119461FC7FB79AFCD393F7FFA8049646FECCD5&simid=608002850536819569', 'name': 'Bill Gates - His Religion, Politics, Net Worth &amp; Beliefs', 'thumbnailUrl': 'https://tse2.mm.bing.net/th?id=OIP.kt24SPgWTP9bptf6xGX_pgHaKe&pid=Api', 'datePublished': '2020-11-29T00:45:00.0000000Z', 'isFamilyFriendly': True, 'contentUrl': 'http://www.celebritybeliefs.com/wp-content/uploads/2017/10/bill-gates-politics-charity-religion-beliefs.jpg', 'hostPageUrl': 'http://www.celebritybeliefs.com/bill-gates/', 'contentSize': '244219 B', 'encodingFormat': 'jpeg', 'hostPageDisplayUrl': 'www.celebritybeliefs.com/<b>bill-gates</b>', 'width': 707, 'height': 1000, 'hostPageDiscoveredDate': '2017-10-28T00:00:00.0000000Z', 'thumbnail': {'width': 474, 'height': 670}, 'imageInsightsToken': 'ccid_kt24SPgW*cp_F7F504B90B0EA43D6B3DE5CCBE1F3E7C*mid_3B119461FC7FB79AFCD393F7FFA8049646FECCD5*simid_608002850536819569*thid_OIP.kt24SPgWTP9bptf6xGX!_pgHaKe', 'insightsMetadata': {'recipeSourcesCount': 0, 'pagesIncludingCount': 341, 'availableSizesCount': 182}, 'imageId': '3B119461FC7FB79AFCD393F7FFA8049646FECCD5', 'accentColor': '546977'}, {'webSearchUrl': 'https://www.bing.com/images/search?view=detailv2&FORM=OIIRPO&q=Bill+Gates&id=51BBC681B7CB8BEC3C56337555757DB47F9714BC&simid=608048604816675144', 'name': 'Os 5 segredos da felicidade de Bill Gates | Forbes Brasil', 'thumbnailUrl': 'https://tse3.mm.bing.net/th?id=OIP.MLmGiA8pESkmvgEjvFEywAHaE7&pid=Api', 'datePublished': '2019-11-12T02:58:00.0000000Z', 'isFamilyFriendly': True, 'contentUrl': 'https://forbes.com.br/wp-content/uploads/2019/11/0Colunas-felicidadebillgates-111119-Reprodu%C3%A7%C3%A3oForbes.jpg', 'hostPageUrl': 'https://forbes.com.br/colunas/2019/11/os-5-segredos-da-felicidade-de-bill-gates/', 'contentSize': '277170 B', 'encodingFormat': 'jpeg', 'hostPageDisplayUrl': 'https://forbes.com.br/colunas/2019/11/os-5-segredos-da-felicidade-de-<b>bill-gates</b>', 'width': 2000, 'height': 1333, 'hostPageFavIconUrl': 'https://www.bing.com/th?id=ODF.UZFeVK9W2_acQeGakIXClA&amp;pid=Api', 'hostPageDomainFriendlyName': 'forbes.com.br', 'hostPageDiscoveredDate': '2019-11-12T02:58:00.0000000Z', 'thumbnail': {'width': 474, 'height': 315}, 'imageInsightsToken': 'ccid_MLmGiA8p*cp_CF8F3B29C9E12BC3B494F70E9B40071B*mid_51BBC681B7CB8BEC3C56337555757DB47F9714BC*simid_608048604816675144*thid_OIP.MLmGiA8pESkmvgEjvFEywAHaE7', 'insightsMetadata': {'recipeSourcesCount': 0, 'pagesIncludingCount': 107, 'availableSizesCount': 65}, 'imageId': '51BBC681B7CB8BEC3C56337555757DB47F9714BC', 'accentColor': 'C58606'}, {'webSearchUrl': 'https://www.bing.com/images/search?view=detailv2&FORM=OIIRPO&q=Bill+Gates&id=E4345E63BA32C714659E16DD286ACD0F529F37CE&simid=608042243972878102', 'name': 'Exame Informática | Como vai ser o mundo depois da ...', 'thumbnailUrl': 'https://tse3.mm.bing.net/th?id=OIP.lJINqjs46_MvANwd1_gs3gHaEK&pid=Api', 'datePublished': '2020-04-24T10:37:00.0000000Z', 'isFamilyFriendly': True, 'contentUrl': 'https://images.trustinnews.pt/uploads/sites/5/2020/04/bill-gates.jpg', 'hostPageUrl': 'https://visao.sapo.pt/exameinformatica/noticias-ei/mercados/2020-04-24-como-vai-ser-o-mundo-depois-da-pandemia-bill-gates-responde/', 'contentSize': '74960 B', 'encodingFormat': 'jpeg', 'hostPageDisplayUrl': 'https://visao.sapo.pt/exameinformatica/noticias-ei/mercados/2020-04-24-como-vai-ser-o...', 'width': 1280, 'height': 720, 'hostPageFavIconUrl': 'https://www.bing.com/th?id=ODF.uXF6w9mTz7OKM_H0ZGqG0w&amp;pid=Api', 'hostPageDomainFriendlyName': 'SAPO', 'hostPageDiscoveredDate': '2020-04-24T00:00:00.0000000Z', 'thumbnail': {'width': 474, 'height': 266}, 'imageInsightsToken': 'ccid_lJINqjs4*cp_3E3393FB2C9B59CDCD164ACF6BDB1039*mid_E4345E63BA32C714659E16DD286ACD0F529F37CE*simid_608042243972878102*thid_OIP.lJINqjs46!_MvANwd1!_gs3gHaEK', 'insightsMetadata': {'recipeSourcesCount': 0, 'pagesIncludingCount': 26, 'availableSizesCount': 13}, 'imageId': 'E4345E63BA32C714659E16DD286ACD0F529F37CE', 'accentColor': '526779'}, {'webSearchUrl': 'https://www.bing.com/images/search?view=detailv2&FORM=OIIRPO&q=Bill+Gates&id=A83BC52622C3457B25FE468BA089BAE9DF21EAA3&simid=608020026105857693', 'name': 'Bill Gates', 'thumbnailUrl': 'https://tse4.mm.bing.net/th?id=OIP.K-FNDxzycxXeQs9HNqQaOQHaHg&pid=Api', 'datePublished': '2020-06-07T02:18:00.0000000Z', 'isFamilyFriendly': True, 'contentUrl': 'https://www.evoke.org/-/media/Images/Evoke/Contributors/BillGates/BillGates_Headshot.ashx?rev=7e39f3afbe07407a8d79b25ff833ba66', 'hostPageUrl': 'https://www.evoke.org/contributors/BillGates', 'contentSize': '2932611 B', 'encodingFormat': 'jpeg', 'hostPageDisplayUrl': 'https://www.evoke.org/contributors/<b>BillGates</b>', 'width': 3300, 'height': 3342, 'hostPageDiscoveredDate': '2019-10-03T00:00:00.0000000Z', 'thumbnail': {'width': 474, 'height': 480}, 'imageInsightsToken': 'ccid_K+FNDxzy*cp_E3EFCD6DCD485C240F8042FA3CDBCB31*mid_A83BC52622C3457B25FE468BA089BAE9DF21EAA3*simid_608020026105857693*thid_OIP.K-FNDxzycxXeQs9HNqQaOQHaHg', 'insightsMetadata': {'recipeSourcesCount': 0, 'pagesIncludingCount': 103, 'availableSizesCount': 58}, 'imageId': 'A83BC52622C3457B25FE468BA089BAE9DF21EAA3', 'accentColor': '53786B'}, {'webSearchUrl': 'https://www.bing.com/images/search?view=detailv2&FORM=OIIRPO&q=Bill+Gates&id=EAE6A41A5982F3236D8F03BD81042FEA47CC20C5&simid=608048372893318979', 'name': 'How Microsoft&#39;s Bill Gates spends his multibillion-dollar ...', 'thumbnailUrl': 'https://tse2.mm.bing.net/th?id=OIP.nnqtnua0Q5VOdECPwyT16gHaFB&pid=Api', 'datePublished': '2019-04-26T12:00:00.0000000Z', 'isFamilyFriendly': True, 'contentUrl': 'https://image.cnbcfm.com/api/v1/image/104891709-Bill_Gates_the_co-Founder.jpg?v=1558120888&w=1400&h=950', 'hostPageUrl': 'https://www.cnbc.com/2019/04/26/how-microsofts-bill-gates-spends-his-multibillion-dollar-fortune.html', 'contentSize': '66243 B', 'encodingFormat': 'jpeg', 'hostPageDisplayUrl': 'https://www.cnbc.com/2019/04/26/how-microsofts-<b>bill-gates</b>-spends-his-multi<b>bill</b>ion...', 'width': 1400, 'height': 950, 'hostPageFavIconUrl': 'https://www.bing.com/th?id=ODF.k-6pjyk-qP1jNZnkgM3f3A&amp;pid=Api', 'hostPageDomainFriendlyName': 'CNBC', 'hostPageDiscoveredDate': '2019-04-26T12:00:00.0000000Z', 'thumbnail': {'width': 474, 'height': 321}, 'imageInsightsToken': 'ccid_nnqtnua0*cp_628CA324D52886205DC90F80B3F9EF39*mid_EAE6A41A5982F3236D8F03BD81042FEA47CC20C5*simid_608048372893318979*thid_OIP.nnqtnua0Q5VOdECPwyT16gHaFB', 'insightsMetadata': {'recipeSourcesCount': 0, 'pagesIncludingCount': 516, 'availableSizesCount': 302}, 'imageId': 'EAE6A41A5982F3236D8F03BD81042FEA47CC20C5', 'accentColor': '303E65'}, {'webSearchUrl': 'https://www.bing.com/images/search?view=detailv2&FORM=OIIRPO&q=Bill+Gates&id=C70FA58DA10E38590DD1E9A7AEADA1F906928282&simid=607990794573338685', 'name': 'Bill Gates Wallpapers Images Photos Pictures Backgrounds', 'thumbnailUrl': 'https://tse1.mm.bing.net/th?id=OIP.jNVW3i59_c8qRY8KHZ_7KgHaE8&pid=Api', 'datePublished': '2020-07-02T14:56:00.0000000Z', 'isFamilyFriendly': True, 'contentUrl': 'http://wallsdesk.com/wp-content/uploads/2016/09/Bill-Gates-full-HD.jpeg', 'hostPageUrl': 'http://wallsdesk.com/bill-gates-42520/', 'contentSize': '906933 B', 'encodingFormat': 'jpeg', 'hostPageDisplayUrl': 'wallsdesk.com/<b>bill-gates</b>-42520', 'width': 3000, 'height': 2000, 'hostPageDiscoveredDate': '2016-11-15T00:00:00.0000000Z', 'thumbnail': {'width': 474, 'height': 316}, 'imageInsightsToken': 'ccid_jNVW3i59*cp_8B46E42F50E187002B68E42BDFC002E6*mid_C70FA58DA10E38590DD1E9A7AEADA1F906928282*simid_607990794573338685*thid_OIP.jNVW3i59!_c8qRY8KHZ!_7KgHaE8', 'insightsMetadata': {'recipeSourcesCount': 0, 'pagesIncludingCount': 22, 'availableSizesCount': 8}, 'imageId': 'C70FA58DA10E38590DD1E9A7AEADA1F906928282', 'accentColor': 'BC8F0F'}, {'webSearchUrl': 'https://www.bing.com/images/search?view=detailv2&FORM=OIIRPO&q=Bill+Gates&id=833D7BFD6B7862C6ABBA00F92AEAECB03BA918F1&simid=608025167184350540', 'name': 'What Bill Gates&#39; Favorite Tweets Can Teach Us About Life ...', 'thumbnailUrl': 'https://tse4.mm.bing.net/th?id=OIP.e4k8sywsFzScnfyzfdInggHaEK&pid=Api', 'datePublished': '2020-12-25T03:14:00.0000000Z', 'isFamilyFriendly': True, 'contentUrl': 'https://cdn.gobankingrates.com/wp-content/uploads/2020/10/Bill-Gates-Shutterstock_editorial_9634268b-1024x576.jpg', 'hostPageUrl': 'https://www.gobankingrates.com/money/financial-planning/bill-gates-favorite-tweets-can-teach/', 'contentSize': '67297 B', 'encodingFormat': 'jpeg', 'hostPageDisplayUrl': 'https://www.gobankingrates.com/money/financial-planning/<b>bill-gates</b>-favorite-tweets-can...', 'width': 1024, 'height': 576, 'hostPageFavIconUrl': 'https://www.bing.com/th?id=ODF.3tK_7fqysq-lQI25coOvOA&amp;pid=Api', 'hostPageDomainFriendlyName': 'GOBankingRates', 'hostPageDiscoveredDate': '2020-11-10T00:00:00.0000000Z', 'thumbnail': {'width': 474, 'height': 266}, 'imageInsightsToken': 'ccid_e4k8syws*cp_B63AC6B598FA3737C6A86A0966FD0467*mid_833D7BFD6B7862C6ABBA00F92AEAECB03BA918F1*simid_608025167184350540*thid_OIP.e4k8sywsFzScnfyzfdInggHaEK', 'insightsMetadata': {'recipeSourcesCount': 0, 'pagesIncludingCount': 10, 'availableSizesCount': 8}, 'imageId': '833D7BFD6B7862C6ABBA00F92AEAECB03BA918F1', 'accentColor': '4D597F'}, {'webSearchUrl': 'https://www.bing.com/images/search?view=detailv2&FORM=OIIRPO&q=Bill+Gates&id=4AAE76B21DDBEA3A4DEC5262BF85E5AA11C041B7&simid=608048085128666426', 'name': 'Chi è Bill Gates? Età - Altezza – Segno zodiacale ...', 'thumbnailUrl': 'https://tse2.mm.bing.net/th?id=OIP.mcvgb1f9_MQ1rtLI3Kaq0AHaE8&pid=Api', 'datePublished': '2021-06-07T18:14:00.0000000Z', 'isFamilyFriendly': True, 'contentUrl': 'https://alphabetcity.it/wp-content/uploads/2020/11/bill-gates-scaled.jpg', 'hostPageUrl': 'https://alphabetcity.it/2020/11/05/chi-e-bill-gates-eta-altezza-segno-zodiacale-carriera-e-tutte-le-curiosita/', 'contentSize': '417591 B', 'encodingFormat': 'jpeg', 'hostPageDisplayUrl': 'https://alphabetcity.it/2020/11/05/chi-e-<b>bill-gates</b>-eta-altezza-segno-zodiacale...', 'width': 2560, 'height': 1707, 'hostPageDiscoveredDate': '2020-11-18T00:00:00.0000000Z', 'thumbnail': {'width': 474, 'height': 316}, 'imageInsightsToken': 'ccid_mcvgb1f9*cp_348863AEB5A20CC8BB1751AFBB539E10*mid_4AAE76B21DDBEA3A4DEC5262BF85E5AA11C041B7*simid_608048085128666426*thid_OIP.mcvgb1f9!_MQ1rtLI3Kaq0AHaE8', 'insightsMetadata': {'recipeSourcesCount': 0, 'pagesIncludingCount': 103, 'availableSizesCount': 63}, 'imageId': '4AAE76B21DDBEA3A4DEC5262BF85E5AA11C041B7', 'accentColor': '0592C6'}, {'webSearchUrl': 'https://www.bing.com/images/search?view=detailv2&FORM=OIIRPO&q=Bill+Gates&id=889DFA6CDA6196C40572FD66A1FBAC611404EFEB&simid=608021250177317678', 'name': 'Bill Gates Net Worth: 5 Fast Facts You Need to Know ...', 'thumbnailUrl': 'https://tse4.mm.bing.net/th?id=OIP.XPvDQ2Yk9qRG39Z37XO9JwHaEL&pid=Api', 'datePublished': '2021-08-16T14:42:00.0000000Z', 'isFamilyFriendly': True, 'contentUrl': 'https://heavy.com/wp-content/uploads/2018/04/billgates-e1526608219903.jpg?quality=65&strip=all', 'hostPageUrl': 'https://heavy.com/money/2018/05/bill-gates-net-worth/', 'contentSize': '382203 B', 'encodingFormat': 'jpeg', 'hostPageDisplayUrl': 'https://heavy.com/money/2018/05/<b>bill-gates</b>-net-worth', 'width': 3416, 'height': 1926, 'hostPageFavIconUrl': 'https://www.bing.com/th?id=ODF.N0vxu4_uYzlh2gZ-XEeAiQ&amp;pid=Api', 'hostPageDomainFriendlyName': 'Heavy.com', 'hostPageDiscoveredDate': '2018-05-17T00:00:00.0000000Z', 'thumbnail': {'width': 474, 'height': 267}, 'imageInsightsToken': 'ccid_XPvDQ2Yk*cp_B001C638AA492D9F163BE657D2543A61*mid_889DFA6CDA6196C40572FD66A1FBAC611404EFEB*simid_608021250177317678*thid_OIP.XPvDQ2Yk9qRG39Z37XO9JwHaEL', 'insightsMetadata': {'recipeSourcesCount': 0, 'pagesIncludingCount': 39, 'availableSizesCount': 27}, 'imageId': '889DFA6CDA6196C40572FD66A1FBAC611404EFEB', 'accentColor': '6D443F'}, {'webSearchUrl': 'https://www.bing.com/images/search?view=detailv2&FORM=OIIRPO&q=Bill+Gates&id=DC601044BDB772381BF0F722EDD688FC43D750B9&simid=607990000000400517', 'name': 'Bill Gates Pledges 70 Million USD To Ensure Entire World ...', 'thumbnailUrl': 'https://tse1.mm.bing.net/th?id=OIP.eYCq4797tHtVKpwqYR75bAAAAA&pid=Api', 'datePublished': '2021-02-15T02:12:00.0000000Z', 'isFamilyFriendly': True, 'contentUrl': 'https://www.nairaland.com/attachments/12677908_images11_jpeg_jpeg2db82c4a8d0f86b2eeb07aac89170992', 'hostPageUrl': 'https://www.nairaland.com/6255614/bill-gates-pledges-70-million', 'contentSize': '41726 B', 'encodingFormat': 'jpeg', 'hostPageDisplayUrl': 'https://www.nairaland.com/6255614/<b>bill-gates</b>-pledges-70-million', 'width': 452, 'height': 678, 'hostPageFavIconUrl': 'https://www.bing.com/th?id=ODF.xsYtx70a8U7YqlalkezGhg&amp;pid=Api', 'hostPageDomainFriendlyName': 'Nairaland', 'hostPageDiscoveredDate': '2020-11-24T00:00:00.0000000Z', 'thumbnail': {'width': 452, 'height': 678}, 'imageInsightsToken': 'ccid_eYCq4797*cp_FF3A040B3F0FDCCE0C3E853A8EC0CE84*mid_DC601044BDB772381BF0F722EDD688FC43D750B9*simid_607990000000400517*thid_OIP.eYCq4797tHtVKpwqYR75bAAAAA', 'insightsMetadata': {'recipeSourcesCount': 0, 'pagesIncludingCount': 5, 'availableSizesCount': 3}, 'imageId': 'DC601044BDB772381BF0F722EDD688FC43D750B9', 'accentColor': '2B1F31'}, {'webSearchUrl': 'https://www.bing.com/images/search?view=detailv2&FORM=OIIRPO&q=Bill+Gates&id=4296BF0D1F732FDC689210E05D8E4A4ADDB4AB60&simid=608037098605664692', 'name': 'Bill Gates: Team-building and innovation are skills to ...', 'thumbnailUrl': 'https://tse2.mm.bing.net/th?id=OIP.L5cNxIIUbpRy5BcRJ3d18wHaE8&pid=Api', 'datePublished': '2020-07-07T12:00:00.0000000Z', 'isFamilyFriendly': True, 'contentUrl': 'https://image.cnbcfm.com/api/v1/image/106216476-1572545404537gettyimages-1151703682.jpeg?v=1605541775', 'hostPageUrl': 'https://www.cnbc.com/2020/07/07/bill-gates-team-building-and-innovation-are-skills-to-combat-covid-19.html', 'contentSize': '1803596 B', 'encodingFormat': 'jpeg', 'hostPageDisplayUrl': 'https://www.cnbc.com/2020/07/07/<b>bill-gates</b>-team-building-and-innovation-are-skills-to...', 'width': 5568, 'height': 3712, 'hostPageDiscoveredDate': '2020-07-07T12:00:00.0000000Z', 'thumbnail': {'width': 474, 'height': 316}, 'imageInsightsToken': 'ccid_L5cNxIIU*cp_58E8CE18FD0718A26273B3F7A7B0FA59*mid_4296BF0D1F732FDC689210E05D8E4A4ADDB4AB60*simid_608037098605664692*thid_OIP.L5cNxIIUbpRy5BcRJ3d18wHaE8', 'insightsMetadata': {'recipeSourcesCount': 0, 'pagesIncludingCount': 133, 'availableSizesCount': 79}, 'imageId': '4296BF0D1F732FDC689210E05D8E4A4ADDB4AB60', 'accentColor': '1070BB'}, {'webSearchUrl': 'https://www.bing.com/images/search?view=detailv2&FORM=OIIRPO&q=Bill+Gates&id=5AE6451660B192FE9F1258828AE22FA635159540&simid=607994050147868644', 'name': '7 Things Bill Gates Is Probably Also Sorry For | HuffPost', 'thumbnailUrl': 'https://tse2.mm.bing.net/th?id=OIP.RwmAwr8jjLjNlXfuZlOYLQHaDt&pid=Api', 'datePublished': '2013-10-08T12:00:00.0000000Z', 'isFamilyFriendly': True, 'contentUrl': 'https://s-i.huffpost.com/gen/1381785/images/o-BILL-GATES-facebook.jpg', 'hostPageUrl': 'https://www.huffingtonpost.com/2013/10/08/bill-gates-apologies_n_3997720.html', 'contentSize': '392631 B', 'encodingFormat': 'jpeg', 'hostPageDisplayUrl': 'https://www.huffingtonpost.com/2013/10/08/<b>bill-gates</b>-apologies_n_3997720.html', 'width': 2000, 'height': 1000, 'hostPageFavIconUrl': 'https://www.bing.com/th?id=ODF.lewmayRN5xi4DGUqCK8G-g&amp;pid=Api', 'hostPageDomainFriendlyName': 'HuffPost', 'hostPageDiscoveredDate': '2013-10-08T12:00:00.0000000Z', 'thumbnail': {'width': 474, 'height': 237}, 'imageInsightsToken': 'ccid_RwmAwr8j*cp_E575A4FB6E431FAE5CA3A567842330E0*mid_5AE6451660B192FE9F1258828AE22FA635159540*simid_607994050147868644*thid_OIP.RwmAwr8jjLjNlXfuZlOYLQHaDt', 'insightsMetadata': {'recipeSourcesCount': 0, 'pagesIncludingCount': 61, 'availableSizesCount': 43}, 'imageId': '5AE6451660B192FE9F1258828AE22FA635159540', 'accentColor': '0B53C0'}, {'webSearchUrl': 'https://www.bing.com/images/search?view=detailv2&FORM=OIIRPO&q=Bill+Gates&id=39B459AE998C5E8766BA9003322514A2BE37661D&simid=607997842605885633', 'name': 'PANDEMIA | Bill Gates desvela la fecha en la que volverá ...', 'thumbnailUrl': 'https://tse4.mm.bing.net/th?id=OIP.0jyooL4Y-DwEMdIkFv3knQHaJ3&pid=Api', 'datePublished': '2021-04-20T15:44:00.0000000Z', 'isFamilyFriendly': True, 'contentUrl': 'https://www.lavozdeltajo.com/fotos/49/billgates.jpg', 'hostPageUrl': 'https://www.lavozdeltajo.com/noticia/55078/actualidad/pandemia--bill-gates-desvela-la-fecha-en-la-que-volvera-la-normalidad.html', 'contentSize': '342340 B', 'encodingFormat': 'jpeg', 'hostPageDisplayUrl': 'https://www.lavozdeltajo.com/noticia/55078/actualidad/pandemia--<b>bill-gates</b>-desvela-la...', 'width': 1900, 'height': 2533, 'hostPageDiscoveredDate': '2021-03-10T00:00:00.0000000Z', 'thumbnail': {'width': 474, 'height': 631}, 'imageInsightsToken': 'ccid_0jyooL4Y*cp_19ADBC43CB750F97DC538400A6F3BCAC*mid_39B459AE998C5E8766BA9003322514A2BE37661D*simid_607997842605885633*thid_OIP.0jyooL4Y-DwEMdIkFv3knQHaJ3', 'insightsMetadata': {'pagesIncludingCount': 16, 'availableSizesCount': 14}, 'imageId': '39B459AE998C5E8766BA9003322514A2BE37661D', 'accentColor': '1E1932'}, {'webSearchUrl': 'https://www.bing.com/images/search?view=detailv2&FORM=OIIRPO&q=Bill+Gates&id=5A5413A59A535FAB17B0896E6E624A232FA2AE2E&simid=608011096875616328', 'name': 'Bill Gates — Wikipédia', 'thumbnailUrl': 'https://tse3.mm.bing.net/th?id=OIP.u5YssjhtcGg1lFc72BkoTwHaJS&pid=Api', 'datePublished': '2019-11-30T21:06:00.0000000Z', 'isFamilyFriendly': True, 'creativeCommons': 'AttributionShareAlike', 'contentUrl': 'https://upload.wikimedia.org/wikipedia/commons/a/a0/Bill_Gates_2018.jpg', 'hostPageUrl': 'https://fr.wikipedia.org/wiki/Bill_Gates', 'contentSize': '318220 B', 'encodingFormat': 'jpeg', 'hostPageDisplayUrl': 'https://fr.wikipedia.org/wiki/<b>Bill_Gates</b>', 'width': 701, 'height': 879, 'hostPageFavIconUrl': 'https://www.bing.com/th?id=ODF.cfd3yaEtpmDXsCF-0dtsmA&amp;pid=Api', 'hostPageDiscoveredDate': '2013-07-06T00:00:00.0000000Z', 'thumbnail': {'width': 474, 'height': 594}, 'imageInsightsToken': 'ccid_u5Yssjht*cp_F76D8D9367DDA1EC206967E0ED77C5B3*mid_5A5413A59A535FAB17B0896E6E624A232FA2AE2E*simid_608011096875616328*thid_OIP.u5YssjhtcGg1lFc72BkoTwHaJS', 'insightsMetadata': {'recipeSourcesCount': 0, 'pagesIncludingCount': 194, 'availableSizesCount': 93}, 'imageId': '5A5413A59A535FAB17B0896E6E624A232FA2AE2E', 'accentColor': '344465'}, {'webSearchUrl': 'https://www.bing.com/images/search?view=detailv2&FORM=OIIRPO&q=Bill+Gates&id=9942A6DD182F61719E85FB87292F43228721FC7A&simid=607991030797318894', 'name': 'Bill Gates Says His Wealth Has Freed Him From Daily ...', 'thumbnailUrl': 'https://tse3.mm.bing.net/th?id=OIP.hGqNcBptGQtsYv1FEgDtngHaE7&pid=Api', 'datePublished': '2019-02-26T15:34:00.0000000Z', 'isFamilyFriendly': True, 'contentUrl': 'https://assets.entrepreneur.com/content/3x2/2000/20190226150150-bill-gates.jpeg', 'hostPageUrl': 'https://www.entrepreneur.com/article/329017', 'contentSize': '227722 B', 'encodingFormat': 'jpeg', 'hostPageDisplayUrl': 'https://www.entrepreneur.com/article/329017', 'width': 2000, 'height': 1333, 'hostPageFavIconUrl': 'https://www.bing.com/th?id=ODF.WCoCxO3Of8hGI687HRCFyA&amp;pid=Api', 'hostPageDomainFriendlyName': 'Entrepreneur', 'hostPageDiscoveredDate': '2019-02-26T15:34:00.0000000Z', 'thumbnail': {'width': 474, 'height': 315}, 'imageInsightsToken': 'ccid_hGqNcBpt*cp_F84954CAFE36968CD46D70BC41491064*mid_9942A6DD182F61719E85FB87292F43228721FC7A*simid_607991030797318894*thid_OIP.hGqNcBptGQtsYv1FEgDtngHaE7', 'insightsMetadata': {'recipeSourcesCount': 0, 'pagesIncludingCount': 6, 'availableSizesCount': 3}, 'imageId': '9942A6DD182F61719E85FB87292F43228721FC7A', 'accentColor': '2E1B74'}, {'webSearchUrl': 'https://www.bing.com/images/search?view=detailv2&FORM=OIIRPO&q=Bill+Gates&id=88D0BDE2317E2A58DA459E63D2E2A66B765764A2&simid=608024952436375885', 'name': 'Bill Gates says Steve Jobs was a master at ‘casting spells ...', 'thumbnailUrl': 'https://tse4.mm.bing.net/th?id=OIP.BrJh8sfGDHSUVnThC0b0_gHaE8&pid=Api', 'datePublished': '2020-05-31T15:06:00.0000000Z', 'isFamilyFriendly': True, 'contentUrl': 'https://external-preview.redd.it/rphEL5uZZjaUXlJTyPvTXBoeGpEnag4vCRdkbh4VYjA.jpg?auto=webp&s=816dee1cb702c36c6874252af1089181a9a67450', 'hostPageUrl': 'https://www.reddit.com/r/technology/duplicates/caca7u/bill_gates_says_steve_jobs_was_a_master_at/', 'contentSize': '1032176 B', 'encodingFormat': 'jpeg', 'hostPageDisplayUrl': 'https://www.reddit.com/r/technology/duplicates/caca7u/<b>bill_gates</b>_says_steve_jobs_was_a...', 'width': 4000, 'height': 2667, 'hostPageFavIconUrl': 'https://www.bing.com/th?id=ODF.H9fefaD85JY_d1pf24lNtQ&amp;pid=Api', 'hostPageDomainFriendlyName': 'Reddit', 'hostPageDiscoveredDate': '2019-07-21T00:00:00.0000000Z', 'thumbnail': {'width': 474, 'height': 316}, 'imageInsightsToken': 'ccid_BrJh8sfG*cp_9D378AD1DED74CCA0BB5938A6E7F5B27*mid_88D0BDE2317E2A58DA459E63D2E2A66B765764A2*simid_608024952436375885*thid_OIP.BrJh8sfGDHSUVnThC0b0!_gHaE8', 'insightsMetadata': {'recipeSourcesCount': 0, 'pagesIncludingCount': 22, 'availableSizesCount': 21}, 'imageId': '88D0BDE2317E2A58DA459E63D2E2A66B765764A2', 'accentColor': '6F4D7E'}, {'webSearchUrl': 'https://www.bing.com/images/search?view=detailv2&FORM=OIIRPO&q=Bill+Gates&id=CF2B2540C57F66E8F494EB144CF85F115A081434&simid=608052715103477372', 'name': 'Bill Gates -Biography And Net worth Of The Principal ...', 'thumbnailUrl': 'https://tse1.mm.bing.net/th?id=OIP.eKLOjGSb8Hv54quEsWKs0gHaGN&pid=Api', 'datePublished': '2020-12-13T10:37:00.0000000Z', 'isFamilyFriendly': True, 'contentUrl': 'https://i1.wp.com/www.entrepreneurs.ng/wp-content/uploads/2019/06/1-8.jpg?fit=940%2C788&ssl=1', 'hostPageUrl': 'https://www.entrepreneurs.ng/bill-gates-biography/', 'contentSize': '50624 B', 'encodingFormat': 'jpeg', 'hostPageDisplayUrl': 'https://www.entrepreneurs.ng/<b>bill-gates</b>-biography', 'width': 940, 'height': 788, 'hostPageDiscoveredDate': '2019-06-26T00:00:00.0000000Z', 'thumbnail': {'width': 474, 'height': 397}, 'imageInsightsToken': 'ccid_eKLOjGSb*cp_96CBC751C94E72582C0980079ACEBEE8*mid_CF2B2540C57F66E8F494EB144CF85F115A081434*simid_608052715103477372*thid_OIP.eKLOjGSb8Hv54quEsWKs0gHaGN', 'insightsMetadata': {'recipeSourcesCount': 0, 'pagesIncludingCount': 3, 'availableSizesCount': 1}, 'imageId': 'CF2B2540C57F66E8F494EB144CF85F115A081434', 'accentColor': '1186BA'}, {'webSearchUrl': 'https://www.bing.com/images/search?view=detailv2&FORM=OIIRPO&q=Bill+Gates&id=7DD9FCCA0C9A7F73D9A8165263F34CB65FEEFC69&simid=608000346573315617', 'name': 'Bill Gates dice que las primeras vacunas contra el ...', 'thumbnailUrl': 'https://tse1.mm.bing.net/th?id=OIP.nIKcBkWfaTB_8LmlZ66z8gHaEW&pid=Api', 'datePublished': '2021-02-26T00:26:00.0000000Z', 'isFamilyFriendly': True, 'creativeCommons': 'Attribution', 'contentUrl': 'http://rubenluengas.com/wp-content/uploads/2020/10/bill-gates-2.jpg', 'hostPageUrl': 'https://rubenluengas.com/2020/10/bill-gates-dice-que-las-primeras-vacunas-contra-el-coronavirus-podrian-no-ser-perfectas/', 'contentSize': '123798 B', 'encodingFormat': 'jpeg', 'hostPageDisplayUrl': 'https://rubenluengas.com/2020/10/<b>bill-gates</b>-dice-que-las-primeras-vacunas-contra-el...', 'width': 1000, 'height': 588, 'hostPageDiscoveredDate': '2020-11-18T00:00:00.0000000Z', 'thumbnail': {'width': 474, 'height': 278}, 'imageInsightsToken': 'ccid_nIKcBkWf*cp_8DD13496DE83CCC63C99BE9656843B20*mid_7DD9FCCA0C9A7F73D9A8165263F34CB65FEEFC69*simid_608000346573315617*thid_OIP.nIKcBkWfaTB!_8LmlZ66z8gHaEW', 'insightsMetadata': {'recipeSourcesCount': 0, 'pagesIncludingCount': 228, 'availableSizesCount': 146}, 'imageId': '7DD9FCCA0C9A7F73D9A8165263F34CB65FEEFC69', 'accentColor': '256FA6'}, {'webSearchUrl': 'https://www.bing.com/images/search?view=detailv2&FORM=OIIRPO&q=Bill+Gates&id=3482A69013F14E237AE257A0C7C4659416A8D461&simid=608003799719432840', 'name': 'Bill Gates anticipó la pandemia y ahora vuelve a hacer ...', 'thumbnailUrl': 'https://tse3.mm.bing.net/th?id=OIP.TOMm6y2M7x2QrpHQ-Yth-QHaEX&pid=Api', 'datePublished': '2020-07-24T11:10:00.0000000Z', 'isFamilyFriendly': True, 'contentUrl': 'http://www.carve850.com.uy/wp-content/uploads/2020/04/Bill-Gates.jpeg', 'hostPageUrl': 'http://www.carve850.com.uy/2020/04/24/bill-gates-anticipo-la-pandemia-y-ahora-vuelve-a-hacer-predicciones-sobre-este-coronavirus/', 'contentSize': '657387 B', 'encodingFormat': 'jpeg', 'hostPageDisplayUrl': 'www.carve850.com.uy/2020/04/24/<b>bill-gates</b>-anticipo-la-pandemia-y-ahora-vuelve-a-hacer...', 'width': 4086, 'height': 2406, 'hostPageDiscoveredDate': '2020-05-18T00:00:00.0000000Z', 'thumbnail': {'width': 474, 'height': 279}, 'imageInsightsToken': 'ccid_TOMm6y2M*cp_C3030D7B3A6B798AFC32D8EDD4B4BBC0*mid_3482A69013F14E237AE257A0C7C4659416A8D461*simid_608003799719432840*thid_OIP.TOMm6y2M7x2QrpHQ-Yth-QHaEX', 'insightsMetadata': {'recipeSourcesCount': 0, 'pagesIncludingCount': 32, 'availableSizesCount': 28}, 'imageId': '3482A69013F14E237AE257A0C7C4659416A8D461', 'accentColor': '8F763C'}, {'webSearchUrl': 'https://www.bing.com/images/search?view=detailv2&FORM=OIIRPO&q=Bill+Gates&id=2CE45D960E280D35352C07DFEAAAEBCFD3B5FFE5&simid=607987289881736250', 'name': 'Bill Gates Defends Using Private Jets While Warning about ...', 'thumbnailUrl': 'https://tse3.mm.bing.net/th?id=OIP.pyCIsX24XnxyfMtsjuJvQAHaE8&pid=Api', 'datePublished': '2021-03-19T19:06:00.0000000Z', 'isFamilyFriendly': True, 'contentUrl': 'https://d.newsweek.com/en/full/1739925/bill-gates.jpg', 'hostPageUrl': 'https://www.newsweek.com/bill-gates-defends-using-private-jets-big-homes-climate-change-carbon-emissions-1571005', 'contentSize': '823961 B', 'encodingFormat': 'jpeg', 'hostPageDisplayUrl': 'https://www.newsweek.com/<b>bill-gates</b>-defends-using-private-jets-big-homes-climate-change...', 'width': 2500, 'height': 1667, 'hostPageDiscoveredDate': '2021-03-16T00:00:00.0000000Z', 'thumbnail': {'width': 474, 'height': 316}, 'imageInsightsToken': 'ccid_pyCIsX24*cp_8513E88597F1029CA390EDD60113D152*mid_2CE45D960E280D35352C07DFEAAAEBCFD3B5FFE5*simid_607987289881736250*thid_OIP.pyCIsX24XnxyfMtsjuJvQAHaE8', 'insightsMetadata': {'recipeSourcesCount': 0, 'pagesIncludingCount': 67, 'availableSizesCount': 55}, 'imageId': '2CE45D960E280D35352C07DFEAAAEBCFD3B5FFE5', 'accentColor': '924D39'}, {'webSearchUrl': 'https://www.bing.com/images/search?view=detailv2&FORM=OIIRPO&q=Bill+Gates&id=324C8B994E0BA1701B4A3958964A4101DF67CE9F&simid=608050443062232625', 'name': 'Bill Gates recommends you read these money books this summer', 'thumbnailUrl': 'https://tse2.mm.bing.net/th?id=OIP.DALvGGLUr5QBOuVSbfY6rgHaE8&pid=Api', 'datePublished': '2020-09-12T07:47:00.0000000Z', 'isFamilyFriendly': True, 'contentUrl': 'https://image.cnbcfm.com/api/v1/image/106260685-1574427137464rtx79uek.jpg?v=1590092023', 'hostPageUrl': 'https://grow.acorns.com/bill-gates-book-recommendations/', 'contentSize': '259944 B', 'encodingFormat': 'jpeg', 'hostPageDisplayUrl': 'https://grow.acorns.com/<b>bill-gates</b>-book-recommendations', 'width': 3000, 'height': 2000, 'hostPageFavIconUrl': 'https://www.bing.com/th?id=ODF.HNen1OuORdFr_0dc9em5tA&amp;pid=Api', 'hostPageDomainFriendlyName': 'Acorns', 'hostPageDiscoveredDate': '2020-05-26T00:00:00.0000000Z', 'thumbnail': {'width': 474, 'height': 316}, 'imageInsightsToken': 'ccid_DALvGGLU*cp_85AA0F43457B3F36696F2E1A362DBCBA*mid_324C8B994E0BA1701B4A3958964A4101DF67CE9F*simid_608050443062232625*thid_OIP.DALvGGLUr5QBOuVSbfY6rgHaE8', 'insightsMetadata': {'recipeSourcesCount': 0, 'pagesIncludingCount': 24, 'availableSizesCount': 9}, 'imageId': '324C8B994E0BA1701B4A3958964A4101DF67CE9F', 'accentColor': '018ACA'}, {'webSearchUrl': 'https://www.bing.com/images/search?view=detailv2&FORM=OIIRPO&q=Bill+Gates&id=902F5DC0DD12D53F2FEDC9AD5CF1E5EC8A04370D&simid=608046929782385746', 'name': 'Microsoft’s Bill Gates buys huge swath of Arizona land ...', 'thumbnailUrl': 'https://tse1.mm.bing.net/th?id=OIP.PjSa-yGlQpSgDahvTX4jnAHaJu&pid=Api', 'datePublished': '2021-04-02T02:15:00.0000000Z', 'isFamilyFriendly': True, 'contentUrl': 'https://s4745.pcdn.co/wp-content/uploads/2017/11/BillGates2012-wikicommons.jpg', 'hostPageUrl': 'https://roselawgroupreporter.com/2017/11/microsofts-bill-gates-buys-huge-swath-arizona-land/', 'contentSize': '186300 B', 'encodingFormat': 'jpeg', 'hostPageDisplayUrl': 'https://roselawgroupreporter.com/2017/11/microsofts-<b>bill-gates</b>-buys-huge-swath-arizona...', 'width': 600, 'height': 788, 'hostPageDiscoveredDate': '2017-11-15T00:00:00.0000000Z', 'thumbnail': {'width': 474, 'height': 622}, 'imageInsightsToken': 'ccid_PjSa+yGl*cp_6B77937ED61FB120F5279AD3DBAC325C*mid_902F5DC0DD12D53F2FEDC9AD5CF1E5EC8A04370D*simid_608046929782385746*thid_OIP.PjSa-yGlQpSgDahvTX4jnAHaJu', 'insightsMetadata': {'recipeSourcesCount': 0, 'pagesIncludingCount': 134, 'availableSizesCount': 61}, 'imageId': '902F5DC0DD12D53F2FEDC9AD5CF1E5EC8A04370D', 'accentColor': '018CCA'}, {'webSearchUrl': 'https://www.bing.com/images/search?view=detailv2&FORM=OIIRPO&q=Bill+Gates&id=E922903E5FE7381CCD3F82AA52BDBA9FD0A727BB&simid=608043665601659947', 'name': 'Bill Gates Is Fighting the Coronavirus in His Third Act ...', 'thumbnailUrl': 'https://tse4.mm.bing.net/th?id=OIP.5DLeAfwPTOk-Y7wsI7mXLgHaE4&pid=Api', 'datePublished': '2020-08-13T14:57:00.0000000Z', 'isFamilyFriendly': True, 'contentUrl': 'https://miro.medium.com/max/11336/1*1FZmxhy0xxVQMJ5hOsTgBA.jpeg', 'hostPageUrl': 'https://marker.medium.com/bill-gates-enters-his-third-act-ruthless-nerd-savior-b06c062b0d6f', 'contentSize': '1687904 B', 'encodingFormat': 'jpeg', 'hostPageDisplayUrl': 'https://marker.medium.com/<b>bill-gates</b>-enters-his-third-act-ruthless-nerd-savior...', 'width': 4000, 'height': 2634, 'hostPageFavIconUrl': 'https://www.bing.com/th?id=ODF.PKXGZZRk1nJ81lTqdjgsvQ&amp;pid=Api', 'hostPageDomainFriendlyName': 'Medium', 'hostPageDiscoveredDate': '2020-08-13T14:57:00.0000000Z', 'thumbnail': {'width': 474, 'height': 312}, 'imageInsightsToken': 'ccid_5DLeAfwP*cp_ED4777DCCFC32F5253555997F1DAA46A*mid_E922903E5FE7381CCD3F82AA52BDBA9FD0A727BB*simid_608043665601659947*thid_OIP.5DLeAfwPTOk-Y7wsI7mXLgHaE4', 'insightsMetadata': {'recipeSourcesCount': 0, 'pagesIncludingCount': 80, 'availableSizesCount': 65}, 'imageId': 'E922903E5FE7381CCD3F82AA52BDBA9FD0A727BB', 'accentColor': '876A44'}, {'webSearchUrl': 'https://www.bing.com/images/search?view=detailv2&FORM=OIIRPO&q=Bill+Gates&id=8F9C8226B2504124D1E9865157FA87E8B3434E8C&simid=608041346325350780', 'name': 'Bill Gates está doando US$4,6 bilhões (R$14,7 bilhões)', 'thumbnailUrl': 'https://tse4.mm.bing.net/th?id=OIP.Odk-NzdKFYhRSO2Ca43iKAHaE2&pid=Api', 'datePublished': '2017-08-22T12:12:00.0000000Z', 'isFamilyFriendly': True, 'contentUrl': 'https://hypescience.com/wp-content/uploads/2017/02/bill-gates.jpg', 'hostPageUrl': 'https://hypescience.com/bill-gates-doa-us4-6-bilhoes-maior-doacao-desde-o-ano-de-2000/', 'contentSize': '479641 B', 'encodingFormat': 'jpeg', 'hostPageDisplayUrl': 'https://hypescience.com/<b>bill-gates</b>-doa-us4-6-bilhoes-maior-doacao-desde-o-ano-de-2000', 'width': 3500, 'height': 2295, 'hostPageFavIconUrl': 'https://www.bing.com/th?id=ODF.9KNdUwMEGf6hYF1sk1WWZw&amp;pid=Api', 'hostPageDomainFriendlyName': 'Sinais', 'hostPageDiscoveredDate': '2017-08-22T12:12:00.0000000Z', 'thumbnail': {'width': 474, 'height': 310}, 'imageInsightsToken': 'ccid_Odk+NzdK*cp_2526BB67239FB0F749F0F37C80D676C4*mid_8F9C8226B2504124D1E9865157FA87E8B3434E8C*simid_608041346325350780*thid_OIP.Odk-NzdKFYhRSO2Ca43iKAHaE2', 'insightsMetadata': {'recipeSourcesCount': 0, 'pagesIncludingCount': 10, 'availableSizesCount': 7}, 'imageId': '8F9C8226B2504124D1E9865157FA87E8B3434E8C', 'accentColor': '050504'}, {'webSearchUrl': 'https://www.bing.com/images/search?view=detailv2&FORM=OIIRPO&q=Bill+Gates&id=59DD035F4FB2D6C8E27A8420E16E91609922C2DD&simid=608006982294329164', 'name': 'Microsoft-Gründer Bill Gates nutzt ein Android-Handy', 'thumbnailUrl': 'https://tse1.mm.bing.net/th?id=OIP.lZviXP4ANSJzDkT8DgT5lAHaE7&pid=Api', 'datePublished': '2017-09-27T14:08:00.0000000Z', 'isFamilyFriendly': True, 'contentUrl': 'https://www.techbook.de/data/uploads/2017/09/gettyimages-850213882_1506503375.jpg', 'hostPageUrl': 'https://www.techbook.de/mobile/bill-gates-kein-windows-phone', 'contentSize': '1365796 B', 'encodingFormat': 'jpeg', 'hostPageDisplayUrl': 'https://www.techbook.de/mobile/<b>bill-gates</b>-kein-windows-phone', 'width': 3000, 'height': 1994, 'hostPageFavIconUrl': 'https://www.bing.com/th?id=ODF.HNZ2JX71wLrACDCffmZgQg&amp;pid=Api', 'hostPageDiscoveredDate': '2017-09-27T14:08:00.0000000Z', 'thumbnail': {'width': 474, 'height': 315}, 'imageInsightsToken': 'ccid_lZviXP4A*cp_16325DD0836822072587BE62498BC477*mid_59DD035F4FB2D6C8E27A8420E16E91609922C2DD*simid_608006982294329164*thid_OIP.lZviXP4ANSJzDkT8DgT5lAHaE7', 'insightsMetadata': {'recipeSourcesCount': 0, 'pagesIncludingCount': 144, 'availableSizesCount': 95}, 'imageId': '59DD035F4FB2D6C8E27A8420E16E91609922C2DD', 'accentColor': '8C5B3F'}, {'webSearchUrl': 'https://www.bing.com/images/search?view=detailv2&FORM=OIIRPO&q=Bill+Gates&id=395860B21CFAFFA4A9BF23BEA9122A8B4A8B7FD2&simid=608016645967668601', 'name': 'Bill Gates fue fotografiado haciendo fila para comprarse ...', 'thumbnailUrl': 'https://tse1.mm.bing.net/th?id=OIP._6hM-nmDD0yZz_x3cFePbQHaFC&pid=Api', 'datePublished': '2019-01-19T13:39:00.0000000Z', 'isFamilyFriendly': True, 'contentUrl': 'https://files.lafm.com.co/assets/public/2019-01/bill_gates_1_0.jpg', 'hostPageUrl': 'https://www.lafm.com.co/internacional/el-multimillonario-bill-gates-fue-fotografiado-haciendo-fila-para-comprarse-una', 'contentSize': '345968 B', 'encodingFormat': 'jpeg', 'hostPageDisplayUrl': 'https://www.lafm.com.co/internacional/el-multimillonario-<b>bill-gates</b>-fue-fotografiado...', 'width': 1440, 'height': 980, 'hostPageFavIconUrl': 'https://www.bing.com/th?id=ODF.oD8bPNO9eOFZKaKzJnPmsA&amp;pid=Api', 'hostPageDomainFriendlyName': 'LA  F.m.', 'hostPageDiscoveredDate': '2019-01-19T13:39:00.0000000Z', 'thumbnail': {'width': 474, 'height': 322}, 'imageInsightsToken': 'ccid_/6hM+nmD*cp_BEBE9DE194E76E188746655917F5D354*mid_395860B21CFAFFA4A9BF23BEA9122A8B4A8B7FD2*simid_608016645967668601*thid_OIP.!_6hM-nmDD0yZz!_x3cFePbQHaFC', 'insightsMetadata': {'recipeSourcesCount': 0, 'pagesIncludingCount': 8, 'availableSizesCount': 4}, 'imageId': '395860B21CFAFFA4A9BF23BEA9122A8B4A8B7FD2', 'accentColor': 'B72514'}, {'webSearchUrl': 'https://www.bing.com/images/search?view=detailv2&FORM=OIIRPO&q=Bill+Gates&id=657766827F2C835CFE6938BC09BB70DD377ACEF7&simid=608034203799813840', 'name': 'Bill Gates Just Expressed His Massive Frustration With How ...', 'thumbnailUrl': 'https://tse3.mm.bing.net/th?id=OIP.nxEvH0HN5kNnGR-5xh88XwHaEK&pid=Api', 'datePublished': '2021-01-31T18:29:00.0000000Z', 'isFamilyFriendly': True, 'contentUrl': 'https://www.incimages.com/uploaded_files/image/1920x1080/getty_850286096_2000132420009280135_394707.jpg', 'hostPageUrl': 'https://www.inc.com/chris-matyszczyk/bill-gates-just-expressed-his-massive-frustration-with-how-people-think-then-elon-musk-joined-in.html', 'contentSize': '150830 B', 'encodingFormat': 'jpeg', 'hostPageDisplayUrl': 'https://www.inc.com/chris-matyszczyk/<b>bill-gates</b>-just-expressed-his-massive-frustration...', 'width': 1920, 'height': 1080, 'hostPageFavIconUrl': 'https://www.bing.com/th?id=ODF.d2sNjsZFyRqPfTHuti8I3g&amp;pid=Api', 'hostPageDomainFriendlyName': 'Inc.', 'hostPageDiscoveredDate': '2019-06-16T00:00:00.0000000Z', 'thumbnail': {'width': 474, 'height': 266}, 'imageInsightsToken': 'ccid_nxEvH0HN*cp_3BBEE60F5351DF140164F651A6D24D74*mid_657766827F2C835CFE6938BC09BB70DD377ACEF7*simid_608034203799813840*thid_OIP.nxEvH0HN5kNnGR-5xh88XwHaEK', 'insightsMetadata': {'recipeSourcesCount': 0, 'pagesIncludingCount': 196, 'availableSizesCount': 104}, 'imageId': '657766827F2C835CFE6938BC09BB70DD377ACEF7', 'accentColor': '497382'}]\n",
      "queryExpansions       : [{'text': 'Bill Gates Cartoon', 'displayText': 'Cartoon', 'webSearchUrl': 'https://www.bing.com/images/search?q=Bill+Gates+Cartoon&tq=%7b%22pq%22%3a%22Bill+Gates%22%2c%22qs%22%3a%5b%7b%22cv%22%3a%22Bill+Gates%22%2c%22pv%22%3a%22Bill+Gates%22%2c%22hps%22%3atrue%2c%22iqp%22%3afalse%7d%2c%7b%22cv%22%3a%22Cartoon%22%2c%22pv%22%3a%22%22%2c%22hps%22%3afalse%2c%22iqp%22%3atrue%7d%5d%7d&FORM=IRPATC', 'searchLink': 'https://api.bing.microsoft.com/api/v7/images/search?q=Bill+Gates+Cartoon&tq=%7b%22pq%22%3a%22Bill+Gates%22%2c%22qs%22%3a%5b%7b%22cv%22%3a%22Bill+Gates%22%2c%22pv%22%3a%22Bill+Gates%22%2c%22hps%22%3atrue%2c%22iqp%22%3afalse%7d%2c%7b%22cv%22%3a%22Cartoon%22%2c%22pv%22%3a%22%22%2c%22hps%22%3afalse%2c%22iqp%22%3atrue%7d%5d%7d', 'thumbnail': {'thumbnailUrl': 'https://tse2.mm.bing.net/th?q=Bill+Gates+Cartoon&pid=Api&mkt=nl-BE&adlt=moderate&t=1'}}, {'text': 'Bill Gates House', 'displayText': 'House', 'webSearchUrl': 'https://www.bing.com/images/search?q=Bill+Gates+House&tq=%7b%22pq%22%3a%22Bill+Gates%22%2c%22qs%22%3a%5b%7b%22cv%22%3a%22Bill+Gates%22%2c%22pv%22%3a%22Bill+Gates%22%2c%22hps%22%3atrue%2c%22iqp%22%3afalse%7d%2c%7b%22cv%22%3a%22House%22%2c%22pv%22%3a%22%22%2c%22hps%22%3afalse%2c%22iqp%22%3atrue%7d%5d%7d&FORM=IRPATC', 'searchLink': 'https://api.bing.microsoft.com/api/v7/images/search?q=Bill+Gates+House&tq=%7b%22pq%22%3a%22Bill+Gates%22%2c%22qs%22%3a%5b%7b%22cv%22%3a%22Bill+Gates%22%2c%22pv%22%3a%22Bill+Gates%22%2c%22hps%22%3atrue%2c%22iqp%22%3afalse%7d%2c%7b%22cv%22%3a%22House%22%2c%22pv%22%3a%22%22%2c%22hps%22%3afalse%2c%22iqp%22%3atrue%7d%5d%7d', 'thumbnail': {'thumbnailUrl': 'https://tse4.mm.bing.net/th?q=Bill+Gates+House&pid=Api&mkt=nl-BE&adlt=moderate&t=1'}}, {'text': 'Bill Gates Quotes', 'displayText': 'Quotes', 'webSearchUrl': 'https://www.bing.com/images/search?q=Bill+Gates+Quotes&tq=%7b%22pq%22%3a%22Bill+Gates%22%2c%22qs%22%3a%5b%7b%22cv%22%3a%22Bill+Gates%22%2c%22pv%22%3a%22Bill+Gates%22%2c%22hps%22%3atrue%2c%22iqp%22%3afalse%7d%2c%7b%22cv%22%3a%22Quotes%22%2c%22pv%22%3a%22%22%2c%22hps%22%3afalse%2c%22iqp%22%3atrue%7d%5d%7d&FORM=IRPATC', 'searchLink': 'https://api.bing.microsoft.com/api/v7/images/search?q=Bill+Gates+Quotes&tq=%7b%22pq%22%3a%22Bill+Gates%22%2c%22qs%22%3a%5b%7b%22cv%22%3a%22Bill+Gates%22%2c%22pv%22%3a%22Bill+Gates%22%2c%22hps%22%3atrue%2c%22iqp%22%3afalse%7d%2c%7b%22cv%22%3a%22Quotes%22%2c%22pv%22%3a%22%22%2c%22hps%22%3afalse%2c%22iqp%22%3atrue%7d%5d%7d', 'thumbnail': {'thumbnailUrl': 'https://tse1.mm.bing.net/th?q=Bill+Gates+Quotes&pid=Api&mkt=nl-BE&adlt=moderate&t=1'}}, {'text': 'Bill Gates Melinda', 'displayText': 'Melinda', 'webSearchUrl': 'https://www.bing.com/images/search?q=Bill+Gates+Melinda&tq=%7b%22pq%22%3a%22Bill+Gates%22%2c%22qs%22%3a%5b%7b%22cv%22%3a%22Bill+Gates%22%2c%22pv%22%3a%22Bill+Gates%22%2c%22hps%22%3atrue%2c%22iqp%22%3afalse%7d%2c%7b%22cv%22%3a%22Melinda%22%2c%22pv%22%3a%22%22%2c%22hps%22%3afalse%2c%22iqp%22%3atrue%7d%5d%7d&FORM=IRPATC', 'searchLink': 'https://api.bing.microsoft.com/api/v7/images/search?q=Bill+Gates+Melinda&tq=%7b%22pq%22%3a%22Bill+Gates%22%2c%22qs%22%3a%5b%7b%22cv%22%3a%22Bill+Gates%22%2c%22pv%22%3a%22Bill+Gates%22%2c%22hps%22%3atrue%2c%22iqp%22%3afalse%7d%2c%7b%22cv%22%3a%22Melinda%22%2c%22pv%22%3a%22%22%2c%22hps%22%3afalse%2c%22iqp%22%3atrue%7d%5d%7d', 'thumbnail': {'thumbnailUrl': 'https://tse4.mm.bing.net/th?q=Bill+Gates+Melinda&pid=Api&mkt=nl-BE&adlt=moderate&t=1'}}, {'text': 'Bill Gates Vaccin', 'displayText': 'Vaccin', 'webSearchUrl': 'https://www.bing.com/images/search?q=Bill+Gates+Vaccin&tq=%7b%22pq%22%3a%22Bill+Gates%22%2c%22qs%22%3a%5b%7b%22cv%22%3a%22Bill+Gates%22%2c%22pv%22%3a%22Bill+Gates%22%2c%22hps%22%3atrue%2c%22iqp%22%3afalse%7d%2c%7b%22cv%22%3a%22Vaccin%22%2c%22pv%22%3a%22%22%2c%22hps%22%3afalse%2c%22iqp%22%3atrue%7d%5d%7d&FORM=IRPATC', 'searchLink': 'https://api.bing.microsoft.com/api/v7/images/search?q=Bill+Gates+Vaccin&tq=%7b%22pq%22%3a%22Bill+Gates%22%2c%22qs%22%3a%5b%7b%22cv%22%3a%22Bill+Gates%22%2c%22pv%22%3a%22Bill+Gates%22%2c%22hps%22%3atrue%2c%22iqp%22%3afalse%7d%2c%7b%22cv%22%3a%22Vaccin%22%2c%22pv%22%3a%22%22%2c%22hps%22%3afalse%2c%22iqp%22%3atrue%7d%5d%7d', 'thumbnail': {'thumbnailUrl': 'https://tse2.mm.bing.net/th?q=Bill+Gates+Vaccin&pid=Api&mkt=nl-BE&adlt=moderate&t=1'}}, {'text': 'Huis Bill Gates', 'displayText': 'Huis', 'webSearchUrl': 'https://www.bing.com/images/search?q=Huis+Bill+Gates&tq=%7b%22pq%22%3a%22Bill+Gates%22%2c%22qs%22%3a%5b%7b%22cv%22%3a%22Bill+Gates%22%2c%22pv%22%3a%22Bill+Gates%22%2c%22hps%22%3atrue%2c%22iqp%22%3afalse%7d%2c%7b%22cv%22%3a%22Huis%22%2c%22pv%22%3a%22%22%2c%22hps%22%3afalse%2c%22iqp%22%3atrue%7d%5d%7d&FORM=IRPATC', 'searchLink': 'https://api.bing.microsoft.com/api/v7/images/search?q=Huis+Bill+Gates&tq=%7b%22pq%22%3a%22Bill+Gates%22%2c%22qs%22%3a%5b%7b%22cv%22%3a%22Bill+Gates%22%2c%22pv%22%3a%22Bill+Gates%22%2c%22hps%22%3atrue%2c%22iqp%22%3afalse%7d%2c%7b%22cv%22%3a%22Huis%22%2c%22pv%22%3a%22%22%2c%22hps%22%3afalse%2c%22iqp%22%3atrue%7d%5d%7d', 'thumbnail': {'thumbnailUrl': 'https://tse3.mm.bing.net/th?q=Huis+Bill+Gates&pid=Api&mkt=nl-BE&adlt=moderate&t=1'}}, {'text': 'Bill Gates Books', 'displayText': 'Books', 'webSearchUrl': 'https://www.bing.com/images/search?q=Bill+Gates+Books&tq=%7b%22pq%22%3a%22Bill+Gates%22%2c%22qs%22%3a%5b%7b%22cv%22%3a%22Bill+Gates%22%2c%22pv%22%3a%22Bill+Gates%22%2c%22hps%22%3atrue%2c%22iqp%22%3afalse%7d%2c%7b%22cv%22%3a%22Books%22%2c%22pv%22%3a%22%22%2c%22hps%22%3afalse%2c%22iqp%22%3atrue%7d%5d%7d&FORM=IRPATC', 'searchLink': 'https://api.bing.microsoft.com/api/v7/images/search?q=Bill+Gates+Books&tq=%7b%22pq%22%3a%22Bill+Gates%22%2c%22qs%22%3a%5b%7b%22cv%22%3a%22Bill+Gates%22%2c%22pv%22%3a%22Bill+Gates%22%2c%22hps%22%3atrue%2c%22iqp%22%3afalse%7d%2c%7b%22cv%22%3a%22Books%22%2c%22pv%22%3a%22%22%2c%22hps%22%3afalse%2c%22iqp%22%3atrue%7d%5d%7d', 'thumbnail': {'thumbnailUrl': 'https://tse4.mm.bing.net/th?q=Bill+Gates+Books&pid=Api&mkt=nl-BE&adlt=moderate&t=1'}}, {'text': 'Bill Gates Foundation', 'displayText': 'Foundation', 'webSearchUrl': 'https://www.bing.com/images/search?q=Bill+Gates+Foundation&tq=%7b%22pq%22%3a%22Bill+Gates%22%2c%22qs%22%3a%5b%7b%22cv%22%3a%22Bill+Gates%22%2c%22pv%22%3a%22Bill+Gates%22%2c%22hps%22%3atrue%2c%22iqp%22%3afalse%7d%2c%7b%22cv%22%3a%22Foundation%22%2c%22pv%22%3a%22%22%2c%22hps%22%3afalse%2c%22iqp%22%3atrue%7d%5d%7d&FORM=IRPATC', 'searchLink': 'https://api.bing.microsoft.com/api/v7/images/search?q=Bill+Gates+Foundation&tq=%7b%22pq%22%3a%22Bill+Gates%22%2c%22qs%22%3a%5b%7b%22cv%22%3a%22Bill+Gates%22%2c%22pv%22%3a%22Bill+Gates%22%2c%22hps%22%3atrue%2c%22iqp%22%3afalse%7d%2c%7b%22cv%22%3a%22Foundation%22%2c%22pv%22%3a%22%22%2c%22hps%22%3afalse%2c%22iqp%22%3atrue%7d%5d%7d', 'thumbnail': {'thumbnailUrl': 'https://tse1.mm.bing.net/th?q=Bill+Gates+Foundation&pid=Api&mkt=nl-BE&adlt=moderate&t=1'}}, {'text': 'Work of Bill Gates', 'displayText': 'Work', 'webSearchUrl': 'https://www.bing.com/images/search?q=Work+of+Bill+Gates&tq=%7b%22pq%22%3a%22Bill+Gates%22%2c%22qs%22%3a%5b%7b%22cv%22%3a%22Bill+Gates%22%2c%22pv%22%3a%22Bill+Gates%22%2c%22hps%22%3atrue%2c%22iqp%22%3afalse%7d%2c%7b%22cv%22%3a%22Work%22%2c%22pv%22%3a%22%22%2c%22hps%22%3afalse%2c%22iqp%22%3atrue%7d%5d%7d&FORM=IRPATC', 'searchLink': 'https://api.bing.microsoft.com/api/v7/images/search?q=Work+of+Bill+Gates&tq=%7b%22pq%22%3a%22Bill+Gates%22%2c%22qs%22%3a%5b%7b%22cv%22%3a%22Bill+Gates%22%2c%22pv%22%3a%22Bill+Gates%22%2c%22hps%22%3atrue%2c%22iqp%22%3afalse%7d%2c%7b%22cv%22%3a%22Work%22%2c%22pv%22%3a%22%22%2c%22hps%22%3afalse%2c%22iqp%22%3atrue%7d%5d%7d', 'thumbnail': {'thumbnailUrl': 'https://tse2.mm.bing.net/th?q=Work+of+Bill+Gates&pid=Api&mkt=nl-BE&adlt=moderate&t=1'}}, {'text': 'Bill Gates Kinderen', 'displayText': 'Kinderen', 'webSearchUrl': 'https://www.bing.com/images/search?q=Bill+Gates+Kinderen&tq=%7b%22pq%22%3a%22Bill+Gates%22%2c%22qs%22%3a%5b%7b%22cv%22%3a%22Bill+Gates%22%2c%22pv%22%3a%22Bill+Gates%22%2c%22hps%22%3atrue%2c%22iqp%22%3afalse%7d%2c%7b%22cv%22%3a%22Kinderen%22%2c%22pv%22%3a%22%22%2c%22hps%22%3afalse%2c%22iqp%22%3atrue%7d%5d%7d&FORM=IRPATC', 'searchLink': 'https://api.bing.microsoft.com/api/v7/images/search?q=Bill+Gates+Kinderen&tq=%7b%22pq%22%3a%22Bill+Gates%22%2c%22qs%22%3a%5b%7b%22cv%22%3a%22Bill+Gates%22%2c%22pv%22%3a%22Bill+Gates%22%2c%22hps%22%3atrue%2c%22iqp%22%3afalse%7d%2c%7b%22cv%22%3a%22Kinderen%22%2c%22pv%22%3a%22%22%2c%22hps%22%3afalse%2c%22iqp%22%3atrue%7d%5d%7d', 'thumbnail': {'thumbnailUrl': 'https://tse2.mm.bing.net/th?q=Bill+Gates+Kinderen&pid=Api&mkt=nl-BE&adlt=moderate&t=1'}}, {'text': 'Bill Gates Corona', 'displayText': 'Corona', 'webSearchUrl': 'https://www.bing.com/images/search?q=Bill+Gates+Corona&tq=%7b%22pq%22%3a%22Bill+Gates%22%2c%22qs%22%3a%5b%7b%22cv%22%3a%22Bill+Gates%22%2c%22pv%22%3a%22Bill+Gates%22%2c%22hps%22%3atrue%2c%22iqp%22%3afalse%7d%2c%7b%22cv%22%3a%22Corona%22%2c%22pv%22%3a%22%22%2c%22hps%22%3afalse%2c%22iqp%22%3atrue%7d%5d%7d&FORM=IRPATC', 'searchLink': 'https://api.bing.microsoft.com/api/v7/images/search?q=Bill+Gates+Corona&tq=%7b%22pq%22%3a%22Bill+Gates%22%2c%22qs%22%3a%5b%7b%22cv%22%3a%22Bill+Gates%22%2c%22pv%22%3a%22Bill+Gates%22%2c%22hps%22%3atrue%2c%22iqp%22%3afalse%7d%2c%7b%22cv%22%3a%22Corona%22%2c%22pv%22%3a%22%22%2c%22hps%22%3afalse%2c%22iqp%22%3atrue%7d%5d%7d', 'thumbnail': {'thumbnailUrl': 'https://tse4.mm.bing.net/th?q=Bill+Gates+Corona&pid=Api&mkt=nl-BE&adlt=moderate&t=1'}}, {'text': 'Bill Gates with Mask', 'displayText': 'Mask', 'webSearchUrl': 'https://www.bing.com/images/search?q=Bill+Gates+with+Mask&tq=%7b%22pq%22%3a%22Bill+Gates%22%2c%22qs%22%3a%5b%7b%22cv%22%3a%22Bill+Gates%22%2c%22pv%22%3a%22Bill+Gates%22%2c%22hps%22%3atrue%2c%22iqp%22%3afalse%7d%2c%7b%22cv%22%3a%22Mask%22%2c%22pv%22%3a%22%22%2c%22hps%22%3afalse%2c%22iqp%22%3atrue%7d%5d%7d&FORM=IRPATC', 'searchLink': 'https://api.bing.microsoft.com/api/v7/images/search?q=Bill+Gates+with+Mask&tq=%7b%22pq%22%3a%22Bill+Gates%22%2c%22qs%22%3a%5b%7b%22cv%22%3a%22Bill+Gates%22%2c%22pv%22%3a%22Bill+Gates%22%2c%22hps%22%3atrue%2c%22iqp%22%3afalse%7d%2c%7b%22cv%22%3a%22Mask%22%2c%22pv%22%3a%22%22%2c%22hps%22%3afalse%2c%22iqp%22%3atrue%7d%5d%7d', 'thumbnail': {'thumbnailUrl': 'https://tse2.mm.bing.net/th?q=Bill+Gates+with+Mask&pid=Api&mkt=nl-BE&adlt=moderate&t=1'}}, {'text': 'Bill Gates Car', 'displayText': 'Car', 'webSearchUrl': 'https://www.bing.com/images/search?q=Bill+Gates+Car&tq=%7b%22pq%22%3a%22Bill+Gates%22%2c%22qs%22%3a%5b%7b%22cv%22%3a%22Bill+Gates%22%2c%22pv%22%3a%22Bill+Gates%22%2c%22hps%22%3atrue%2c%22iqp%22%3afalse%7d%2c%7b%22cv%22%3a%22Car%22%2c%22pv%22%3a%22%22%2c%22hps%22%3afalse%2c%22iqp%22%3atrue%7d%5d%7d&FORM=IRPATC', 'searchLink': 'https://api.bing.microsoft.com/api/v7/images/search?q=Bill+Gates+Car&tq=%7b%22pq%22%3a%22Bill+Gates%22%2c%22qs%22%3a%5b%7b%22cv%22%3a%22Bill+Gates%22%2c%22pv%22%3a%22Bill+Gates%22%2c%22hps%22%3atrue%2c%22iqp%22%3afalse%7d%2c%7b%22cv%22%3a%22Car%22%2c%22pv%22%3a%22%22%2c%22hps%22%3afalse%2c%22iqp%22%3atrue%7d%5d%7d', 'thumbnail': {'thumbnailUrl': 'https://tse2.mm.bing.net/th?q=Bill+Gates+Car&pid=Api&mkt=nl-BE&adlt=moderate&t=1'}}, {'text': 'Bill Gates Reading', 'displayText': 'Reading', 'webSearchUrl': 'https://www.bing.com/images/search?q=Bill+Gates+Reading&tq=%7b%22pq%22%3a%22Bill+Gates%22%2c%22qs%22%3a%5b%7b%22cv%22%3a%22Bill+Gates%22%2c%22pv%22%3a%22Bill+Gates%22%2c%22hps%22%3atrue%2c%22iqp%22%3afalse%7d%2c%7b%22cv%22%3a%22Reading%22%2c%22pv%22%3a%22%22%2c%22hps%22%3afalse%2c%22iqp%22%3atrue%7d%5d%7d&FORM=IRPATC', 'searchLink': 'https://api.bing.microsoft.com/api/v7/images/search?q=Bill+Gates+Reading&tq=%7b%22pq%22%3a%22Bill+Gates%22%2c%22qs%22%3a%5b%7b%22cv%22%3a%22Bill+Gates%22%2c%22pv%22%3a%22Bill+Gates%22%2c%22hps%22%3atrue%2c%22iqp%22%3afalse%7d%2c%7b%22cv%22%3a%22Reading%22%2c%22pv%22%3a%22%22%2c%22hps%22%3afalse%2c%22iqp%22%3atrue%7d%5d%7d', 'thumbnail': {'thumbnailUrl': 'https://tse2.mm.bing.net/th?q=Bill+Gates+Reading&pid=Api&mkt=nl-BE&adlt=moderate&t=1'}}, {'text': 'Boot Bill Gates', 'displayText': 'Boot', 'webSearchUrl': 'https://www.bing.com/images/search?q=Boot+Bill+Gates&tq=%7b%22pq%22%3a%22Bill+Gates%22%2c%22qs%22%3a%5b%7b%22cv%22%3a%22Bill+Gates%22%2c%22pv%22%3a%22Bill+Gates%22%2c%22hps%22%3atrue%2c%22iqp%22%3afalse%7d%2c%7b%22cv%22%3a%22Boot%22%2c%22pv%22%3a%22%22%2c%22hps%22%3afalse%2c%22iqp%22%3atrue%7d%5d%7d&FORM=IRPATC', 'searchLink': 'https://api.bing.microsoft.com/api/v7/images/search?q=Boot+Bill+Gates&tq=%7b%22pq%22%3a%22Bill+Gates%22%2c%22qs%22%3a%5b%7b%22cv%22%3a%22Bill+Gates%22%2c%22pv%22%3a%22Bill+Gates%22%2c%22hps%22%3atrue%2c%22iqp%22%3afalse%7d%2c%7b%22cv%22%3a%22Boot%22%2c%22pv%22%3a%22%22%2c%22hps%22%3afalse%2c%22iqp%22%3atrue%7d%5d%7d', 'thumbnail': {'thumbnailUrl': 'https://tse2.mm.bing.net/th?q=Boot+Bill+Gates&pid=Api&mkt=nl-BE&adlt=moderate&t=1'}}, {'text': 'Foto Bill Gates', 'displayText': 'Foto', 'webSearchUrl': 'https://www.bing.com/images/search?q=Foto+Bill+Gates&tq=%7b%22pq%22%3a%22Bill+Gates%22%2c%22qs%22%3a%5b%7b%22cv%22%3a%22Bill+Gates%22%2c%22pv%22%3a%22Bill+Gates%22%2c%22hps%22%3atrue%2c%22iqp%22%3afalse%7d%2c%7b%22cv%22%3a%22Foto%22%2c%22pv%22%3a%22%22%2c%22hps%22%3afalse%2c%22iqp%22%3atrue%7d%5d%7d&FORM=IRPATC', 'searchLink': 'https://api.bing.microsoft.com/api/v7/images/search?q=Foto+Bill+Gates&tq=%7b%22pq%22%3a%22Bill+Gates%22%2c%22qs%22%3a%5b%7b%22cv%22%3a%22Bill+Gates%22%2c%22pv%22%3a%22Bill+Gates%22%2c%22hps%22%3atrue%2c%22iqp%22%3afalse%7d%2c%7b%22cv%22%3a%22Foto%22%2c%22pv%22%3a%22%22%2c%22hps%22%3afalse%2c%22iqp%22%3atrue%7d%5d%7d', 'thumbnail': {'thumbnailUrl': 'https://tse2.mm.bing.net/th?q=Foto+Bill+Gates&pid=Api&mkt=nl-BE&adlt=moderate&t=1'}}, {'text': 'Bill Gates PNG', 'displayText': 'PNG', 'webSearchUrl': 'https://www.bing.com/images/search?q=Bill+Gates+PNG&tq=%7b%22pq%22%3a%22Bill+Gates%22%2c%22qs%22%3a%5b%7b%22cv%22%3a%22Bill+Gates%22%2c%22pv%22%3a%22Bill+Gates%22%2c%22hps%22%3atrue%2c%22iqp%22%3afalse%7d%2c%7b%22cv%22%3a%22PNG%22%2c%22pv%22%3a%22%22%2c%22hps%22%3afalse%2c%22iqp%22%3atrue%7d%5d%7d&FORM=IRPATC', 'searchLink': 'https://api.bing.microsoft.com/api/v7/images/search?q=Bill+Gates+PNG&tq=%7b%22pq%22%3a%22Bill+Gates%22%2c%22qs%22%3a%5b%7b%22cv%22%3a%22Bill+Gates%22%2c%22pv%22%3a%22Bill+Gates%22%2c%22hps%22%3atrue%2c%22iqp%22%3afalse%7d%2c%7b%22cv%22%3a%22PNG%22%2c%22pv%22%3a%22%22%2c%22hps%22%3afalse%2c%22iqp%22%3atrue%7d%5d%7d', 'thumbnail': {'thumbnailUrl': 'https://tse1.mm.bing.net/th?q=Bill+Gates+PNG&pid=Api&mkt=nl-BE&adlt=moderate&t=1'}}, {'text': 'Bill Gates Office', 'displayText': 'Office', 'webSearchUrl': 'https://www.bing.com/images/search?q=Bill+Gates+Office&tq=%7b%22pq%22%3a%22Bill+Gates%22%2c%22qs%22%3a%5b%7b%22cv%22%3a%22Bill+Gates%22%2c%22pv%22%3a%22Bill+Gates%22%2c%22hps%22%3atrue%2c%22iqp%22%3afalse%7d%2c%7b%22cv%22%3a%22Office%22%2c%22pv%22%3a%22%22%2c%22hps%22%3afalse%2c%22iqp%22%3atrue%7d%5d%7d&FORM=IRPATC', 'searchLink': 'https://api.bing.microsoft.com/api/v7/images/search?q=Bill+Gates+Office&tq=%7b%22pq%22%3a%22Bill+Gates%22%2c%22qs%22%3a%5b%7b%22cv%22%3a%22Bill+Gates%22%2c%22pv%22%3a%22Bill+Gates%22%2c%22hps%22%3atrue%2c%22iqp%22%3afalse%7d%2c%7b%22cv%22%3a%22Office%22%2c%22pv%22%3a%22%22%2c%22hps%22%3afalse%2c%22iqp%22%3atrue%7d%5d%7d', 'thumbnail': {'thumbnailUrl': 'https://tse4.mm.bing.net/th?q=Bill+Gates+Office&pid=Api&mkt=nl-BE&adlt=moderate&t=1'}}, {'text': 'Bill Gates Face', 'displayText': 'Face', 'webSearchUrl': 'https://www.bing.com/images/search?q=Bill+Gates+Face&tq=%7b%22pq%22%3a%22Bill+Gates%22%2c%22qs%22%3a%5b%7b%22cv%22%3a%22Bill+Gates%22%2c%22pv%22%3a%22Bill+Gates%22%2c%22hps%22%3atrue%2c%22iqp%22%3afalse%7d%2c%7b%22cv%22%3a%22Face%22%2c%22pv%22%3a%22%22%2c%22hps%22%3afalse%2c%22iqp%22%3atrue%7d%5d%7d&FORM=IRPATC', 'searchLink': 'https://api.bing.microsoft.com/api/v7/images/search?q=Bill+Gates+Face&tq=%7b%22pq%22%3a%22Bill+Gates%22%2c%22qs%22%3a%5b%7b%22cv%22%3a%22Bill+Gates%22%2c%22pv%22%3a%22Bill+Gates%22%2c%22hps%22%3atrue%2c%22iqp%22%3afalse%7d%2c%7b%22cv%22%3a%22Face%22%2c%22pv%22%3a%22%22%2c%22hps%22%3afalse%2c%22iqp%22%3atrue%7d%5d%7d', 'thumbnail': {'thumbnailUrl': 'https://tse1.mm.bing.net/th?q=Bill+Gates+Face&pid=Api&mkt=nl-BE&adlt=moderate&t=1'}}, {'text': 'Bill Gates Desk', 'displayText': 'Desk', 'webSearchUrl': 'https://www.bing.com/images/search?q=Bill+Gates+Desk&tq=%7b%22pq%22%3a%22Bill+Gates%22%2c%22qs%22%3a%5b%7b%22cv%22%3a%22Bill+Gates%22%2c%22pv%22%3a%22Bill+Gates%22%2c%22hps%22%3atrue%2c%22iqp%22%3afalse%7d%2c%7b%22cv%22%3a%22Desk%22%2c%22pv%22%3a%22%22%2c%22hps%22%3afalse%2c%22iqp%22%3atrue%7d%5d%7d&FORM=IRPATC', 'searchLink': 'https://api.bing.microsoft.com/api/v7/images/search?q=Bill+Gates+Desk&tq=%7b%22pq%22%3a%22Bill+Gates%22%2c%22qs%22%3a%5b%7b%22cv%22%3a%22Bill+Gates%22%2c%22pv%22%3a%22Bill+Gates%22%2c%22hps%22%3atrue%2c%22iqp%22%3afalse%7d%2c%7b%22cv%22%3a%22Desk%22%2c%22pv%22%3a%22%22%2c%22hps%22%3afalse%2c%22iqp%22%3atrue%7d%5d%7d', 'thumbnail': {'thumbnailUrl': 'https://tse1.mm.bing.net/th?q=Bill+Gates+Desk&pid=Api&mkt=nl-BE&adlt=moderate&t=1'}}]\n",
      "pivotSuggestions      : [{'pivot': 'Bill Gates', 'suggestions': [{'text': 'Steve Jobs', 'displayText': 'Steve Jobs', 'webSearchUrl': 'https://www.bing.com/images/search?q=Steve+Jobs&tq=%7b%22pq%22%3a%22Bill+Gates%22%2c%22qs%22%3a%5b%7b%22cv%22%3a%22Bill+Gates%22%2c%22pv%22%3a%22Bill+Gates%22%2c%22hps%22%3atrue%2c%22iqp%22%3afalse%7d%2c%7b%22cv%22%3a%22Steve+Jobs%22%2c%22pv%22%3a%22%22%2c%22hps%22%3afalse%2c%22iqp%22%3atrue%7d%5d%7d&FORM=IRQBPS', 'searchLink': 'https://api.bing.microsoft.com/api/v7/images/search?q=Steve+Jobs&tq=%7b%22pq%22%3a%22Bill+Gates%22%2c%22qs%22%3a%5b%7b%22cv%22%3a%22Bill+Gates%22%2c%22pv%22%3a%22Bill+Gates%22%2c%22hps%22%3atrue%2c%22iqp%22%3afalse%7d%2c%7b%22cv%22%3a%22Steve+Jobs%22%2c%22pv%22%3a%22%22%2c%22hps%22%3afalse%2c%22iqp%22%3atrue%7d%5d%7d', 'thumbnail': {'thumbnailUrl': 'https://tse4.mm.bing.net/th?q=Steve+Jobs&pid=Api&mkt=nl-BE&adlt=moderate&t=1'}}, {'text': 'Melinda Gates', 'displayText': 'Melinda Gates', 'webSearchUrl': 'https://www.bing.com/images/search?q=Melinda+Gates&tq=%7b%22pq%22%3a%22Bill+Gates%22%2c%22qs%22%3a%5b%7b%22cv%22%3a%22Bill+Gates%22%2c%22pv%22%3a%22Bill+Gates%22%2c%22hps%22%3atrue%2c%22iqp%22%3afalse%7d%2c%7b%22cv%22%3a%22Melinda+Gates%22%2c%22pv%22%3a%22%22%2c%22hps%22%3afalse%2c%22iqp%22%3atrue%7d%5d%7d&FORM=IRQBPS', 'searchLink': 'https://api.bing.microsoft.com/api/v7/images/search?q=Melinda+Gates&tq=%7b%22pq%22%3a%22Bill+Gates%22%2c%22qs%22%3a%5b%7b%22cv%22%3a%22Bill+Gates%22%2c%22pv%22%3a%22Bill+Gates%22%2c%22hps%22%3atrue%2c%22iqp%22%3afalse%7d%2c%7b%22cv%22%3a%22Melinda+Gates%22%2c%22pv%22%3a%22%22%2c%22hps%22%3afalse%2c%22iqp%22%3atrue%7d%5d%7d', 'thumbnail': {'thumbnailUrl': 'https://tse1.mm.bing.net/th?q=Melinda+Gates&pid=Api&mkt=nl-BE&adlt=moderate&t=1'}}, {'text': 'Paul Allen', 'displayText': 'Paul Allen', 'webSearchUrl': 'https://www.bing.com/images/search?q=Paul+Allen&tq=%7b%22pq%22%3a%22Bill+Gates%22%2c%22qs%22%3a%5b%7b%22cv%22%3a%22Bill+Gates%22%2c%22pv%22%3a%22Bill+Gates%22%2c%22hps%22%3atrue%2c%22iqp%22%3afalse%7d%2c%7b%22cv%22%3a%22Paul+Allen%22%2c%22pv%22%3a%22%22%2c%22hps%22%3afalse%2c%22iqp%22%3atrue%7d%5d%7d&FORM=IRQBPS', 'searchLink': 'https://api.bing.microsoft.com/api/v7/images/search?q=Paul+Allen&tq=%7b%22pq%22%3a%22Bill+Gates%22%2c%22qs%22%3a%5b%7b%22cv%22%3a%22Bill+Gates%22%2c%22pv%22%3a%22Bill+Gates%22%2c%22hps%22%3atrue%2c%22iqp%22%3afalse%7d%2c%7b%22cv%22%3a%22Paul+Allen%22%2c%22pv%22%3a%22%22%2c%22hps%22%3afalse%2c%22iqp%22%3atrue%7d%5d%7d', 'thumbnail': {'thumbnailUrl': 'https://tse1.mm.bing.net/th?q=Paul+Allen&pid=Api&mkt=nl-BE&adlt=moderate&t=1'}}, {'text': 'Carlos Slim', 'displayText': 'Carlos Slim', 'webSearchUrl': 'https://www.bing.com/images/search?q=Carlos+Slim&tq=%7b%22pq%22%3a%22Bill+Gates%22%2c%22qs%22%3a%5b%7b%22cv%22%3a%22Bill+Gates%22%2c%22pv%22%3a%22Bill+Gates%22%2c%22hps%22%3atrue%2c%22iqp%22%3afalse%7d%2c%7b%22cv%22%3a%22Carlos+Slim%22%2c%22pv%22%3a%22%22%2c%22hps%22%3afalse%2c%22iqp%22%3atrue%7d%5d%7d&FORM=IRQBPS', 'searchLink': 'https://api.bing.microsoft.com/api/v7/images/search?q=Carlos+Slim&tq=%7b%22pq%22%3a%22Bill+Gates%22%2c%22qs%22%3a%5b%7b%22cv%22%3a%22Bill+Gates%22%2c%22pv%22%3a%22Bill+Gates%22%2c%22hps%22%3atrue%2c%22iqp%22%3afalse%7d%2c%7b%22cv%22%3a%22Carlos+Slim%22%2c%22pv%22%3a%22%22%2c%22hps%22%3afalse%2c%22iqp%22%3atrue%7d%5d%7d', 'thumbnail': {'thumbnailUrl': 'https://tse4.mm.bing.net/th?q=Carlos+Slim&pid=Api&mkt=nl-BE&adlt=moderate&t=1'}}, {'text': 'Warren Buffett', 'displayText': 'Warren Buffett', 'webSearchUrl': 'https://www.bing.com/images/search?q=Warren+Buffett&tq=%7b%22pq%22%3a%22Bill+Gates%22%2c%22qs%22%3a%5b%7b%22cv%22%3a%22Bill+Gates%22%2c%22pv%22%3a%22Bill+Gates%22%2c%22hps%22%3atrue%2c%22iqp%22%3afalse%7d%2c%7b%22cv%22%3a%22Warren+Buffett%22%2c%22pv%22%3a%22%22%2c%22hps%22%3afalse%2c%22iqp%22%3atrue%7d%5d%7d&FORM=IRQBPS', 'searchLink': 'https://api.bing.microsoft.com/api/v7/images/search?q=Warren+Buffett&tq=%7b%22pq%22%3a%22Bill+Gates%22%2c%22qs%22%3a%5b%7b%22cv%22%3a%22Bill+Gates%22%2c%22pv%22%3a%22Bill+Gates%22%2c%22hps%22%3atrue%2c%22iqp%22%3afalse%7d%2c%7b%22cv%22%3a%22Warren+Buffett%22%2c%22pv%22%3a%22%22%2c%22hps%22%3afalse%2c%22iqp%22%3atrue%7d%5d%7d', 'thumbnail': {'thumbnailUrl': 'https://tse2.mm.bing.net/th?q=Warren+Buffett&pid=Api&mkt=nl-BE&adlt=moderate&t=1'}}, {'text': 'Mark Zuckerberg', 'displayText': 'Mark Zuckerberg', 'webSearchUrl': 'https://www.bing.com/images/search?q=Mark+Zuckerberg&tq=%7b%22pq%22%3a%22Bill+Gates%22%2c%22qs%22%3a%5b%7b%22cv%22%3a%22Bill+Gates%22%2c%22pv%22%3a%22Bill+Gates%22%2c%22hps%22%3atrue%2c%22iqp%22%3afalse%7d%2c%7b%22cv%22%3a%22Mark+Zuckerberg%22%2c%22pv%22%3a%22%22%2c%22hps%22%3afalse%2c%22iqp%22%3atrue%7d%5d%7d&FORM=IRQBPS', 'searchLink': 'https://api.bing.microsoft.com/api/v7/images/search?q=Mark+Zuckerberg&tq=%7b%22pq%22%3a%22Bill+Gates%22%2c%22qs%22%3a%5b%7b%22cv%22%3a%22Bill+Gates%22%2c%22pv%22%3a%22Bill+Gates%22%2c%22hps%22%3atrue%2c%22iqp%22%3afalse%7d%2c%7b%22cv%22%3a%22Mark+Zuckerberg%22%2c%22pv%22%3a%22%22%2c%22hps%22%3afalse%2c%22iqp%22%3atrue%7d%5d%7d', 'thumbnail': {'thumbnailUrl': 'https://tse2.mm.bing.net/th?q=Mark+Zuckerberg&pid=Api&mkt=nl-BE&adlt=moderate&t=1'}}, {'text': 'Steve Ballmer', 'displayText': 'Steve Ballmer', 'webSearchUrl': 'https://www.bing.com/images/search?q=Steve+Ballmer&tq=%7b%22pq%22%3a%22Bill+Gates%22%2c%22qs%22%3a%5b%7b%22cv%22%3a%22Bill+Gates%22%2c%22pv%22%3a%22Bill+Gates%22%2c%22hps%22%3atrue%2c%22iqp%22%3afalse%7d%2c%7b%22cv%22%3a%22Steve+Ballmer%22%2c%22pv%22%3a%22%22%2c%22hps%22%3afalse%2c%22iqp%22%3atrue%7d%5d%7d&FORM=IRQBPS', 'searchLink': 'https://api.bing.microsoft.com/api/v7/images/search?q=Steve+Ballmer&tq=%7b%22pq%22%3a%22Bill+Gates%22%2c%22qs%22%3a%5b%7b%22cv%22%3a%22Bill+Gates%22%2c%22pv%22%3a%22Bill+Gates%22%2c%22hps%22%3atrue%2c%22iqp%22%3afalse%7d%2c%7b%22cv%22%3a%22Steve+Ballmer%22%2c%22pv%22%3a%22%22%2c%22hps%22%3afalse%2c%22iqp%22%3atrue%7d%5d%7d', 'thumbnail': {'thumbnailUrl': 'https://tse3.mm.bing.net/th?q=Steve+Ballmer&pid=Api&mkt=nl-BE&adlt=moderate&t=1'}}, {'text': 'Satya Nadella', 'displayText': 'Satya Nadella', 'webSearchUrl': 'https://www.bing.com/images/search?q=Satya+Nadella&tq=%7b%22pq%22%3a%22Bill+Gates%22%2c%22qs%22%3a%5b%7b%22cv%22%3a%22Bill+Gates%22%2c%22pv%22%3a%22Bill+Gates%22%2c%22hps%22%3atrue%2c%22iqp%22%3afalse%7d%2c%7b%22cv%22%3a%22Satya+Nadella%22%2c%22pv%22%3a%22%22%2c%22hps%22%3afalse%2c%22iqp%22%3atrue%7d%5d%7d&FORM=IRQBPS', 'searchLink': 'https://api.bing.microsoft.com/api/v7/images/search?q=Satya+Nadella&tq=%7b%22pq%22%3a%22Bill+Gates%22%2c%22qs%22%3a%5b%7b%22cv%22%3a%22Bill+Gates%22%2c%22pv%22%3a%22Bill+Gates%22%2c%22hps%22%3atrue%2c%22iqp%22%3afalse%7d%2c%7b%22cv%22%3a%22Satya+Nadella%22%2c%22pv%22%3a%22%22%2c%22hps%22%3afalse%2c%22iqp%22%3atrue%7d%5d%7d', 'thumbnail': {'thumbnailUrl': 'https://tse2.mm.bing.net/th?q=Satya+Nadella&pid=Api&mkt=nl-BE&adlt=moderate&t=1'}}, {'text': 'Larry Ellison', 'displayText': 'Larry Ellison', 'webSearchUrl': 'https://www.bing.com/images/search?q=Larry+Ellison&tq=%7b%22pq%22%3a%22Bill+Gates%22%2c%22qs%22%3a%5b%7b%22cv%22%3a%22Bill+Gates%22%2c%22pv%22%3a%22Bill+Gates%22%2c%22hps%22%3atrue%2c%22iqp%22%3afalse%7d%2c%7b%22cv%22%3a%22Larry+Ellison%22%2c%22pv%22%3a%22%22%2c%22hps%22%3afalse%2c%22iqp%22%3atrue%7d%5d%7d&FORM=IRQBPS', 'searchLink': 'https://api.bing.microsoft.com/api/v7/images/search?q=Larry+Ellison&tq=%7b%22pq%22%3a%22Bill+Gates%22%2c%22qs%22%3a%5b%7b%22cv%22%3a%22Bill+Gates%22%2c%22pv%22%3a%22Bill+Gates%22%2c%22hps%22%3atrue%2c%22iqp%22%3afalse%7d%2c%7b%22cv%22%3a%22Larry+Ellison%22%2c%22pv%22%3a%22%22%2c%22hps%22%3afalse%2c%22iqp%22%3atrue%7d%5d%7d', 'thumbnail': {'thumbnailUrl': 'https://tse3.mm.bing.net/th?q=Larry+Ellison&pid=Api&mkt=nl-BE&adlt=moderate&t=1'}}, {'text': 'Steve Wozniak', 'displayText': 'Steve Wozniak', 'webSearchUrl': 'https://www.bing.com/images/search?q=Steve+Wozniak&tq=%7b%22pq%22%3a%22Bill+Gates%22%2c%22qs%22%3a%5b%7b%22cv%22%3a%22Bill+Gates%22%2c%22pv%22%3a%22Bill+Gates%22%2c%22hps%22%3atrue%2c%22iqp%22%3afalse%7d%2c%7b%22cv%22%3a%22Steve+Wozniak%22%2c%22pv%22%3a%22%22%2c%22hps%22%3afalse%2c%22iqp%22%3atrue%7d%5d%7d&FORM=IRQBPS', 'searchLink': 'https://api.bing.microsoft.com/api/v7/images/search?q=Steve+Wozniak&tq=%7b%22pq%22%3a%22Bill+Gates%22%2c%22qs%22%3a%5b%7b%22cv%22%3a%22Bill+Gates%22%2c%22pv%22%3a%22Bill+Gates%22%2c%22hps%22%3atrue%2c%22iqp%22%3afalse%7d%2c%7b%22cv%22%3a%22Steve+Wozniak%22%2c%22pv%22%3a%22%22%2c%22hps%22%3afalse%2c%22iqp%22%3atrue%7d%5d%7d', 'thumbnail': {'thumbnailUrl': 'https://tse1.mm.bing.net/th?q=Steve+Wozniak&pid=Api&mkt=nl-BE&adlt=moderate&t=1'}}, {'text': 'Larry Page', 'displayText': 'Larry Page', 'webSearchUrl': 'https://www.bing.com/images/search?q=Larry+Page&tq=%7b%22pq%22%3a%22Bill+Gates%22%2c%22qs%22%3a%5b%7b%22cv%22%3a%22Bill+Gates%22%2c%22pv%22%3a%22Bill+Gates%22%2c%22hps%22%3atrue%2c%22iqp%22%3afalse%7d%2c%7b%22cv%22%3a%22Larry+Page%22%2c%22pv%22%3a%22%22%2c%22hps%22%3afalse%2c%22iqp%22%3atrue%7d%5d%7d&FORM=IRQBPS', 'searchLink': 'https://api.bing.microsoft.com/api/v7/images/search?q=Larry+Page&tq=%7b%22pq%22%3a%22Bill+Gates%22%2c%22qs%22%3a%5b%7b%22cv%22%3a%22Bill+Gates%22%2c%22pv%22%3a%22Bill+Gates%22%2c%22hps%22%3atrue%2c%22iqp%22%3afalse%7d%2c%7b%22cv%22%3a%22Larry+Page%22%2c%22pv%22%3a%22%22%2c%22hps%22%3afalse%2c%22iqp%22%3atrue%7d%5d%7d', 'thumbnail': {'thumbnailUrl': 'https://tse4.mm.bing.net/th?q=Larry+Page&pid=Api&mkt=nl-BE&adlt=moderate&t=1'}}, {'text': 'Richard Branson', 'displayText': 'Richard Branson', 'webSearchUrl': 'https://www.bing.com/images/search?q=Richard+Branson&tq=%7b%22pq%22%3a%22Bill+Gates%22%2c%22qs%22%3a%5b%7b%22cv%22%3a%22Bill+Gates%22%2c%22pv%22%3a%22Bill+Gates%22%2c%22hps%22%3atrue%2c%22iqp%22%3afalse%7d%2c%7b%22cv%22%3a%22Richard+Branson%22%2c%22pv%22%3a%22%22%2c%22hps%22%3afalse%2c%22iqp%22%3atrue%7d%5d%7d&FORM=IRQBPS', 'searchLink': 'https://api.bing.microsoft.com/api/v7/images/search?q=Richard+Branson&tq=%7b%22pq%22%3a%22Bill+Gates%22%2c%22qs%22%3a%5b%7b%22cv%22%3a%22Bill+Gates%22%2c%22pv%22%3a%22Bill+Gates%22%2c%22hps%22%3atrue%2c%22iqp%22%3afalse%7d%2c%7b%22cv%22%3a%22Richard+Branson%22%2c%22pv%22%3a%22%22%2c%22hps%22%3afalse%2c%22iqp%22%3atrue%7d%5d%7d', 'thumbnail': {'thumbnailUrl': 'https://tse1.mm.bing.net/th?q=Richard+Branson&pid=Api&mkt=nl-BE&adlt=moderate&t=1'}}, {'text': 'Donald Trump', 'displayText': 'Donald Trump', 'webSearchUrl': 'https://www.bing.com/images/search?q=Donald+Trump&tq=%7b%22pq%22%3a%22Bill+Gates%22%2c%22qs%22%3a%5b%7b%22cv%22%3a%22Bill+Gates%22%2c%22pv%22%3a%22Bill+Gates%22%2c%22hps%22%3atrue%2c%22iqp%22%3afalse%7d%2c%7b%22cv%22%3a%22Donald+Trump%22%2c%22pv%22%3a%22%22%2c%22hps%22%3afalse%2c%22iqp%22%3atrue%7d%5d%7d&FORM=IRQBPS', 'searchLink': 'https://api.bing.microsoft.com/api/v7/images/search?q=Donald+Trump&tq=%7b%22pq%22%3a%22Bill+Gates%22%2c%22qs%22%3a%5b%7b%22cv%22%3a%22Bill+Gates%22%2c%22pv%22%3a%22Bill+Gates%22%2c%22hps%22%3atrue%2c%22iqp%22%3afalse%7d%2c%7b%22cv%22%3a%22Donald+Trump%22%2c%22pv%22%3a%22%22%2c%22hps%22%3afalse%2c%22iqp%22%3atrue%7d%5d%7d', 'thumbnail': {'thumbnailUrl': 'https://tse3.mm.bing.net/th?q=Donald+Trump&pid=Api&mkt=nl-BE&adlt=moderate&t=1'}}, {'text': 'Barack Obama', 'displayText': 'Barack Obama', 'webSearchUrl': 'https://www.bing.com/images/search?q=Barack+Obama&tq=%7b%22pq%22%3a%22Bill+Gates%22%2c%22qs%22%3a%5b%7b%22cv%22%3a%22Bill+Gates%22%2c%22pv%22%3a%22Bill+Gates%22%2c%22hps%22%3atrue%2c%22iqp%22%3afalse%7d%2c%7b%22cv%22%3a%22Barack+Obama%22%2c%22pv%22%3a%22%22%2c%22hps%22%3afalse%2c%22iqp%22%3atrue%7d%5d%7d&FORM=IRQBPS', 'searchLink': 'https://api.bing.microsoft.com/api/v7/images/search?q=Barack+Obama&tq=%7b%22pq%22%3a%22Bill+Gates%22%2c%22qs%22%3a%5b%7b%22cv%22%3a%22Bill+Gates%22%2c%22pv%22%3a%22Bill+Gates%22%2c%22hps%22%3atrue%2c%22iqp%22%3afalse%7d%2c%7b%22cv%22%3a%22Barack+Obama%22%2c%22pv%22%3a%22%22%2c%22hps%22%3afalse%2c%22iqp%22%3atrue%7d%5d%7d', 'thumbnail': {'thumbnailUrl': 'https://tse3.mm.bing.net/th?q=Barack+Obama&pid=Api&mkt=nl-BE&adlt=moderate&t=1'}}, {'text': 'Oprah Winfrey', 'displayText': 'Oprah Winfrey', 'webSearchUrl': 'https://www.bing.com/images/search?q=Oprah+Winfrey&tq=%7b%22pq%22%3a%22Bill+Gates%22%2c%22qs%22%3a%5b%7b%22cv%22%3a%22Bill+Gates%22%2c%22pv%22%3a%22Bill+Gates%22%2c%22hps%22%3atrue%2c%22iqp%22%3afalse%7d%2c%7b%22cv%22%3a%22Oprah+Winfrey%22%2c%22pv%22%3a%22%22%2c%22hps%22%3afalse%2c%22iqp%22%3atrue%7d%5d%7d&FORM=IRQBPS', 'searchLink': 'https://api.bing.microsoft.com/api/v7/images/search?q=Oprah+Winfrey&tq=%7b%22pq%22%3a%22Bill+Gates%22%2c%22qs%22%3a%5b%7b%22cv%22%3a%22Bill+Gates%22%2c%22pv%22%3a%22Bill+Gates%22%2c%22hps%22%3atrue%2c%22iqp%22%3afalse%7d%2c%7b%22cv%22%3a%22Oprah+Winfrey%22%2c%22pv%22%3a%22%22%2c%22hps%22%3afalse%2c%22iqp%22%3atrue%7d%5d%7d', 'thumbnail': {'thumbnailUrl': 'https://tse1.mm.bing.net/th?q=Oprah+Winfrey&pid=Api&mkt=nl-BE&adlt=moderate&t=1'}}, {'text': 'Lisa Brennan-Jobs', 'displayText': 'Lisa Brennan-Jobs', 'webSearchUrl': 'https://www.bing.com/images/search?q=Lisa+Brennan-Jobs&tq=%7b%22pq%22%3a%22Bill+Gates%22%2c%22qs%22%3a%5b%7b%22cv%22%3a%22Bill+Gates%22%2c%22pv%22%3a%22Bill+Gates%22%2c%22hps%22%3atrue%2c%22iqp%22%3afalse%7d%2c%7b%22cv%22%3a%22Lisa+Brennan-Jobs%22%2c%22pv%22%3a%22%22%2c%22hps%22%3afalse%2c%22iqp%22%3atrue%7d%5d%7d&FORM=IRQBPS', 'searchLink': 'https://api.bing.microsoft.com/api/v7/images/search?q=Lisa+Brennan-Jobs&tq=%7b%22pq%22%3a%22Bill+Gates%22%2c%22qs%22%3a%5b%7b%22cv%22%3a%22Bill+Gates%22%2c%22pv%22%3a%22Bill+Gates%22%2c%22hps%22%3atrue%2c%22iqp%22%3afalse%7d%2c%7b%22cv%22%3a%22Lisa+Brennan-Jobs%22%2c%22pv%22%3a%22%22%2c%22hps%22%3afalse%2c%22iqp%22%3atrue%7d%5d%7d', 'thumbnail': {'thumbnailUrl': 'https://tse1.mm.bing.net/th?q=Lisa+Brennan-Jobs&pid=Api&mkt=nl-BE&adlt=moderate&t=1'}}, {'text': 'Tim Cook', 'displayText': 'Tim Cook', 'webSearchUrl': 'https://www.bing.com/images/search?q=Tim+Cook&tq=%7b%22pq%22%3a%22Bill+Gates%22%2c%22qs%22%3a%5b%7b%22cv%22%3a%22Bill+Gates%22%2c%22pv%22%3a%22Bill+Gates%22%2c%22hps%22%3atrue%2c%22iqp%22%3afalse%7d%2c%7b%22cv%22%3a%22Tim+Cook%22%2c%22pv%22%3a%22%22%2c%22hps%22%3afalse%2c%22iqp%22%3atrue%7d%5d%7d&FORM=IRQBPS', 'searchLink': 'https://api.bing.microsoft.com/api/v7/images/search?q=Tim+Cook&tq=%7b%22pq%22%3a%22Bill+Gates%22%2c%22qs%22%3a%5b%7b%22cv%22%3a%22Bill+Gates%22%2c%22pv%22%3a%22Bill+Gates%22%2c%22hps%22%3atrue%2c%22iqp%22%3afalse%7d%2c%7b%22cv%22%3a%22Tim+Cook%22%2c%22pv%22%3a%22%22%2c%22hps%22%3afalse%2c%22iqp%22%3atrue%7d%5d%7d', 'thumbnail': {'thumbnailUrl': 'https://tse1.mm.bing.net/th?q=Tim+Cook&pid=Api&mkt=nl-BE&adlt=moderate&t=1'}}, {'text': 'Stephen Hawking', 'displayText': 'Stephen Hawking', 'webSearchUrl': 'https://www.bing.com/images/search?q=Stephen+Hawking&tq=%7b%22pq%22%3a%22Bill+Gates%22%2c%22qs%22%3a%5b%7b%22cv%22%3a%22Bill+Gates%22%2c%22pv%22%3a%22Bill+Gates%22%2c%22hps%22%3atrue%2c%22iqp%22%3afalse%7d%2c%7b%22cv%22%3a%22Stephen+Hawking%22%2c%22pv%22%3a%22%22%2c%22hps%22%3afalse%2c%22iqp%22%3atrue%7d%5d%7d&FORM=IRQBPS', 'searchLink': 'https://api.bing.microsoft.com/api/v7/images/search?q=Stephen+Hawking&tq=%7b%22pq%22%3a%22Bill+Gates%22%2c%22qs%22%3a%5b%7b%22cv%22%3a%22Bill+Gates%22%2c%22pv%22%3a%22Bill+Gates%22%2c%22hps%22%3atrue%2c%22iqp%22%3afalse%7d%2c%7b%22cv%22%3a%22Stephen+Hawking%22%2c%22pv%22%3a%22%22%2c%22hps%22%3afalse%2c%22iqp%22%3atrue%7d%5d%7d', 'thumbnail': {'thumbnailUrl': 'https://tse1.mm.bing.net/th?q=Stephen+Hawking&pid=Api&mkt=nl-BE&adlt=moderate&t=1'}}, {'text': 'Walt Disney', 'displayText': 'Walt Disney', 'webSearchUrl': 'https://www.bing.com/images/search?q=Walt+Disney&tq=%7b%22pq%22%3a%22Bill+Gates%22%2c%22qs%22%3a%5b%7b%22cv%22%3a%22Bill+Gates%22%2c%22pv%22%3a%22Bill+Gates%22%2c%22hps%22%3atrue%2c%22iqp%22%3afalse%7d%2c%7b%22cv%22%3a%22Walt+Disney%22%2c%22pv%22%3a%22%22%2c%22hps%22%3afalse%2c%22iqp%22%3atrue%7d%5d%7d&FORM=IRQBPS', 'searchLink': 'https://api.bing.microsoft.com/api/v7/images/search?q=Walt+Disney&tq=%7b%22pq%22%3a%22Bill+Gates%22%2c%22qs%22%3a%5b%7b%22cv%22%3a%22Bill+Gates%22%2c%22pv%22%3a%22Bill+Gates%22%2c%22hps%22%3atrue%2c%22iqp%22%3afalse%7d%2c%7b%22cv%22%3a%22Walt+Disney%22%2c%22pv%22%3a%22%22%2c%22hps%22%3afalse%2c%22iqp%22%3atrue%7d%5d%7d', 'thumbnail': {'thumbnailUrl': 'https://tse3.mm.bing.net/th?q=Walt+Disney&pid=Api&mkt=nl-BE&adlt=moderate&t=1'}}, {'text': 'Microsoft', 'displayText': 'Microsoft', 'webSearchUrl': 'https://www.bing.com/images/search?q=Microsoft&tq=%7b%22pq%22%3a%22Bill+Gates%22%2c%22qs%22%3a%5b%7b%22cv%22%3a%22Bill+Gates%22%2c%22pv%22%3a%22Bill+Gates%22%2c%22hps%22%3atrue%2c%22iqp%22%3afalse%7d%2c%7b%22cv%22%3a%22Microsoft%22%2c%22pv%22%3a%22%22%2c%22hps%22%3afalse%2c%22iqp%22%3atrue%7d%5d%7d&FORM=IRQBPS', 'searchLink': 'https://api.bing.microsoft.com/api/v7/images/search?q=Microsoft&tq=%7b%22pq%22%3a%22Bill+Gates%22%2c%22qs%22%3a%5b%7b%22cv%22%3a%22Bill+Gates%22%2c%22pv%22%3a%22Bill+Gates%22%2c%22hps%22%3atrue%2c%22iqp%22%3afalse%7d%2c%7b%22cv%22%3a%22Microsoft%22%2c%22pv%22%3a%22%22%2c%22hps%22%3afalse%2c%22iqp%22%3atrue%7d%5d%7d', 'thumbnail': {'thumbnailUrl': 'https://tse3.mm.bing.net/th?q=Microsoft&pid=Api&mkt=nl-BE&adlt=moderate&t=1'}}]}]\n",
      "relatedSearches       : [{'text': 'Bill Gates Cartoon', 'displayText': 'Bill Gates Cartoon', 'webSearchUrl': 'https://www.bing.com/images/search?q=Bill+Gates+Cartoon&FORM=IRPATC', 'searchLink': 'https://api.bing.microsoft.com/api/v7/images/search?q=Bill+Gates+Cartoon', 'thumbnail': {'thumbnailUrl': 'https://tse2.mm.bing.net/th?q=Bill+Gates+Cartoon&pid=Api&mkt=nl-BE&adlt=moderate&t=1'}}, {'text': 'Bill Gates House', 'displayText': 'Bill Gates House', 'webSearchUrl': 'https://www.bing.com/images/search?q=Bill+Gates+House&FORM=IRPATC', 'searchLink': 'https://api.bing.microsoft.com/api/v7/images/search?q=Bill+Gates+House', 'thumbnail': {'thumbnailUrl': 'https://tse4.mm.bing.net/th?q=Bill+Gates+House&pid=Api&mkt=nl-BE&adlt=moderate&t=1'}}, {'text': 'Bill Gates Melinda', 'displayText': 'Bill Gates Melinda', 'webSearchUrl': 'https://www.bing.com/images/search?q=Bill+Gates+Melinda&FORM=IRPATC', 'searchLink': 'https://api.bing.microsoft.com/api/v7/images/search?q=Bill+Gates+Melinda', 'thumbnail': {'thumbnailUrl': 'https://tse4.mm.bing.net/th?q=Bill+Gates+Melinda&pid=Api&mkt=nl-BE&adlt=moderate&t=1'}}, {'text': 'Bill Gates Vaccin', 'displayText': 'Bill Gates Vaccin', 'webSearchUrl': 'https://www.bing.com/images/search?q=Bill+Gates+Vaccin&FORM=IRPATC', 'searchLink': 'https://api.bing.microsoft.com/api/v7/images/search?q=Bill+Gates+Vaccin', 'thumbnail': {'thumbnailUrl': 'https://tse2.mm.bing.net/th?q=Bill+Gates+Vaccin&pid=Api&mkt=nl-BE&adlt=moderate&t=1'}}, {'text': 'Bill Gates Quotes', 'displayText': 'Bill Gates Quotes', 'webSearchUrl': 'https://www.bing.com/images/search?q=Bill+Gates+Quotes&FORM=IRPATC', 'searchLink': 'https://api.bing.microsoft.com/api/v7/images/search?q=Bill+Gates+Quotes', 'thumbnail': {'thumbnailUrl': 'https://tse1.mm.bing.net/th?q=Bill+Gates+Quotes&pid=Api&mkt=nl-BE&adlt=moderate&t=1'}}, {'text': 'Huis Bill Gates', 'displayText': 'Huis Bill Gates', 'webSearchUrl': 'https://www.bing.com/images/search?q=Huis+Bill+Gates&FORM=IRPATC', 'searchLink': 'https://api.bing.microsoft.com/api/v7/images/search?q=Huis+Bill+Gates', 'thumbnail': {'thumbnailUrl': 'https://tse3.mm.bing.net/th?q=Huis+Bill+Gates&pid=Api&mkt=nl-BE&adlt=moderate&t=1'}}, {'text': 'Work of Bill Gates', 'displayText': 'Work of Bill Gates', 'webSearchUrl': 'https://www.bing.com/images/search?q=Work+of+Bill+Gates&FORM=IRPATC', 'searchLink': 'https://api.bing.microsoft.com/api/v7/images/search?q=Work+of+Bill+Gates', 'thumbnail': {'thumbnailUrl': 'https://tse2.mm.bing.net/th?q=Work+of+Bill+Gates&pid=Api&mkt=nl-BE&adlt=moderate&t=1'}}, {'text': 'Bill Gates Kinderen', 'displayText': 'Bill Gates Kinderen', 'webSearchUrl': 'https://www.bing.com/images/search?q=Bill+Gates+Kinderen&FORM=IRPATC', 'searchLink': 'https://api.bing.microsoft.com/api/v7/images/search?q=Bill+Gates+Kinderen', 'thumbnail': {'thumbnailUrl': 'https://tse2.mm.bing.net/th?q=Bill+Gates+Kinderen&pid=Api&mkt=nl-BE&adlt=moderate&t=1'}}, {'text': 'Bill Gates Foundation', 'displayText': 'Bill Gates Foundation', 'webSearchUrl': 'https://www.bing.com/images/search?q=Bill+Gates+Foundation&FORM=IRPATC', 'searchLink': 'https://api.bing.microsoft.com/api/v7/images/search?q=Bill+Gates+Foundation', 'thumbnail': {'thumbnailUrl': 'https://tse1.mm.bing.net/th?q=Bill+Gates+Foundation&pid=Api&mkt=nl-BE&adlt=moderate&t=1'}}, {'text': 'Bill Gates Corona', 'displayText': 'Bill Gates Corona', 'webSearchUrl': 'https://www.bing.com/images/search?q=Bill+Gates+Corona&FORM=IRPATC', 'searchLink': 'https://api.bing.microsoft.com/api/v7/images/search?q=Bill+Gates+Corona', 'thumbnail': {'thumbnailUrl': 'https://tse4.mm.bing.net/th?q=Bill+Gates+Corona&pid=Api&mkt=nl-BE&adlt=moderate&t=1'}}, {'text': 'Bill Gates Inspiration', 'displayText': 'Bill Gates Inspiration', 'webSearchUrl': 'https://www.bing.com/images/search?q=Bill+Gates+Inspiration&FORM=IRPATC', 'searchLink': 'https://api.bing.microsoft.com/api/v7/images/search?q=Bill+Gates+Inspiration', 'thumbnail': {'thumbnailUrl': 'https://tse2.mm.bing.net/th?q=Bill+Gates+Inspiration&pid=Api&mkt=nl-BE&adlt=moderate&t=1'}}, {'text': 'Bill Gates with Mask', 'displayText': 'Bill Gates with Mask', 'webSearchUrl': 'https://www.bing.com/images/search?q=Bill+Gates+with+Mask&FORM=IRPATC', 'searchLink': 'https://api.bing.microsoft.com/api/v7/images/search?q=Bill+Gates+with+Mask', 'thumbnail': {'thumbnailUrl': 'https://tse2.mm.bing.net/th?q=Bill+Gates+with+Mask&pid=Api&mkt=nl-BE&adlt=moderate&t=1'}}, {'text': 'Bill Gates Car', 'displayText': 'Bill Gates Car', 'webSearchUrl': 'https://www.bing.com/images/search?q=Bill+Gates+Car&FORM=IRPATC', 'searchLink': 'https://api.bing.microsoft.com/api/v7/images/search?q=Bill+Gates+Car', 'thumbnail': {'thumbnailUrl': 'https://tse2.mm.bing.net/th?q=Bill+Gates+Car&pid=Api&mkt=nl-BE&adlt=moderate&t=1'}}, {'text': 'Bill Gates PNG', 'displayText': 'Bill Gates PNG', 'webSearchUrl': 'https://www.bing.com/images/search?q=Bill+Gates+PNG&FORM=IRPATC', 'searchLink': 'https://api.bing.microsoft.com/api/v7/images/search?q=Bill+Gates+PNG', 'thumbnail': {'thumbnailUrl': 'https://tse1.mm.bing.net/th?q=Bill+Gates+PNG&pid=Api&mkt=nl-BE&adlt=moderate&t=1'}}, {'text': 'Bill Gates Animation', 'displayText': 'Bill Gates Animation', 'webSearchUrl': 'https://www.bing.com/images/search?q=Bill+Gates+Animation&FORM=IRPATC', 'searchLink': 'https://api.bing.microsoft.com/api/v7/images/search?q=Bill+Gates+Animation', 'thumbnail': {'thumbnailUrl': 'https://tse2.mm.bing.net/th?q=Bill+Gates+Animation&pid=Api&mkt=nl-BE&adlt=moderate&t=1'}}, {'text': 'Foto Bill Gates', 'displayText': 'Foto Bill Gates', 'webSearchUrl': 'https://www.bing.com/images/search?q=Foto+Bill+Gates&FORM=IRPATC', 'searchLink': 'https://api.bing.microsoft.com/api/v7/images/search?q=Foto+Bill+Gates', 'thumbnail': {'thumbnailUrl': 'https://tse2.mm.bing.net/th?q=Foto+Bill+Gates&pid=Api&mkt=nl-BE&adlt=moderate&t=1'}}, {'text': 'Huis Van Bill Gates', 'displayText': 'Huis Van Bill Gates', 'webSearchUrl': 'https://www.bing.com/images/search?q=Huis+Van+Bill+Gates&FORM=IRPATC', 'searchLink': 'https://api.bing.microsoft.com/api/v7/images/search?q=Huis+Van+Bill+Gates', 'thumbnail': {'thumbnailUrl': 'https://tse4.mm.bing.net/th?q=Huis+Van+Bill+Gates&pid=Api&mkt=nl-BE&adlt=moderate&t=1'}}, {'text': 'Bill Gates Thoughts', 'displayText': 'Bill Gates Thoughts', 'webSearchUrl': 'https://www.bing.com/images/search?q=Bill+Gates+Thoughts&FORM=IRPATC', 'searchLink': 'https://api.bing.microsoft.com/api/v7/images/search?q=Bill+Gates+Thoughts', 'thumbnail': {'thumbnailUrl': 'https://tse4.mm.bing.net/th?q=Bill+Gates+Thoughts&pid=Api&mkt=nl-BE&adlt=moderate&t=1'}}, {'text': 'Bill Gates Microchip', 'displayText': 'Bill Gates Microchip', 'webSearchUrl': 'https://www.bing.com/images/search?q=Bill+Gates+Microchip&FORM=IRPATC', 'searchLink': 'https://api.bing.microsoft.com/api/v7/images/search?q=Bill+Gates+Microchip', 'thumbnail': {'thumbnailUrl': 'https://tse2.mm.bing.net/th?q=Bill+Gates+Microchip&pid=Api&mkt=nl-BE&adlt=moderate&t=1'}}, {'text': 'Bill Gates Books', 'displayText': 'Bill Gates Books', 'webSearchUrl': 'https://www.bing.com/images/search?q=Bill+Gates+Books&FORM=IRPATC', 'searchLink': 'https://api.bing.microsoft.com/api/v7/images/search?q=Bill+Gates+Books', 'thumbnail': {'thumbnailUrl': 'https://tse4.mm.bing.net/th?q=Bill+Gates+Books&pid=Api&mkt=nl-BE&adlt=moderate&t=1'}}, {'text': 'Bill Gates Office', 'displayText': 'Bill Gates Office', 'webSearchUrl': 'https://www.bing.com/images/search?q=Bill+Gates+Office&FORM=IRPATC', 'searchLink': 'https://api.bing.microsoft.com/api/v7/images/search?q=Bill+Gates+Office', 'thumbnail': {'thumbnailUrl': 'https://tse4.mm.bing.net/th?q=Bill+Gates+Office&pid=Api&mkt=nl-BE&adlt=moderate&t=1'}}, {'text': 'Bill Gates Infographic', 'displayText': 'Bill Gates Infographic', 'webSearchUrl': 'https://www.bing.com/images/search?q=Bill+Gates+Infographic&FORM=IRPATC', 'searchLink': 'https://api.bing.microsoft.com/api/v7/images/search?q=Bill+Gates+Infographic', 'thumbnail': {'thumbnailUrl': 'https://tse4.mm.bing.net/th?q=Bill+Gates+Infographic&pid=Api&mkt=nl-BE&adlt=moderate&t=1'}}, {'text': 'Bill Gates Reading', 'displayText': 'Bill Gates Reading', 'webSearchUrl': 'https://www.bing.com/images/search?q=Bill+Gates+Reading&FORM=IRPATC', 'searchLink': 'https://api.bing.microsoft.com/api/v7/images/search?q=Bill+Gates+Reading', 'thumbnail': {'thumbnailUrl': 'https://tse2.mm.bing.net/th?q=Bill+Gates+Reading&pid=Api&mkt=nl-BE&adlt=moderate&t=1'}}, {'text': 'Bill Gates Famous Quotes', 'displayText': 'Bill Gates Famous Quotes', 'webSearchUrl': 'https://www.bing.com/images/search?q=Bill+Gates+Famous+Quotes&FORM=IRPATC', 'searchLink': 'https://api.bing.microsoft.com/api/v7/images/search?q=Bill+Gates+Famous+Quotes', 'thumbnail': {'thumbnailUrl': 'https://tse2.mm.bing.net/th?q=Bill+Gates+Famous+Quotes&pid=Api&mkt=nl-BE&adlt=moderate&t=1'}}, {'text': 'Bill Gates Face', 'displayText': 'Bill Gates Face', 'webSearchUrl': 'https://www.bing.com/images/search?q=Bill+Gates+Face&FORM=IRPATC', 'searchLink': 'https://api.bing.microsoft.com/api/v7/images/search?q=Bill+Gates+Face', 'thumbnail': {'thumbnailUrl': 'https://tse1.mm.bing.net/th?q=Bill+Gates+Face&pid=Api&mkt=nl-BE&adlt=moderate&t=1'}}, {'text': 'Bill Gates Inside House', 'displayText': 'Bill Gates Inside House', 'webSearchUrl': 'https://www.bing.com/images/search?q=Bill+Gates+Inside+House&FORM=IRPATC', 'searchLink': 'https://api.bing.microsoft.com/api/v7/images/search?q=Bill+Gates+Inside+House', 'thumbnail': {'thumbnailUrl': 'https://tse2.mm.bing.net/th?q=Bill+Gates+Inside+House&pid=Api&mkt=nl-BE&adlt=moderate&t=1'}}, {'text': 'Bill Gates Memes', 'displayText': 'Bill Gates Memes', 'webSearchUrl': 'https://www.bing.com/images/search?q=Bill+Gates+Memes&FORM=IRPATC', 'searchLink': 'https://api.bing.microsoft.com/api/v7/images/search?q=Bill+Gates+Memes', 'thumbnail': {'thumbnailUrl': 'https://tse3.mm.bing.net/th?q=Bill+Gates+Memes&pid=Api&mkt=nl-BE&adlt=moderate&t=1'}}, {'text': 'Mark Rutte Bill Gates', 'displayText': 'Mark Rutte Bill Gates', 'webSearchUrl': 'https://www.bing.com/images/search?q=Mark+Rutte+Bill+Gates&FORM=IRPATC', 'searchLink': 'https://api.bing.microsoft.com/api/v7/images/search?q=Mark+Rutte+Bill+Gates', 'thumbnail': {'thumbnailUrl': 'https://tse1.mm.bing.net/th?q=Mark+Rutte+Bill+Gates&pid=Api&mkt=nl-BE&adlt=moderate&t=1'}}, {'text': 'Bill Gates Desk', 'displayText': 'Bill Gates Desk', 'webSearchUrl': 'https://www.bing.com/images/search?q=Bill+Gates+Desk&FORM=IRPATC', 'searchLink': 'https://api.bing.microsoft.com/api/v7/images/search?q=Bill+Gates+Desk', 'thumbnail': {'thumbnailUrl': 'https://tse1.mm.bing.net/th?q=Bill+Gates+Desk&pid=Api&mkt=nl-BE&adlt=moderate&t=1'}}, {'text': 'Bill Gates Money', 'displayText': 'Bill Gates Money', 'webSearchUrl': 'https://www.bing.com/images/search?q=Bill+Gates+Money&FORM=IRPATC', 'searchLink': 'https://api.bing.microsoft.com/api/v7/images/search?q=Bill+Gates+Money', 'thumbnail': {'thumbnailUrl': 'https://tse2.mm.bing.net/th?q=Bill+Gates+Money&pid=Api&mkt=nl-BE&adlt=moderate&t=1'}}]\n"
     ]
    }
   ],
   "source": [
    "img = search_image('Bill Gates')\n",
    "for k,v in img.items():\n",
    "  print(\"{:21s} : {}\".format(k, v))"
   ]
  },
  {
   "cell_type": "code",
   "execution_count": null,
   "metadata": {
    "id": "Ja4qMbOPRdHb"
   },
   "outputs": [],
   "source": []
  },
  {
   "cell_type": "markdown",
   "metadata": {
    "id": "Q4j26Z3xRd4J"
   },
   "source": [
    "### Query Explansions"
   ]
  },
  {
   "cell_type": "code",
   "execution_count": 85,
   "metadata": {
    "colab": {
     "base_uri": "https://localhost:8080/"
    },
    "executionInfo": {
     "elapsed": 550,
     "status": "ok",
     "timestamp": 1631907589540,
     "user": {
      "displayName": "Siddhartha Shanmuhavel",
      "photoUrl": "https://lh3.googleusercontent.com/a/default-user=s64",
      "userId": "05346328597111107310"
     },
     "user_tz": -60
    },
    "id": "7x0opsoKQ1jc",
    "outputId": "c33609c9-0c78-4ede-eb48-13800f38eaa6"
   },
   "outputs": [
    {
     "name": "stdout",
     "output_type": "stream",
     "text": [
      "text      : Bill Gates Cartoon\n",
      "displayText: Cartoon\n",
      "webSearchUrl: https://www.bing.com/images/search?q=Bill+Gates+Cartoon&tq=%7b%22pq%22%3a%22Bill+Gates%22%2c%22qs%22%3a%5b%7b%22cv%22%3a%22Bill+Gates%22%2c%22pv%22%3a%22Bill+Gates%22%2c%22hps%22%3atrue%2c%22iqp%22%3afalse%7d%2c%7b%22cv%22%3a%22Cartoon%22%2c%22pv%22%3a%22%22%2c%22hps%22%3afalse%2c%22iqp%22%3atrue%7d%5d%7d&FORM=IRPATC\n",
      "searchLink: https://api.bing.microsoft.com/api/v7/images/search?q=Bill+Gates+Cartoon&tq=%7b%22pq%22%3a%22Bill+Gates%22%2c%22qs%22%3a%5b%7b%22cv%22%3a%22Bill+Gates%22%2c%22pv%22%3a%22Bill+Gates%22%2c%22hps%22%3atrue%2c%22iqp%22%3afalse%7d%2c%7b%22cv%22%3a%22Cartoon%22%2c%22pv%22%3a%22%22%2c%22hps%22%3afalse%2c%22iqp%22%3atrue%7d%5d%7d\n",
      "thumbnail : {'thumbnailUrl': 'https://tse2.mm.bing.net/th?q=Bill+Gates+Cartoon&pid=Api&mkt=nl-BE&adlt=moderate&t=1'}\n",
      "-------------------------------------------------- \n",
      "\n",
      "text      : Bill Gates House\n",
      "displayText: House\n",
      "webSearchUrl: https://www.bing.com/images/search?q=Bill+Gates+House&tq=%7b%22pq%22%3a%22Bill+Gates%22%2c%22qs%22%3a%5b%7b%22cv%22%3a%22Bill+Gates%22%2c%22pv%22%3a%22Bill+Gates%22%2c%22hps%22%3atrue%2c%22iqp%22%3afalse%7d%2c%7b%22cv%22%3a%22House%22%2c%22pv%22%3a%22%22%2c%22hps%22%3afalse%2c%22iqp%22%3atrue%7d%5d%7d&FORM=IRPATC\n",
      "searchLink: https://api.bing.microsoft.com/api/v7/images/search?q=Bill+Gates+House&tq=%7b%22pq%22%3a%22Bill+Gates%22%2c%22qs%22%3a%5b%7b%22cv%22%3a%22Bill+Gates%22%2c%22pv%22%3a%22Bill+Gates%22%2c%22hps%22%3atrue%2c%22iqp%22%3afalse%7d%2c%7b%22cv%22%3a%22House%22%2c%22pv%22%3a%22%22%2c%22hps%22%3afalse%2c%22iqp%22%3atrue%7d%5d%7d\n",
      "thumbnail : {'thumbnailUrl': 'https://tse4.mm.bing.net/th?q=Bill+Gates+House&pid=Api&mkt=nl-BE&adlt=moderate&t=1'}\n",
      "-------------------------------------------------- \n",
      "\n",
      "text      : Bill Gates Quotes\n",
      "displayText: Quotes\n",
      "webSearchUrl: https://www.bing.com/images/search?q=Bill+Gates+Quotes&tq=%7b%22pq%22%3a%22Bill+Gates%22%2c%22qs%22%3a%5b%7b%22cv%22%3a%22Bill+Gates%22%2c%22pv%22%3a%22Bill+Gates%22%2c%22hps%22%3atrue%2c%22iqp%22%3afalse%7d%2c%7b%22cv%22%3a%22Quotes%22%2c%22pv%22%3a%22%22%2c%22hps%22%3afalse%2c%22iqp%22%3atrue%7d%5d%7d&FORM=IRPATC\n",
      "searchLink: https://api.bing.microsoft.com/api/v7/images/search?q=Bill+Gates+Quotes&tq=%7b%22pq%22%3a%22Bill+Gates%22%2c%22qs%22%3a%5b%7b%22cv%22%3a%22Bill+Gates%22%2c%22pv%22%3a%22Bill+Gates%22%2c%22hps%22%3atrue%2c%22iqp%22%3afalse%7d%2c%7b%22cv%22%3a%22Quotes%22%2c%22pv%22%3a%22%22%2c%22hps%22%3afalse%2c%22iqp%22%3atrue%7d%5d%7d\n",
      "thumbnail : {'thumbnailUrl': 'https://tse1.mm.bing.net/th?q=Bill+Gates+Quotes&pid=Api&mkt=nl-BE&adlt=moderate&t=1'}\n",
      "-------------------------------------------------- \n",
      "\n",
      "text      : Bill Gates Melinda\n",
      "displayText: Melinda\n",
      "webSearchUrl: https://www.bing.com/images/search?q=Bill+Gates+Melinda&tq=%7b%22pq%22%3a%22Bill+Gates%22%2c%22qs%22%3a%5b%7b%22cv%22%3a%22Bill+Gates%22%2c%22pv%22%3a%22Bill+Gates%22%2c%22hps%22%3atrue%2c%22iqp%22%3afalse%7d%2c%7b%22cv%22%3a%22Melinda%22%2c%22pv%22%3a%22%22%2c%22hps%22%3afalse%2c%22iqp%22%3atrue%7d%5d%7d&FORM=IRPATC\n",
      "searchLink: https://api.bing.microsoft.com/api/v7/images/search?q=Bill+Gates+Melinda&tq=%7b%22pq%22%3a%22Bill+Gates%22%2c%22qs%22%3a%5b%7b%22cv%22%3a%22Bill+Gates%22%2c%22pv%22%3a%22Bill+Gates%22%2c%22hps%22%3atrue%2c%22iqp%22%3afalse%7d%2c%7b%22cv%22%3a%22Melinda%22%2c%22pv%22%3a%22%22%2c%22hps%22%3afalse%2c%22iqp%22%3atrue%7d%5d%7d\n",
      "thumbnail : {'thumbnailUrl': 'https://tse4.mm.bing.net/th?q=Bill+Gates+Melinda&pid=Api&mkt=nl-BE&adlt=moderate&t=1'}\n",
      "-------------------------------------------------- \n",
      "\n",
      "text      : Bill Gates Vaccin\n",
      "displayText: Vaccin\n",
      "webSearchUrl: https://www.bing.com/images/search?q=Bill+Gates+Vaccin&tq=%7b%22pq%22%3a%22Bill+Gates%22%2c%22qs%22%3a%5b%7b%22cv%22%3a%22Bill+Gates%22%2c%22pv%22%3a%22Bill+Gates%22%2c%22hps%22%3atrue%2c%22iqp%22%3afalse%7d%2c%7b%22cv%22%3a%22Vaccin%22%2c%22pv%22%3a%22%22%2c%22hps%22%3afalse%2c%22iqp%22%3atrue%7d%5d%7d&FORM=IRPATC\n",
      "searchLink: https://api.bing.microsoft.com/api/v7/images/search?q=Bill+Gates+Vaccin&tq=%7b%22pq%22%3a%22Bill+Gates%22%2c%22qs%22%3a%5b%7b%22cv%22%3a%22Bill+Gates%22%2c%22pv%22%3a%22Bill+Gates%22%2c%22hps%22%3atrue%2c%22iqp%22%3afalse%7d%2c%7b%22cv%22%3a%22Vaccin%22%2c%22pv%22%3a%22%22%2c%22hps%22%3afalse%2c%22iqp%22%3atrue%7d%5d%7d\n",
      "thumbnail : {'thumbnailUrl': 'https://tse2.mm.bing.net/th?q=Bill+Gates+Vaccin&pid=Api&mkt=nl-BE&adlt=moderate&t=1'}\n",
      "-------------------------------------------------- \n",
      "\n",
      "text      : Huis Bill Gates\n",
      "displayText: Huis\n",
      "webSearchUrl: https://www.bing.com/images/search?q=Huis+Bill+Gates&tq=%7b%22pq%22%3a%22Bill+Gates%22%2c%22qs%22%3a%5b%7b%22cv%22%3a%22Bill+Gates%22%2c%22pv%22%3a%22Bill+Gates%22%2c%22hps%22%3atrue%2c%22iqp%22%3afalse%7d%2c%7b%22cv%22%3a%22Huis%22%2c%22pv%22%3a%22%22%2c%22hps%22%3afalse%2c%22iqp%22%3atrue%7d%5d%7d&FORM=IRPATC\n",
      "searchLink: https://api.bing.microsoft.com/api/v7/images/search?q=Huis+Bill+Gates&tq=%7b%22pq%22%3a%22Bill+Gates%22%2c%22qs%22%3a%5b%7b%22cv%22%3a%22Bill+Gates%22%2c%22pv%22%3a%22Bill+Gates%22%2c%22hps%22%3atrue%2c%22iqp%22%3afalse%7d%2c%7b%22cv%22%3a%22Huis%22%2c%22pv%22%3a%22%22%2c%22hps%22%3afalse%2c%22iqp%22%3atrue%7d%5d%7d\n",
      "thumbnail : {'thumbnailUrl': 'https://tse3.mm.bing.net/th?q=Huis+Bill+Gates&pid=Api&mkt=nl-BE&adlt=moderate&t=1'}\n",
      "-------------------------------------------------- \n",
      "\n",
      "text      : Bill Gates Books\n",
      "displayText: Books\n",
      "webSearchUrl: https://www.bing.com/images/search?q=Bill+Gates+Books&tq=%7b%22pq%22%3a%22Bill+Gates%22%2c%22qs%22%3a%5b%7b%22cv%22%3a%22Bill+Gates%22%2c%22pv%22%3a%22Bill+Gates%22%2c%22hps%22%3atrue%2c%22iqp%22%3afalse%7d%2c%7b%22cv%22%3a%22Books%22%2c%22pv%22%3a%22%22%2c%22hps%22%3afalse%2c%22iqp%22%3atrue%7d%5d%7d&FORM=IRPATC\n",
      "searchLink: https://api.bing.microsoft.com/api/v7/images/search?q=Bill+Gates+Books&tq=%7b%22pq%22%3a%22Bill+Gates%22%2c%22qs%22%3a%5b%7b%22cv%22%3a%22Bill+Gates%22%2c%22pv%22%3a%22Bill+Gates%22%2c%22hps%22%3atrue%2c%22iqp%22%3afalse%7d%2c%7b%22cv%22%3a%22Books%22%2c%22pv%22%3a%22%22%2c%22hps%22%3afalse%2c%22iqp%22%3atrue%7d%5d%7d\n",
      "thumbnail : {'thumbnailUrl': 'https://tse4.mm.bing.net/th?q=Bill+Gates+Books&pid=Api&mkt=nl-BE&adlt=moderate&t=1'}\n",
      "-------------------------------------------------- \n",
      "\n",
      "text      : Bill Gates Foundation\n",
      "displayText: Foundation\n",
      "webSearchUrl: https://www.bing.com/images/search?q=Bill+Gates+Foundation&tq=%7b%22pq%22%3a%22Bill+Gates%22%2c%22qs%22%3a%5b%7b%22cv%22%3a%22Bill+Gates%22%2c%22pv%22%3a%22Bill+Gates%22%2c%22hps%22%3atrue%2c%22iqp%22%3afalse%7d%2c%7b%22cv%22%3a%22Foundation%22%2c%22pv%22%3a%22%22%2c%22hps%22%3afalse%2c%22iqp%22%3atrue%7d%5d%7d&FORM=IRPATC\n",
      "searchLink: https://api.bing.microsoft.com/api/v7/images/search?q=Bill+Gates+Foundation&tq=%7b%22pq%22%3a%22Bill+Gates%22%2c%22qs%22%3a%5b%7b%22cv%22%3a%22Bill+Gates%22%2c%22pv%22%3a%22Bill+Gates%22%2c%22hps%22%3atrue%2c%22iqp%22%3afalse%7d%2c%7b%22cv%22%3a%22Foundation%22%2c%22pv%22%3a%22%22%2c%22hps%22%3afalse%2c%22iqp%22%3atrue%7d%5d%7d\n",
      "thumbnail : {'thumbnailUrl': 'https://tse1.mm.bing.net/th?q=Bill+Gates+Foundation&pid=Api&mkt=nl-BE&adlt=moderate&t=1'}\n",
      "-------------------------------------------------- \n",
      "\n",
      "text      : Work of Bill Gates\n",
      "displayText: Work\n",
      "webSearchUrl: https://www.bing.com/images/search?q=Work+of+Bill+Gates&tq=%7b%22pq%22%3a%22Bill+Gates%22%2c%22qs%22%3a%5b%7b%22cv%22%3a%22Bill+Gates%22%2c%22pv%22%3a%22Bill+Gates%22%2c%22hps%22%3atrue%2c%22iqp%22%3afalse%7d%2c%7b%22cv%22%3a%22Work%22%2c%22pv%22%3a%22%22%2c%22hps%22%3afalse%2c%22iqp%22%3atrue%7d%5d%7d&FORM=IRPATC\n",
      "searchLink: https://api.bing.microsoft.com/api/v7/images/search?q=Work+of+Bill+Gates&tq=%7b%22pq%22%3a%22Bill+Gates%22%2c%22qs%22%3a%5b%7b%22cv%22%3a%22Bill+Gates%22%2c%22pv%22%3a%22Bill+Gates%22%2c%22hps%22%3atrue%2c%22iqp%22%3afalse%7d%2c%7b%22cv%22%3a%22Work%22%2c%22pv%22%3a%22%22%2c%22hps%22%3afalse%2c%22iqp%22%3atrue%7d%5d%7d\n",
      "thumbnail : {'thumbnailUrl': 'https://tse2.mm.bing.net/th?q=Work+of+Bill+Gates&pid=Api&mkt=nl-BE&adlt=moderate&t=1'}\n",
      "-------------------------------------------------- \n",
      "\n",
      "text      : Bill Gates Kinderen\n",
      "displayText: Kinderen\n",
      "webSearchUrl: https://www.bing.com/images/search?q=Bill+Gates+Kinderen&tq=%7b%22pq%22%3a%22Bill+Gates%22%2c%22qs%22%3a%5b%7b%22cv%22%3a%22Bill+Gates%22%2c%22pv%22%3a%22Bill+Gates%22%2c%22hps%22%3atrue%2c%22iqp%22%3afalse%7d%2c%7b%22cv%22%3a%22Kinderen%22%2c%22pv%22%3a%22%22%2c%22hps%22%3afalse%2c%22iqp%22%3atrue%7d%5d%7d&FORM=IRPATC\n",
      "searchLink: https://api.bing.microsoft.com/api/v7/images/search?q=Bill+Gates+Kinderen&tq=%7b%22pq%22%3a%22Bill+Gates%22%2c%22qs%22%3a%5b%7b%22cv%22%3a%22Bill+Gates%22%2c%22pv%22%3a%22Bill+Gates%22%2c%22hps%22%3atrue%2c%22iqp%22%3afalse%7d%2c%7b%22cv%22%3a%22Kinderen%22%2c%22pv%22%3a%22%22%2c%22hps%22%3afalse%2c%22iqp%22%3atrue%7d%5d%7d\n",
      "thumbnail : {'thumbnailUrl': 'https://tse2.mm.bing.net/th?q=Bill+Gates+Kinderen&pid=Api&mkt=nl-BE&adlt=moderate&t=1'}\n",
      "-------------------------------------------------- \n",
      "\n"
     ]
    }
   ],
   "source": [
    "for qe in img['queryExpansions'][:10]:\n",
    "    for k,v in qe.items():\n",
    "      print('{:10s}: {}'.format(k,v))\n",
    "    print('-'*50, '\\n')"
   ]
  },
  {
   "cell_type": "code",
   "execution_count": null,
   "metadata": {
    "id": "09gflwicRvDk"
   },
   "outputs": [],
   "source": []
  },
  {
   "cell_type": "markdown",
   "metadata": {
    "id": "eVimEwFVRvK8"
   },
   "source": [
    "### Pivot Suggestions"
   ]
  },
  {
   "cell_type": "code",
   "execution_count": 87,
   "metadata": {
    "colab": {
     "base_uri": "https://localhost:8080/",
     "height": 36
    },
    "executionInfo": {
     "elapsed": 385,
     "status": "ok",
     "timestamp": 1631907641279,
     "user": {
      "displayName": "Siddhartha Shanmuhavel",
      "photoUrl": "https://lh3.googleusercontent.com/a/default-user=s64",
      "userId": "05346328597111107310"
     },
     "user_tz": -60
    },
    "id": "A-uyCyVpQ8Rr",
    "outputId": "3c463087-13ee-4666-c5bf-1d45115776b9"
   },
   "outputs": [
    {
     "data": {
      "application/vnd.google.colaboratory.intrinsic+json": {
       "type": "string"
      },
      "text/plain": [
       "'Bill Gates'"
      ]
     },
     "execution_count": 87,
     "metadata": {},
     "output_type": "execute_result"
    }
   ],
   "source": [
    "img['pivotSuggestions'][0]['pivot']"
   ]
  },
  {
   "cell_type": "code",
   "execution_count": 88,
   "metadata": {
    "colab": {
     "base_uri": "https://localhost:8080/"
    },
    "executionInfo": {
     "elapsed": 360,
     "status": "ok",
     "timestamp": 1631907648252,
     "user": {
      "displayName": "Siddhartha Shanmuhavel",
      "photoUrl": "https://lh3.googleusercontent.com/a/default-user=s64",
      "userId": "05346328597111107310"
     },
     "user_tz": -60
    },
    "id": "-xd3Pi19Rk_6",
    "outputId": "4bbc9491-14fb-4e87-832a-df028a1cb21c"
   },
   "outputs": [
    {
     "name": "stdout",
     "output_type": "stream",
     "text": [
      "text      : Steve Jobs\n",
      "displayText: Steve Jobs\n",
      "webSearchUrl: https://www.bing.com/images/search?q=Steve+Jobs&tq=%7b%22pq%22%3a%22Bill+Gates%22%2c%22qs%22%3a%5b%7b%22cv%22%3a%22Bill+Gates%22%2c%22pv%22%3a%22Bill+Gates%22%2c%22hps%22%3atrue%2c%22iqp%22%3afalse%7d%2c%7b%22cv%22%3a%22Steve+Jobs%22%2c%22pv%22%3a%22%22%2c%22hps%22%3afalse%2c%22iqp%22%3atrue%7d%5d%7d&FORM=IRQBPS\n",
      "searchLink: https://api.bing.microsoft.com/api/v7/images/search?q=Steve+Jobs&tq=%7b%22pq%22%3a%22Bill+Gates%22%2c%22qs%22%3a%5b%7b%22cv%22%3a%22Bill+Gates%22%2c%22pv%22%3a%22Bill+Gates%22%2c%22hps%22%3atrue%2c%22iqp%22%3afalse%7d%2c%7b%22cv%22%3a%22Steve+Jobs%22%2c%22pv%22%3a%22%22%2c%22hps%22%3afalse%2c%22iqp%22%3atrue%7d%5d%7d\n",
      "thumbnail : {'thumbnailUrl': 'https://tse4.mm.bing.net/th?q=Steve+Jobs&pid=Api&mkt=nl-BE&adlt=moderate&t=1'}\n",
      "-------------------------------------------------- \n",
      "\n",
      "text      : Melinda Gates\n",
      "displayText: Melinda Gates\n",
      "webSearchUrl: https://www.bing.com/images/search?q=Melinda+Gates&tq=%7b%22pq%22%3a%22Bill+Gates%22%2c%22qs%22%3a%5b%7b%22cv%22%3a%22Bill+Gates%22%2c%22pv%22%3a%22Bill+Gates%22%2c%22hps%22%3atrue%2c%22iqp%22%3afalse%7d%2c%7b%22cv%22%3a%22Melinda+Gates%22%2c%22pv%22%3a%22%22%2c%22hps%22%3afalse%2c%22iqp%22%3atrue%7d%5d%7d&FORM=IRQBPS\n",
      "searchLink: https://api.bing.microsoft.com/api/v7/images/search?q=Melinda+Gates&tq=%7b%22pq%22%3a%22Bill+Gates%22%2c%22qs%22%3a%5b%7b%22cv%22%3a%22Bill+Gates%22%2c%22pv%22%3a%22Bill+Gates%22%2c%22hps%22%3atrue%2c%22iqp%22%3afalse%7d%2c%7b%22cv%22%3a%22Melinda+Gates%22%2c%22pv%22%3a%22%22%2c%22hps%22%3afalse%2c%22iqp%22%3atrue%7d%5d%7d\n",
      "thumbnail : {'thumbnailUrl': 'https://tse1.mm.bing.net/th?q=Melinda+Gates&pid=Api&mkt=nl-BE&adlt=moderate&t=1'}\n",
      "-------------------------------------------------- \n",
      "\n",
      "text      : Paul Allen\n",
      "displayText: Paul Allen\n",
      "webSearchUrl: https://www.bing.com/images/search?q=Paul+Allen&tq=%7b%22pq%22%3a%22Bill+Gates%22%2c%22qs%22%3a%5b%7b%22cv%22%3a%22Bill+Gates%22%2c%22pv%22%3a%22Bill+Gates%22%2c%22hps%22%3atrue%2c%22iqp%22%3afalse%7d%2c%7b%22cv%22%3a%22Paul+Allen%22%2c%22pv%22%3a%22%22%2c%22hps%22%3afalse%2c%22iqp%22%3atrue%7d%5d%7d&FORM=IRQBPS\n",
      "searchLink: https://api.bing.microsoft.com/api/v7/images/search?q=Paul+Allen&tq=%7b%22pq%22%3a%22Bill+Gates%22%2c%22qs%22%3a%5b%7b%22cv%22%3a%22Bill+Gates%22%2c%22pv%22%3a%22Bill+Gates%22%2c%22hps%22%3atrue%2c%22iqp%22%3afalse%7d%2c%7b%22cv%22%3a%22Paul+Allen%22%2c%22pv%22%3a%22%22%2c%22hps%22%3afalse%2c%22iqp%22%3atrue%7d%5d%7d\n",
      "thumbnail : {'thumbnailUrl': 'https://tse1.mm.bing.net/th?q=Paul+Allen&pid=Api&mkt=nl-BE&adlt=moderate&t=1'}\n",
      "-------------------------------------------------- \n",
      "\n",
      "text      : Carlos Slim\n",
      "displayText: Carlos Slim\n",
      "webSearchUrl: https://www.bing.com/images/search?q=Carlos+Slim&tq=%7b%22pq%22%3a%22Bill+Gates%22%2c%22qs%22%3a%5b%7b%22cv%22%3a%22Bill+Gates%22%2c%22pv%22%3a%22Bill+Gates%22%2c%22hps%22%3atrue%2c%22iqp%22%3afalse%7d%2c%7b%22cv%22%3a%22Carlos+Slim%22%2c%22pv%22%3a%22%22%2c%22hps%22%3afalse%2c%22iqp%22%3atrue%7d%5d%7d&FORM=IRQBPS\n",
      "searchLink: https://api.bing.microsoft.com/api/v7/images/search?q=Carlos+Slim&tq=%7b%22pq%22%3a%22Bill+Gates%22%2c%22qs%22%3a%5b%7b%22cv%22%3a%22Bill+Gates%22%2c%22pv%22%3a%22Bill+Gates%22%2c%22hps%22%3atrue%2c%22iqp%22%3afalse%7d%2c%7b%22cv%22%3a%22Carlos+Slim%22%2c%22pv%22%3a%22%22%2c%22hps%22%3afalse%2c%22iqp%22%3atrue%7d%5d%7d\n",
      "thumbnail : {'thumbnailUrl': 'https://tse4.mm.bing.net/th?q=Carlos+Slim&pid=Api&mkt=nl-BE&adlt=moderate&t=1'}\n",
      "-------------------------------------------------- \n",
      "\n",
      "text      : Warren Buffett\n",
      "displayText: Warren Buffett\n",
      "webSearchUrl: https://www.bing.com/images/search?q=Warren+Buffett&tq=%7b%22pq%22%3a%22Bill+Gates%22%2c%22qs%22%3a%5b%7b%22cv%22%3a%22Bill+Gates%22%2c%22pv%22%3a%22Bill+Gates%22%2c%22hps%22%3atrue%2c%22iqp%22%3afalse%7d%2c%7b%22cv%22%3a%22Warren+Buffett%22%2c%22pv%22%3a%22%22%2c%22hps%22%3afalse%2c%22iqp%22%3atrue%7d%5d%7d&FORM=IRQBPS\n",
      "searchLink: https://api.bing.microsoft.com/api/v7/images/search?q=Warren+Buffett&tq=%7b%22pq%22%3a%22Bill+Gates%22%2c%22qs%22%3a%5b%7b%22cv%22%3a%22Bill+Gates%22%2c%22pv%22%3a%22Bill+Gates%22%2c%22hps%22%3atrue%2c%22iqp%22%3afalse%7d%2c%7b%22cv%22%3a%22Warren+Buffett%22%2c%22pv%22%3a%22%22%2c%22hps%22%3afalse%2c%22iqp%22%3atrue%7d%5d%7d\n",
      "thumbnail : {'thumbnailUrl': 'https://tse2.mm.bing.net/th?q=Warren+Buffett&pid=Api&mkt=nl-BE&adlt=moderate&t=1'}\n",
      "-------------------------------------------------- \n",
      "\n",
      "text      : Mark Zuckerberg\n",
      "displayText: Mark Zuckerberg\n",
      "webSearchUrl: https://www.bing.com/images/search?q=Mark+Zuckerberg&tq=%7b%22pq%22%3a%22Bill+Gates%22%2c%22qs%22%3a%5b%7b%22cv%22%3a%22Bill+Gates%22%2c%22pv%22%3a%22Bill+Gates%22%2c%22hps%22%3atrue%2c%22iqp%22%3afalse%7d%2c%7b%22cv%22%3a%22Mark+Zuckerberg%22%2c%22pv%22%3a%22%22%2c%22hps%22%3afalse%2c%22iqp%22%3atrue%7d%5d%7d&FORM=IRQBPS\n",
      "searchLink: https://api.bing.microsoft.com/api/v7/images/search?q=Mark+Zuckerberg&tq=%7b%22pq%22%3a%22Bill+Gates%22%2c%22qs%22%3a%5b%7b%22cv%22%3a%22Bill+Gates%22%2c%22pv%22%3a%22Bill+Gates%22%2c%22hps%22%3atrue%2c%22iqp%22%3afalse%7d%2c%7b%22cv%22%3a%22Mark+Zuckerberg%22%2c%22pv%22%3a%22%22%2c%22hps%22%3afalse%2c%22iqp%22%3atrue%7d%5d%7d\n",
      "thumbnail : {'thumbnailUrl': 'https://tse2.mm.bing.net/th?q=Mark+Zuckerberg&pid=Api&mkt=nl-BE&adlt=moderate&t=1'}\n",
      "-------------------------------------------------- \n",
      "\n",
      "text      : Steve Ballmer\n",
      "displayText: Steve Ballmer\n",
      "webSearchUrl: https://www.bing.com/images/search?q=Steve+Ballmer&tq=%7b%22pq%22%3a%22Bill+Gates%22%2c%22qs%22%3a%5b%7b%22cv%22%3a%22Bill+Gates%22%2c%22pv%22%3a%22Bill+Gates%22%2c%22hps%22%3atrue%2c%22iqp%22%3afalse%7d%2c%7b%22cv%22%3a%22Steve+Ballmer%22%2c%22pv%22%3a%22%22%2c%22hps%22%3afalse%2c%22iqp%22%3atrue%7d%5d%7d&FORM=IRQBPS\n",
      "searchLink: https://api.bing.microsoft.com/api/v7/images/search?q=Steve+Ballmer&tq=%7b%22pq%22%3a%22Bill+Gates%22%2c%22qs%22%3a%5b%7b%22cv%22%3a%22Bill+Gates%22%2c%22pv%22%3a%22Bill+Gates%22%2c%22hps%22%3atrue%2c%22iqp%22%3afalse%7d%2c%7b%22cv%22%3a%22Steve+Ballmer%22%2c%22pv%22%3a%22%22%2c%22hps%22%3afalse%2c%22iqp%22%3atrue%7d%5d%7d\n",
      "thumbnail : {'thumbnailUrl': 'https://tse3.mm.bing.net/th?q=Steve+Ballmer&pid=Api&mkt=nl-BE&adlt=moderate&t=1'}\n",
      "-------------------------------------------------- \n",
      "\n",
      "text      : Satya Nadella\n",
      "displayText: Satya Nadella\n",
      "webSearchUrl: https://www.bing.com/images/search?q=Satya+Nadella&tq=%7b%22pq%22%3a%22Bill+Gates%22%2c%22qs%22%3a%5b%7b%22cv%22%3a%22Bill+Gates%22%2c%22pv%22%3a%22Bill+Gates%22%2c%22hps%22%3atrue%2c%22iqp%22%3afalse%7d%2c%7b%22cv%22%3a%22Satya+Nadella%22%2c%22pv%22%3a%22%22%2c%22hps%22%3afalse%2c%22iqp%22%3atrue%7d%5d%7d&FORM=IRQBPS\n",
      "searchLink: https://api.bing.microsoft.com/api/v7/images/search?q=Satya+Nadella&tq=%7b%22pq%22%3a%22Bill+Gates%22%2c%22qs%22%3a%5b%7b%22cv%22%3a%22Bill+Gates%22%2c%22pv%22%3a%22Bill+Gates%22%2c%22hps%22%3atrue%2c%22iqp%22%3afalse%7d%2c%7b%22cv%22%3a%22Satya+Nadella%22%2c%22pv%22%3a%22%22%2c%22hps%22%3afalse%2c%22iqp%22%3atrue%7d%5d%7d\n",
      "thumbnail : {'thumbnailUrl': 'https://tse2.mm.bing.net/th?q=Satya+Nadella&pid=Api&mkt=nl-BE&adlt=moderate&t=1'}\n",
      "-------------------------------------------------- \n",
      "\n",
      "text      : Larry Ellison\n",
      "displayText: Larry Ellison\n",
      "webSearchUrl: https://www.bing.com/images/search?q=Larry+Ellison&tq=%7b%22pq%22%3a%22Bill+Gates%22%2c%22qs%22%3a%5b%7b%22cv%22%3a%22Bill+Gates%22%2c%22pv%22%3a%22Bill+Gates%22%2c%22hps%22%3atrue%2c%22iqp%22%3afalse%7d%2c%7b%22cv%22%3a%22Larry+Ellison%22%2c%22pv%22%3a%22%22%2c%22hps%22%3afalse%2c%22iqp%22%3atrue%7d%5d%7d&FORM=IRQBPS\n",
      "searchLink: https://api.bing.microsoft.com/api/v7/images/search?q=Larry+Ellison&tq=%7b%22pq%22%3a%22Bill+Gates%22%2c%22qs%22%3a%5b%7b%22cv%22%3a%22Bill+Gates%22%2c%22pv%22%3a%22Bill+Gates%22%2c%22hps%22%3atrue%2c%22iqp%22%3afalse%7d%2c%7b%22cv%22%3a%22Larry+Ellison%22%2c%22pv%22%3a%22%22%2c%22hps%22%3afalse%2c%22iqp%22%3atrue%7d%5d%7d\n",
      "thumbnail : {'thumbnailUrl': 'https://tse3.mm.bing.net/th?q=Larry+Ellison&pid=Api&mkt=nl-BE&adlt=moderate&t=1'}\n",
      "-------------------------------------------------- \n",
      "\n",
      "text      : Steve Wozniak\n",
      "displayText: Steve Wozniak\n",
      "webSearchUrl: https://www.bing.com/images/search?q=Steve+Wozniak&tq=%7b%22pq%22%3a%22Bill+Gates%22%2c%22qs%22%3a%5b%7b%22cv%22%3a%22Bill+Gates%22%2c%22pv%22%3a%22Bill+Gates%22%2c%22hps%22%3atrue%2c%22iqp%22%3afalse%7d%2c%7b%22cv%22%3a%22Steve+Wozniak%22%2c%22pv%22%3a%22%22%2c%22hps%22%3afalse%2c%22iqp%22%3atrue%7d%5d%7d&FORM=IRQBPS\n",
      "searchLink: https://api.bing.microsoft.com/api/v7/images/search?q=Steve+Wozniak&tq=%7b%22pq%22%3a%22Bill+Gates%22%2c%22qs%22%3a%5b%7b%22cv%22%3a%22Bill+Gates%22%2c%22pv%22%3a%22Bill+Gates%22%2c%22hps%22%3atrue%2c%22iqp%22%3afalse%7d%2c%7b%22cv%22%3a%22Steve+Wozniak%22%2c%22pv%22%3a%22%22%2c%22hps%22%3afalse%2c%22iqp%22%3atrue%7d%5d%7d\n",
      "thumbnail : {'thumbnailUrl': 'https://tse1.mm.bing.net/th?q=Steve+Wozniak&pid=Api&mkt=nl-BE&adlt=moderate&t=1'}\n",
      "-------------------------------------------------- \n",
      "\n",
      "text      : Larry Page\n",
      "displayText: Larry Page\n",
      "webSearchUrl: https://www.bing.com/images/search?q=Larry+Page&tq=%7b%22pq%22%3a%22Bill+Gates%22%2c%22qs%22%3a%5b%7b%22cv%22%3a%22Bill+Gates%22%2c%22pv%22%3a%22Bill+Gates%22%2c%22hps%22%3atrue%2c%22iqp%22%3afalse%7d%2c%7b%22cv%22%3a%22Larry+Page%22%2c%22pv%22%3a%22%22%2c%22hps%22%3afalse%2c%22iqp%22%3atrue%7d%5d%7d&FORM=IRQBPS\n",
      "searchLink: https://api.bing.microsoft.com/api/v7/images/search?q=Larry+Page&tq=%7b%22pq%22%3a%22Bill+Gates%22%2c%22qs%22%3a%5b%7b%22cv%22%3a%22Bill+Gates%22%2c%22pv%22%3a%22Bill+Gates%22%2c%22hps%22%3atrue%2c%22iqp%22%3afalse%7d%2c%7b%22cv%22%3a%22Larry+Page%22%2c%22pv%22%3a%22%22%2c%22hps%22%3afalse%2c%22iqp%22%3atrue%7d%5d%7d\n",
      "thumbnail : {'thumbnailUrl': 'https://tse4.mm.bing.net/th?q=Larry+Page&pid=Api&mkt=nl-BE&adlt=moderate&t=1'}\n",
      "-------------------------------------------------- \n",
      "\n",
      "text      : Richard Branson\n",
      "displayText: Richard Branson\n",
      "webSearchUrl: https://www.bing.com/images/search?q=Richard+Branson&tq=%7b%22pq%22%3a%22Bill+Gates%22%2c%22qs%22%3a%5b%7b%22cv%22%3a%22Bill+Gates%22%2c%22pv%22%3a%22Bill+Gates%22%2c%22hps%22%3atrue%2c%22iqp%22%3afalse%7d%2c%7b%22cv%22%3a%22Richard+Branson%22%2c%22pv%22%3a%22%22%2c%22hps%22%3afalse%2c%22iqp%22%3atrue%7d%5d%7d&FORM=IRQBPS\n",
      "searchLink: https://api.bing.microsoft.com/api/v7/images/search?q=Richard+Branson&tq=%7b%22pq%22%3a%22Bill+Gates%22%2c%22qs%22%3a%5b%7b%22cv%22%3a%22Bill+Gates%22%2c%22pv%22%3a%22Bill+Gates%22%2c%22hps%22%3atrue%2c%22iqp%22%3afalse%7d%2c%7b%22cv%22%3a%22Richard+Branson%22%2c%22pv%22%3a%22%22%2c%22hps%22%3afalse%2c%22iqp%22%3atrue%7d%5d%7d\n",
      "thumbnail : {'thumbnailUrl': 'https://tse1.mm.bing.net/th?q=Richard+Branson&pid=Api&mkt=nl-BE&adlt=moderate&t=1'}\n",
      "-------------------------------------------------- \n",
      "\n",
      "text      : Donald Trump\n",
      "displayText: Donald Trump\n",
      "webSearchUrl: https://www.bing.com/images/search?q=Donald+Trump&tq=%7b%22pq%22%3a%22Bill+Gates%22%2c%22qs%22%3a%5b%7b%22cv%22%3a%22Bill+Gates%22%2c%22pv%22%3a%22Bill+Gates%22%2c%22hps%22%3atrue%2c%22iqp%22%3afalse%7d%2c%7b%22cv%22%3a%22Donald+Trump%22%2c%22pv%22%3a%22%22%2c%22hps%22%3afalse%2c%22iqp%22%3atrue%7d%5d%7d&FORM=IRQBPS\n",
      "searchLink: https://api.bing.microsoft.com/api/v7/images/search?q=Donald+Trump&tq=%7b%22pq%22%3a%22Bill+Gates%22%2c%22qs%22%3a%5b%7b%22cv%22%3a%22Bill+Gates%22%2c%22pv%22%3a%22Bill+Gates%22%2c%22hps%22%3atrue%2c%22iqp%22%3afalse%7d%2c%7b%22cv%22%3a%22Donald+Trump%22%2c%22pv%22%3a%22%22%2c%22hps%22%3afalse%2c%22iqp%22%3atrue%7d%5d%7d\n",
      "thumbnail : {'thumbnailUrl': 'https://tse3.mm.bing.net/th?q=Donald+Trump&pid=Api&mkt=nl-BE&adlt=moderate&t=1'}\n",
      "-------------------------------------------------- \n",
      "\n",
      "text      : Barack Obama\n",
      "displayText: Barack Obama\n",
      "webSearchUrl: https://www.bing.com/images/search?q=Barack+Obama&tq=%7b%22pq%22%3a%22Bill+Gates%22%2c%22qs%22%3a%5b%7b%22cv%22%3a%22Bill+Gates%22%2c%22pv%22%3a%22Bill+Gates%22%2c%22hps%22%3atrue%2c%22iqp%22%3afalse%7d%2c%7b%22cv%22%3a%22Barack+Obama%22%2c%22pv%22%3a%22%22%2c%22hps%22%3afalse%2c%22iqp%22%3atrue%7d%5d%7d&FORM=IRQBPS\n",
      "searchLink: https://api.bing.microsoft.com/api/v7/images/search?q=Barack+Obama&tq=%7b%22pq%22%3a%22Bill+Gates%22%2c%22qs%22%3a%5b%7b%22cv%22%3a%22Bill+Gates%22%2c%22pv%22%3a%22Bill+Gates%22%2c%22hps%22%3atrue%2c%22iqp%22%3afalse%7d%2c%7b%22cv%22%3a%22Barack+Obama%22%2c%22pv%22%3a%22%22%2c%22hps%22%3afalse%2c%22iqp%22%3atrue%7d%5d%7d\n",
      "thumbnail : {'thumbnailUrl': 'https://tse3.mm.bing.net/th?q=Barack+Obama&pid=Api&mkt=nl-BE&adlt=moderate&t=1'}\n",
      "-------------------------------------------------- \n",
      "\n",
      "text      : Oprah Winfrey\n",
      "displayText: Oprah Winfrey\n",
      "webSearchUrl: https://www.bing.com/images/search?q=Oprah+Winfrey&tq=%7b%22pq%22%3a%22Bill+Gates%22%2c%22qs%22%3a%5b%7b%22cv%22%3a%22Bill+Gates%22%2c%22pv%22%3a%22Bill+Gates%22%2c%22hps%22%3atrue%2c%22iqp%22%3afalse%7d%2c%7b%22cv%22%3a%22Oprah+Winfrey%22%2c%22pv%22%3a%22%22%2c%22hps%22%3afalse%2c%22iqp%22%3atrue%7d%5d%7d&FORM=IRQBPS\n",
      "searchLink: https://api.bing.microsoft.com/api/v7/images/search?q=Oprah+Winfrey&tq=%7b%22pq%22%3a%22Bill+Gates%22%2c%22qs%22%3a%5b%7b%22cv%22%3a%22Bill+Gates%22%2c%22pv%22%3a%22Bill+Gates%22%2c%22hps%22%3atrue%2c%22iqp%22%3afalse%7d%2c%7b%22cv%22%3a%22Oprah+Winfrey%22%2c%22pv%22%3a%22%22%2c%22hps%22%3afalse%2c%22iqp%22%3atrue%7d%5d%7d\n",
      "thumbnail : {'thumbnailUrl': 'https://tse1.mm.bing.net/th?q=Oprah+Winfrey&pid=Api&mkt=nl-BE&adlt=moderate&t=1'}\n",
      "-------------------------------------------------- \n",
      "\n",
      "text      : Lisa Brennan-Jobs\n",
      "displayText: Lisa Brennan-Jobs\n",
      "webSearchUrl: https://www.bing.com/images/search?q=Lisa+Brennan-Jobs&tq=%7b%22pq%22%3a%22Bill+Gates%22%2c%22qs%22%3a%5b%7b%22cv%22%3a%22Bill+Gates%22%2c%22pv%22%3a%22Bill+Gates%22%2c%22hps%22%3atrue%2c%22iqp%22%3afalse%7d%2c%7b%22cv%22%3a%22Lisa+Brennan-Jobs%22%2c%22pv%22%3a%22%22%2c%22hps%22%3afalse%2c%22iqp%22%3atrue%7d%5d%7d&FORM=IRQBPS\n",
      "searchLink: https://api.bing.microsoft.com/api/v7/images/search?q=Lisa+Brennan-Jobs&tq=%7b%22pq%22%3a%22Bill+Gates%22%2c%22qs%22%3a%5b%7b%22cv%22%3a%22Bill+Gates%22%2c%22pv%22%3a%22Bill+Gates%22%2c%22hps%22%3atrue%2c%22iqp%22%3afalse%7d%2c%7b%22cv%22%3a%22Lisa+Brennan-Jobs%22%2c%22pv%22%3a%22%22%2c%22hps%22%3afalse%2c%22iqp%22%3atrue%7d%5d%7d\n",
      "thumbnail : {'thumbnailUrl': 'https://tse1.mm.bing.net/th?q=Lisa+Brennan-Jobs&pid=Api&mkt=nl-BE&adlt=moderate&t=1'}\n",
      "-------------------------------------------------- \n",
      "\n",
      "text      : Tim Cook\n",
      "displayText: Tim Cook\n",
      "webSearchUrl: https://www.bing.com/images/search?q=Tim+Cook&tq=%7b%22pq%22%3a%22Bill+Gates%22%2c%22qs%22%3a%5b%7b%22cv%22%3a%22Bill+Gates%22%2c%22pv%22%3a%22Bill+Gates%22%2c%22hps%22%3atrue%2c%22iqp%22%3afalse%7d%2c%7b%22cv%22%3a%22Tim+Cook%22%2c%22pv%22%3a%22%22%2c%22hps%22%3afalse%2c%22iqp%22%3atrue%7d%5d%7d&FORM=IRQBPS\n",
      "searchLink: https://api.bing.microsoft.com/api/v7/images/search?q=Tim+Cook&tq=%7b%22pq%22%3a%22Bill+Gates%22%2c%22qs%22%3a%5b%7b%22cv%22%3a%22Bill+Gates%22%2c%22pv%22%3a%22Bill+Gates%22%2c%22hps%22%3atrue%2c%22iqp%22%3afalse%7d%2c%7b%22cv%22%3a%22Tim+Cook%22%2c%22pv%22%3a%22%22%2c%22hps%22%3afalse%2c%22iqp%22%3atrue%7d%5d%7d\n",
      "thumbnail : {'thumbnailUrl': 'https://tse1.mm.bing.net/th?q=Tim+Cook&pid=Api&mkt=nl-BE&adlt=moderate&t=1'}\n",
      "-------------------------------------------------- \n",
      "\n",
      "text      : Stephen Hawking\n",
      "displayText: Stephen Hawking\n",
      "webSearchUrl: https://www.bing.com/images/search?q=Stephen+Hawking&tq=%7b%22pq%22%3a%22Bill+Gates%22%2c%22qs%22%3a%5b%7b%22cv%22%3a%22Bill+Gates%22%2c%22pv%22%3a%22Bill+Gates%22%2c%22hps%22%3atrue%2c%22iqp%22%3afalse%7d%2c%7b%22cv%22%3a%22Stephen+Hawking%22%2c%22pv%22%3a%22%22%2c%22hps%22%3afalse%2c%22iqp%22%3atrue%7d%5d%7d&FORM=IRQBPS\n",
      "searchLink: https://api.bing.microsoft.com/api/v7/images/search?q=Stephen+Hawking&tq=%7b%22pq%22%3a%22Bill+Gates%22%2c%22qs%22%3a%5b%7b%22cv%22%3a%22Bill+Gates%22%2c%22pv%22%3a%22Bill+Gates%22%2c%22hps%22%3atrue%2c%22iqp%22%3afalse%7d%2c%7b%22cv%22%3a%22Stephen+Hawking%22%2c%22pv%22%3a%22%22%2c%22hps%22%3afalse%2c%22iqp%22%3atrue%7d%5d%7d\n",
      "thumbnail : {'thumbnailUrl': 'https://tse1.mm.bing.net/th?q=Stephen+Hawking&pid=Api&mkt=nl-BE&adlt=moderate&t=1'}\n",
      "-------------------------------------------------- \n",
      "\n",
      "text      : Walt Disney\n",
      "displayText: Walt Disney\n",
      "webSearchUrl: https://www.bing.com/images/search?q=Walt+Disney&tq=%7b%22pq%22%3a%22Bill+Gates%22%2c%22qs%22%3a%5b%7b%22cv%22%3a%22Bill+Gates%22%2c%22pv%22%3a%22Bill+Gates%22%2c%22hps%22%3atrue%2c%22iqp%22%3afalse%7d%2c%7b%22cv%22%3a%22Walt+Disney%22%2c%22pv%22%3a%22%22%2c%22hps%22%3afalse%2c%22iqp%22%3atrue%7d%5d%7d&FORM=IRQBPS\n",
      "searchLink: https://api.bing.microsoft.com/api/v7/images/search?q=Walt+Disney&tq=%7b%22pq%22%3a%22Bill+Gates%22%2c%22qs%22%3a%5b%7b%22cv%22%3a%22Bill+Gates%22%2c%22pv%22%3a%22Bill+Gates%22%2c%22hps%22%3atrue%2c%22iqp%22%3afalse%7d%2c%7b%22cv%22%3a%22Walt+Disney%22%2c%22pv%22%3a%22%22%2c%22hps%22%3afalse%2c%22iqp%22%3atrue%7d%5d%7d\n",
      "thumbnail : {'thumbnailUrl': 'https://tse3.mm.bing.net/th?q=Walt+Disney&pid=Api&mkt=nl-BE&adlt=moderate&t=1'}\n",
      "-------------------------------------------------- \n",
      "\n",
      "text      : Microsoft\n",
      "displayText: Microsoft\n",
      "webSearchUrl: https://www.bing.com/images/search?q=Microsoft&tq=%7b%22pq%22%3a%22Bill+Gates%22%2c%22qs%22%3a%5b%7b%22cv%22%3a%22Bill+Gates%22%2c%22pv%22%3a%22Bill+Gates%22%2c%22hps%22%3atrue%2c%22iqp%22%3afalse%7d%2c%7b%22cv%22%3a%22Microsoft%22%2c%22pv%22%3a%22%22%2c%22hps%22%3afalse%2c%22iqp%22%3atrue%7d%5d%7d&FORM=IRQBPS\n",
      "searchLink: https://api.bing.microsoft.com/api/v7/images/search?q=Microsoft&tq=%7b%22pq%22%3a%22Bill+Gates%22%2c%22qs%22%3a%5b%7b%22cv%22%3a%22Bill+Gates%22%2c%22pv%22%3a%22Bill+Gates%22%2c%22hps%22%3atrue%2c%22iqp%22%3afalse%7d%2c%7b%22cv%22%3a%22Microsoft%22%2c%22pv%22%3a%22%22%2c%22hps%22%3afalse%2c%22iqp%22%3atrue%7d%5d%7d\n",
      "thumbnail : {'thumbnailUrl': 'https://tse3.mm.bing.net/th?q=Microsoft&pid=Api&mkt=nl-BE&adlt=moderate&t=1'}\n",
      "-------------------------------------------------- \n",
      "\n"
     ]
    }
   ],
   "source": [
    "for s in img['pivotSuggestions'][0]['suggestions']:\n",
    "  for k,v in s.items():\n",
    "    print('{:10s}: {}'.format(k,v))\n",
    "  print('-'*50, '\\n')"
   ]
  },
  {
   "cell_type": "code",
   "execution_count": null,
   "metadata": {
    "id": "ubbVx7YjR5Rz"
   },
   "outputs": [],
   "source": []
  },
  {
   "cell_type": "markdown",
   "metadata": {
    "id": "XjVyE2VZR5ZH"
   },
   "source": [
    "### Related Searches"
   ]
  },
  {
   "cell_type": "code",
   "execution_count": 89,
   "metadata": {
    "colab": {
     "base_uri": "https://localhost:8080/"
    },
    "executionInfo": {
     "elapsed": 536,
     "status": "ok",
     "timestamp": 1631907702497,
     "user": {
      "displayName": "Siddhartha Shanmuhavel",
      "photoUrl": "https://lh3.googleusercontent.com/a/default-user=s64",
      "userId": "05346328597111107310"
     },
     "user_tz": -60
    },
    "id": "HnBvp-duRowF",
    "outputId": "c3a6392f-d7ba-4aa9-bee6-274ab83e0b6e"
   },
   "outputs": [
    {
     "name": "stdout",
     "output_type": "stream",
     "text": [
      "text      : Bill Gates Cartoon\n",
      "displayText: Bill Gates Cartoon\n",
      "webSearchUrl: https://www.bing.com/images/search?q=Bill+Gates+Cartoon&FORM=IRPATC\n",
      "searchLink: https://api.bing.microsoft.com/api/v7/images/search?q=Bill+Gates+Cartoon\n",
      "thumbnail : {'thumbnailUrl': 'https://tse2.mm.bing.net/th?q=Bill+Gates+Cartoon&pid=Api&mkt=nl-BE&adlt=moderate&t=1'}\n",
      "-------------------------------------------------- \n",
      "\n",
      "text      : Bill Gates House\n",
      "displayText: Bill Gates House\n",
      "webSearchUrl: https://www.bing.com/images/search?q=Bill+Gates+House&FORM=IRPATC\n",
      "searchLink: https://api.bing.microsoft.com/api/v7/images/search?q=Bill+Gates+House\n",
      "thumbnail : {'thumbnailUrl': 'https://tse4.mm.bing.net/th?q=Bill+Gates+House&pid=Api&mkt=nl-BE&adlt=moderate&t=1'}\n",
      "-------------------------------------------------- \n",
      "\n",
      "text      : Bill Gates Melinda\n",
      "displayText: Bill Gates Melinda\n",
      "webSearchUrl: https://www.bing.com/images/search?q=Bill+Gates+Melinda&FORM=IRPATC\n",
      "searchLink: https://api.bing.microsoft.com/api/v7/images/search?q=Bill+Gates+Melinda\n",
      "thumbnail : {'thumbnailUrl': 'https://tse4.mm.bing.net/th?q=Bill+Gates+Melinda&pid=Api&mkt=nl-BE&adlt=moderate&t=1'}\n",
      "-------------------------------------------------- \n",
      "\n",
      "text      : Bill Gates Vaccin\n",
      "displayText: Bill Gates Vaccin\n",
      "webSearchUrl: https://www.bing.com/images/search?q=Bill+Gates+Vaccin&FORM=IRPATC\n",
      "searchLink: https://api.bing.microsoft.com/api/v7/images/search?q=Bill+Gates+Vaccin\n",
      "thumbnail : {'thumbnailUrl': 'https://tse2.mm.bing.net/th?q=Bill+Gates+Vaccin&pid=Api&mkt=nl-BE&adlt=moderate&t=1'}\n",
      "-------------------------------------------------- \n",
      "\n",
      "text      : Bill Gates Quotes\n",
      "displayText: Bill Gates Quotes\n",
      "webSearchUrl: https://www.bing.com/images/search?q=Bill+Gates+Quotes&FORM=IRPATC\n",
      "searchLink: https://api.bing.microsoft.com/api/v7/images/search?q=Bill+Gates+Quotes\n",
      "thumbnail : {'thumbnailUrl': 'https://tse1.mm.bing.net/th?q=Bill+Gates+Quotes&pid=Api&mkt=nl-BE&adlt=moderate&t=1'}\n",
      "-------------------------------------------------- \n",
      "\n",
      "text      : Huis Bill Gates\n",
      "displayText: Huis Bill Gates\n",
      "webSearchUrl: https://www.bing.com/images/search?q=Huis+Bill+Gates&FORM=IRPATC\n",
      "searchLink: https://api.bing.microsoft.com/api/v7/images/search?q=Huis+Bill+Gates\n",
      "thumbnail : {'thumbnailUrl': 'https://tse3.mm.bing.net/th?q=Huis+Bill+Gates&pid=Api&mkt=nl-BE&adlt=moderate&t=1'}\n",
      "-------------------------------------------------- \n",
      "\n",
      "text      : Work of Bill Gates\n",
      "displayText: Work of Bill Gates\n",
      "webSearchUrl: https://www.bing.com/images/search?q=Work+of+Bill+Gates&FORM=IRPATC\n",
      "searchLink: https://api.bing.microsoft.com/api/v7/images/search?q=Work+of+Bill+Gates\n",
      "thumbnail : {'thumbnailUrl': 'https://tse2.mm.bing.net/th?q=Work+of+Bill+Gates&pid=Api&mkt=nl-BE&adlt=moderate&t=1'}\n",
      "-------------------------------------------------- \n",
      "\n",
      "text      : Bill Gates Kinderen\n",
      "displayText: Bill Gates Kinderen\n",
      "webSearchUrl: https://www.bing.com/images/search?q=Bill+Gates+Kinderen&FORM=IRPATC\n",
      "searchLink: https://api.bing.microsoft.com/api/v7/images/search?q=Bill+Gates+Kinderen\n",
      "thumbnail : {'thumbnailUrl': 'https://tse2.mm.bing.net/th?q=Bill+Gates+Kinderen&pid=Api&mkt=nl-BE&adlt=moderate&t=1'}\n",
      "-------------------------------------------------- \n",
      "\n",
      "text      : Bill Gates Foundation\n",
      "displayText: Bill Gates Foundation\n",
      "webSearchUrl: https://www.bing.com/images/search?q=Bill+Gates+Foundation&FORM=IRPATC\n",
      "searchLink: https://api.bing.microsoft.com/api/v7/images/search?q=Bill+Gates+Foundation\n",
      "thumbnail : {'thumbnailUrl': 'https://tse1.mm.bing.net/th?q=Bill+Gates+Foundation&pid=Api&mkt=nl-BE&adlt=moderate&t=1'}\n",
      "-------------------------------------------------- \n",
      "\n",
      "text      : Bill Gates Corona\n",
      "displayText: Bill Gates Corona\n",
      "webSearchUrl: https://www.bing.com/images/search?q=Bill+Gates+Corona&FORM=IRPATC\n",
      "searchLink: https://api.bing.microsoft.com/api/v7/images/search?q=Bill+Gates+Corona\n",
      "thumbnail : {'thumbnailUrl': 'https://tse4.mm.bing.net/th?q=Bill+Gates+Corona&pid=Api&mkt=nl-BE&adlt=moderate&t=1'}\n",
      "-------------------------------------------------- \n",
      "\n",
      "text      : Bill Gates Inspiration\n",
      "displayText: Bill Gates Inspiration\n",
      "webSearchUrl: https://www.bing.com/images/search?q=Bill+Gates+Inspiration&FORM=IRPATC\n",
      "searchLink: https://api.bing.microsoft.com/api/v7/images/search?q=Bill+Gates+Inspiration\n",
      "thumbnail : {'thumbnailUrl': 'https://tse2.mm.bing.net/th?q=Bill+Gates+Inspiration&pid=Api&mkt=nl-BE&adlt=moderate&t=1'}\n",
      "-------------------------------------------------- \n",
      "\n",
      "text      : Bill Gates with Mask\n",
      "displayText: Bill Gates with Mask\n",
      "webSearchUrl: https://www.bing.com/images/search?q=Bill+Gates+with+Mask&FORM=IRPATC\n",
      "searchLink: https://api.bing.microsoft.com/api/v7/images/search?q=Bill+Gates+with+Mask\n",
      "thumbnail : {'thumbnailUrl': 'https://tse2.mm.bing.net/th?q=Bill+Gates+with+Mask&pid=Api&mkt=nl-BE&adlt=moderate&t=1'}\n",
      "-------------------------------------------------- \n",
      "\n",
      "text      : Bill Gates Car\n",
      "displayText: Bill Gates Car\n",
      "webSearchUrl: https://www.bing.com/images/search?q=Bill+Gates+Car&FORM=IRPATC\n",
      "searchLink: https://api.bing.microsoft.com/api/v7/images/search?q=Bill+Gates+Car\n",
      "thumbnail : {'thumbnailUrl': 'https://tse2.mm.bing.net/th?q=Bill+Gates+Car&pid=Api&mkt=nl-BE&adlt=moderate&t=1'}\n",
      "-------------------------------------------------- \n",
      "\n",
      "text      : Bill Gates PNG\n",
      "displayText: Bill Gates PNG\n",
      "webSearchUrl: https://www.bing.com/images/search?q=Bill+Gates+PNG&FORM=IRPATC\n",
      "searchLink: https://api.bing.microsoft.com/api/v7/images/search?q=Bill+Gates+PNG\n",
      "thumbnail : {'thumbnailUrl': 'https://tse1.mm.bing.net/th?q=Bill+Gates+PNG&pid=Api&mkt=nl-BE&adlt=moderate&t=1'}\n",
      "-------------------------------------------------- \n",
      "\n",
      "text      : Bill Gates Animation\n",
      "displayText: Bill Gates Animation\n",
      "webSearchUrl: https://www.bing.com/images/search?q=Bill+Gates+Animation&FORM=IRPATC\n",
      "searchLink: https://api.bing.microsoft.com/api/v7/images/search?q=Bill+Gates+Animation\n",
      "thumbnail : {'thumbnailUrl': 'https://tse2.mm.bing.net/th?q=Bill+Gates+Animation&pid=Api&mkt=nl-BE&adlt=moderate&t=1'}\n",
      "-------------------------------------------------- \n",
      "\n",
      "text      : Foto Bill Gates\n",
      "displayText: Foto Bill Gates\n",
      "webSearchUrl: https://www.bing.com/images/search?q=Foto+Bill+Gates&FORM=IRPATC\n",
      "searchLink: https://api.bing.microsoft.com/api/v7/images/search?q=Foto+Bill+Gates\n",
      "thumbnail : {'thumbnailUrl': 'https://tse2.mm.bing.net/th?q=Foto+Bill+Gates&pid=Api&mkt=nl-BE&adlt=moderate&t=1'}\n",
      "-------------------------------------------------- \n",
      "\n",
      "text      : Huis Van Bill Gates\n",
      "displayText: Huis Van Bill Gates\n",
      "webSearchUrl: https://www.bing.com/images/search?q=Huis+Van+Bill+Gates&FORM=IRPATC\n",
      "searchLink: https://api.bing.microsoft.com/api/v7/images/search?q=Huis+Van+Bill+Gates\n",
      "thumbnail : {'thumbnailUrl': 'https://tse4.mm.bing.net/th?q=Huis+Van+Bill+Gates&pid=Api&mkt=nl-BE&adlt=moderate&t=1'}\n",
      "-------------------------------------------------- \n",
      "\n",
      "text      : Bill Gates Thoughts\n",
      "displayText: Bill Gates Thoughts\n",
      "webSearchUrl: https://www.bing.com/images/search?q=Bill+Gates+Thoughts&FORM=IRPATC\n",
      "searchLink: https://api.bing.microsoft.com/api/v7/images/search?q=Bill+Gates+Thoughts\n",
      "thumbnail : {'thumbnailUrl': 'https://tse4.mm.bing.net/th?q=Bill+Gates+Thoughts&pid=Api&mkt=nl-BE&adlt=moderate&t=1'}\n",
      "-------------------------------------------------- \n",
      "\n",
      "text      : Bill Gates Microchip\n",
      "displayText: Bill Gates Microchip\n",
      "webSearchUrl: https://www.bing.com/images/search?q=Bill+Gates+Microchip&FORM=IRPATC\n",
      "searchLink: https://api.bing.microsoft.com/api/v7/images/search?q=Bill+Gates+Microchip\n",
      "thumbnail : {'thumbnailUrl': 'https://tse2.mm.bing.net/th?q=Bill+Gates+Microchip&pid=Api&mkt=nl-BE&adlt=moderate&t=1'}\n",
      "-------------------------------------------------- \n",
      "\n",
      "text      : Bill Gates Books\n",
      "displayText: Bill Gates Books\n",
      "webSearchUrl: https://www.bing.com/images/search?q=Bill+Gates+Books&FORM=IRPATC\n",
      "searchLink: https://api.bing.microsoft.com/api/v7/images/search?q=Bill+Gates+Books\n",
      "thumbnail : {'thumbnailUrl': 'https://tse4.mm.bing.net/th?q=Bill+Gates+Books&pid=Api&mkt=nl-BE&adlt=moderate&t=1'}\n",
      "-------------------------------------------------- \n",
      "\n",
      "text      : Bill Gates Office\n",
      "displayText: Bill Gates Office\n",
      "webSearchUrl: https://www.bing.com/images/search?q=Bill+Gates+Office&FORM=IRPATC\n",
      "searchLink: https://api.bing.microsoft.com/api/v7/images/search?q=Bill+Gates+Office\n",
      "thumbnail : {'thumbnailUrl': 'https://tse4.mm.bing.net/th?q=Bill+Gates+Office&pid=Api&mkt=nl-BE&adlt=moderate&t=1'}\n",
      "-------------------------------------------------- \n",
      "\n",
      "text      : Bill Gates Infographic\n",
      "displayText: Bill Gates Infographic\n",
      "webSearchUrl: https://www.bing.com/images/search?q=Bill+Gates+Infographic&FORM=IRPATC\n",
      "searchLink: https://api.bing.microsoft.com/api/v7/images/search?q=Bill+Gates+Infographic\n",
      "thumbnail : {'thumbnailUrl': 'https://tse4.mm.bing.net/th?q=Bill+Gates+Infographic&pid=Api&mkt=nl-BE&adlt=moderate&t=1'}\n",
      "-------------------------------------------------- \n",
      "\n",
      "text      : Bill Gates Reading\n",
      "displayText: Bill Gates Reading\n",
      "webSearchUrl: https://www.bing.com/images/search?q=Bill+Gates+Reading&FORM=IRPATC\n",
      "searchLink: https://api.bing.microsoft.com/api/v7/images/search?q=Bill+Gates+Reading\n",
      "thumbnail : {'thumbnailUrl': 'https://tse2.mm.bing.net/th?q=Bill+Gates+Reading&pid=Api&mkt=nl-BE&adlt=moderate&t=1'}\n",
      "-------------------------------------------------- \n",
      "\n",
      "text      : Bill Gates Famous Quotes\n",
      "displayText: Bill Gates Famous Quotes\n",
      "webSearchUrl: https://www.bing.com/images/search?q=Bill+Gates+Famous+Quotes&FORM=IRPATC\n",
      "searchLink: https://api.bing.microsoft.com/api/v7/images/search?q=Bill+Gates+Famous+Quotes\n",
      "thumbnail : {'thumbnailUrl': 'https://tse2.mm.bing.net/th?q=Bill+Gates+Famous+Quotes&pid=Api&mkt=nl-BE&adlt=moderate&t=1'}\n",
      "-------------------------------------------------- \n",
      "\n",
      "text      : Bill Gates Face\n",
      "displayText: Bill Gates Face\n",
      "webSearchUrl: https://www.bing.com/images/search?q=Bill+Gates+Face&FORM=IRPATC\n",
      "searchLink: https://api.bing.microsoft.com/api/v7/images/search?q=Bill+Gates+Face\n",
      "thumbnail : {'thumbnailUrl': 'https://tse1.mm.bing.net/th?q=Bill+Gates+Face&pid=Api&mkt=nl-BE&adlt=moderate&t=1'}\n",
      "-------------------------------------------------- \n",
      "\n",
      "text      : Bill Gates Inside House\n",
      "displayText: Bill Gates Inside House\n",
      "webSearchUrl: https://www.bing.com/images/search?q=Bill+Gates+Inside+House&FORM=IRPATC\n",
      "searchLink: https://api.bing.microsoft.com/api/v7/images/search?q=Bill+Gates+Inside+House\n",
      "thumbnail : {'thumbnailUrl': 'https://tse2.mm.bing.net/th?q=Bill+Gates+Inside+House&pid=Api&mkt=nl-BE&adlt=moderate&t=1'}\n",
      "-------------------------------------------------- \n",
      "\n",
      "text      : Bill Gates Memes\n",
      "displayText: Bill Gates Memes\n",
      "webSearchUrl: https://www.bing.com/images/search?q=Bill+Gates+Memes&FORM=IRPATC\n",
      "searchLink: https://api.bing.microsoft.com/api/v7/images/search?q=Bill+Gates+Memes\n",
      "thumbnail : {'thumbnailUrl': 'https://tse3.mm.bing.net/th?q=Bill+Gates+Memes&pid=Api&mkt=nl-BE&adlt=moderate&t=1'}\n",
      "-------------------------------------------------- \n",
      "\n",
      "text      : Mark Rutte Bill Gates\n",
      "displayText: Mark Rutte Bill Gates\n",
      "webSearchUrl: https://www.bing.com/images/search?q=Mark+Rutte+Bill+Gates&FORM=IRPATC\n",
      "searchLink: https://api.bing.microsoft.com/api/v7/images/search?q=Mark+Rutte+Bill+Gates\n",
      "thumbnail : {'thumbnailUrl': 'https://tse1.mm.bing.net/th?q=Mark+Rutte+Bill+Gates&pid=Api&mkt=nl-BE&adlt=moderate&t=1'}\n",
      "-------------------------------------------------- \n",
      "\n",
      "text      : Bill Gates Desk\n",
      "displayText: Bill Gates Desk\n",
      "webSearchUrl: https://www.bing.com/images/search?q=Bill+Gates+Desk&FORM=IRPATC\n",
      "searchLink: https://api.bing.microsoft.com/api/v7/images/search?q=Bill+Gates+Desk\n",
      "thumbnail : {'thumbnailUrl': 'https://tse1.mm.bing.net/th?q=Bill+Gates+Desk&pid=Api&mkt=nl-BE&adlt=moderate&t=1'}\n",
      "-------------------------------------------------- \n",
      "\n",
      "text      : Bill Gates Money\n",
      "displayText: Bill Gates Money\n",
      "webSearchUrl: https://www.bing.com/images/search?q=Bill+Gates+Money&FORM=IRPATC\n",
      "searchLink: https://api.bing.microsoft.com/api/v7/images/search?q=Bill+Gates+Money\n",
      "thumbnail : {'thumbnailUrl': 'https://tse2.mm.bing.net/th?q=Bill+Gates+Money&pid=Api&mkt=nl-BE&adlt=moderate&t=1'}\n",
      "-------------------------------------------------- \n",
      "\n"
     ]
    }
   ],
   "source": [
    "for rs in img['relatedSearches']:\n",
    "  for k,v in rs.items():\n",
    "    print('{:10s}: {}'.format(k,v))\n",
    "  print('-'*50, '\\n')"
   ]
  },
  {
   "cell_type": "code",
   "execution_count": null,
   "metadata": {
    "id": "QYRdsDmhR-mP"
   },
   "outputs": [],
   "source": []
  },
  {
   "cell_type": "markdown",
   "metadata": {
    "id": "n0xYMOxYR-t9"
   },
   "source": [
    "### Image search Results"
   ]
  },
  {
   "cell_type": "code",
   "execution_count": 90,
   "metadata": {
    "colab": {
     "base_uri": "https://localhost:8080/",
     "height": 1000,
     "output_embedded_package_id": "1YelQGARhPlHKX6Vvp6T7AKfT7iSzYqxv"
    },
    "executionInfo": {
     "elapsed": 10976,
     "status": "ok",
     "timestamp": 1631907781277,
     "user": {
      "displayName": "Siddhartha Shanmuhavel",
      "photoUrl": "https://lh3.googleusercontent.com/a/default-user=s64",
      "userId": "05346328597111107310"
     },
     "user_tz": -60
    },
    "id": "0HJLCZJ4SEUw",
    "outputId": "cc9d7e9e-94d1-4815-b976-e397fe4be07a"
   },
   "outputs": [
    {
     "data": {
      "text/plain": [
       "Output hidden; open in https://colab.research.google.com to view."
      ]
     },
     "metadata": {},
     "output_type": "display_data"
    }
   ],
   "source": [
    "for val in img['value']:\n",
    "  show_img(val['thumbnailUrl'])\n",
    "  for k,v in val.items():\n",
    "    print('{:10s}: {}'.format(k,v))\n",
    "  print('-'*50, '\\n')"
   ]
  },
  {
   "cell_type": "code",
   "execution_count": null,
   "metadata": {
    "id": "147Hldx7SG05"
   },
   "outputs": [],
   "source": []
  }
 ],
 "metadata": {
  "accelerator": "GPU",
  "colab": {
   "authorship_tag": "ABX9TyNUrrmHYl2tiLN0BHZ64Z9E",
   "collapsed_sections": [],
   "mount_file_id": "1TQF49qeTxXmQoPAnYSiVsw6TWnQNXm72",
   "name": "BingSearchAPI_Python.ipynb",
   "provenance": []
  },
  "kernelspec": {
   "display_name": "Python 3",
   "language": "python",
   "name": "python3"
  },
  "language_info": {
   "codemirror_mode": {
    "name": "ipython",
    "version": 3
   },
   "file_extension": ".py",
   "mimetype": "text/x-python",
   "name": "python",
   "nbconvert_exporter": "python",
   "pygments_lexer": "ipython3",
   "version": "3.7.4"
  }
 },
 "nbformat": 4,
 "nbformat_minor": 1
}
